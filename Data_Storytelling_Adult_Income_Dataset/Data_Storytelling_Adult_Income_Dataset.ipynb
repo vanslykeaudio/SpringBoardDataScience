{
 "cells": [
  {
   "cell_type": "markdown",
   "metadata": {},
   "source": [
    "# Springboard Data Science Boot Camp - Data Storytelling Project: Adult Income\n",
    "\n",
    "## Objectives:\n",
    "\n",
    "- Briefly explore the data and perform what cleaning is necessary.\n",
    "    - look for NaN, Datatypes, and drop/impute data as seems pertinent\n",
    "- More thoroughly explore the data and formulate a story around it.\n",
    "    - histograms\n",
    "    - barcharts\n",
    "    - heatmaps\n",
    "    - boxplots\n",
    "    - scatterplots\n",
    "    - pairplot\n",
    "    - etc.\n",
    "    - Question the data:\n",
    "        - Can I count something interesting?\n",
    "        - Can I find trends (e.g. high, low, increasing, decreasing, anomalies)?\n",
    "        - Can I make a bar plot or a histogram?\n",
    "        - Can I compare two related quantities?\n",
    "        - Can I make a scatterplot?\n",
    "        - Can I make a time-series plot?\n",
    "        - Looking at the plots, what are some insights I can make?\n",
    "        - Can I see any correlations?\n",
    "        - Is there a hypothesis I can - and should - investigate further?\n",
    "        - What other questions are the insights leading me to ask?\n",
    "- Present the data for a non-technical audience.\n",
    "    - Select what charts best explain the data story and make them as professionally presentable (As clear as possible)\n",
    "    - ensure that each graphic flows naturally within in the story and is clear enough such that anyone could understand it.\n",
    "    - ensure rubric standards and project objectives are met prior to submission."
   ]
  },
  {
   "cell_type": "markdown",
   "metadata": {},
   "source": [
    "### 1. Import modules and data and briefly explore/clean it ###"
   ]
  },
  {
   "cell_type": "code",
   "execution_count": 134,
   "metadata": {},
   "outputs": [],
   "source": [
    "# Import python modules\n",
    "import pandas as pd\n",
    "import matplotlib.pyplot as plt\n",
    "import seaborn as sns\n",
    "import numpy as np\n",
    "# Add more modules here as necessary\n",
    "from plotly import graph_objects as go\n"
   ]
  },
  {
   "cell_type": "code",
   "execution_count": 135,
   "metadata": {},
   "outputs": [
    {
     "data": {
      "text/html": [
       "<div>\n",
       "<style scoped>\n",
       "    .dataframe tbody tr th:only-of-type {\n",
       "        vertical-align: middle;\n",
       "    }\n",
       "\n",
       "    .dataframe tbody tr th {\n",
       "        vertical-align: top;\n",
       "    }\n",
       "\n",
       "    .dataframe thead th {\n",
       "        text-align: right;\n",
       "    }\n",
       "</style>\n",
       "<table border=\"1\" class=\"dataframe\">\n",
       "  <thead>\n",
       "    <tr style=\"text-align: right;\">\n",
       "      <th></th>\n",
       "      <th>age</th>\n",
       "      <th>workclass</th>\n",
       "      <th>fnlwgt</th>\n",
       "      <th>education</th>\n",
       "      <th>educational-num</th>\n",
       "      <th>marital-status</th>\n",
       "      <th>occupation</th>\n",
       "      <th>relationship</th>\n",
       "      <th>race</th>\n",
       "      <th>gender</th>\n",
       "      <th>capital-gain</th>\n",
       "      <th>capital-loss</th>\n",
       "      <th>hours-per-week</th>\n",
       "      <th>native-country</th>\n",
       "      <th>income</th>\n",
       "    </tr>\n",
       "  </thead>\n",
       "  <tbody>\n",
       "    <tr>\n",
       "      <th>0</th>\n",
       "      <td>25</td>\n",
       "      <td>Private</td>\n",
       "      <td>226802</td>\n",
       "      <td>11th</td>\n",
       "      <td>7</td>\n",
       "      <td>Never-married</td>\n",
       "      <td>Machine-op-inspct</td>\n",
       "      <td>Own-child</td>\n",
       "      <td>Black</td>\n",
       "      <td>Male</td>\n",
       "      <td>0</td>\n",
       "      <td>0</td>\n",
       "      <td>40</td>\n",
       "      <td>United-States</td>\n",
       "      <td>&lt;=50K</td>\n",
       "    </tr>\n",
       "    <tr>\n",
       "      <th>1</th>\n",
       "      <td>38</td>\n",
       "      <td>Private</td>\n",
       "      <td>89814</td>\n",
       "      <td>HS-grad</td>\n",
       "      <td>9</td>\n",
       "      <td>Married-civ-spouse</td>\n",
       "      <td>Farming-fishing</td>\n",
       "      <td>Husband</td>\n",
       "      <td>White</td>\n",
       "      <td>Male</td>\n",
       "      <td>0</td>\n",
       "      <td>0</td>\n",
       "      <td>50</td>\n",
       "      <td>United-States</td>\n",
       "      <td>&lt;=50K</td>\n",
       "    </tr>\n",
       "    <tr>\n",
       "      <th>2</th>\n",
       "      <td>28</td>\n",
       "      <td>Local-gov</td>\n",
       "      <td>336951</td>\n",
       "      <td>Assoc-acdm</td>\n",
       "      <td>12</td>\n",
       "      <td>Married-civ-spouse</td>\n",
       "      <td>Protective-serv</td>\n",
       "      <td>Husband</td>\n",
       "      <td>White</td>\n",
       "      <td>Male</td>\n",
       "      <td>0</td>\n",
       "      <td>0</td>\n",
       "      <td>40</td>\n",
       "      <td>United-States</td>\n",
       "      <td>&gt;50K</td>\n",
       "    </tr>\n",
       "    <tr>\n",
       "      <th>3</th>\n",
       "      <td>44</td>\n",
       "      <td>Private</td>\n",
       "      <td>160323</td>\n",
       "      <td>Some-college</td>\n",
       "      <td>10</td>\n",
       "      <td>Married-civ-spouse</td>\n",
       "      <td>Machine-op-inspct</td>\n",
       "      <td>Husband</td>\n",
       "      <td>Black</td>\n",
       "      <td>Male</td>\n",
       "      <td>7688</td>\n",
       "      <td>0</td>\n",
       "      <td>40</td>\n",
       "      <td>United-States</td>\n",
       "      <td>&gt;50K</td>\n",
       "    </tr>\n",
       "    <tr>\n",
       "      <th>4</th>\n",
       "      <td>18</td>\n",
       "      <td>?</td>\n",
       "      <td>103497</td>\n",
       "      <td>Some-college</td>\n",
       "      <td>10</td>\n",
       "      <td>Never-married</td>\n",
       "      <td>?</td>\n",
       "      <td>Own-child</td>\n",
       "      <td>White</td>\n",
       "      <td>Female</td>\n",
       "      <td>0</td>\n",
       "      <td>0</td>\n",
       "      <td>30</td>\n",
       "      <td>United-States</td>\n",
       "      <td>&lt;=50K</td>\n",
       "    </tr>\n",
       "    <tr>\n",
       "      <th>...</th>\n",
       "      <td>...</td>\n",
       "      <td>...</td>\n",
       "      <td>...</td>\n",
       "      <td>...</td>\n",
       "      <td>...</td>\n",
       "      <td>...</td>\n",
       "      <td>...</td>\n",
       "      <td>...</td>\n",
       "      <td>...</td>\n",
       "      <td>...</td>\n",
       "      <td>...</td>\n",
       "      <td>...</td>\n",
       "      <td>...</td>\n",
       "      <td>...</td>\n",
       "      <td>...</td>\n",
       "    </tr>\n",
       "    <tr>\n",
       "      <th>48837</th>\n",
       "      <td>27</td>\n",
       "      <td>Private</td>\n",
       "      <td>257302</td>\n",
       "      <td>Assoc-acdm</td>\n",
       "      <td>12</td>\n",
       "      <td>Married-civ-spouse</td>\n",
       "      <td>Tech-support</td>\n",
       "      <td>Wife</td>\n",
       "      <td>White</td>\n",
       "      <td>Female</td>\n",
       "      <td>0</td>\n",
       "      <td>0</td>\n",
       "      <td>38</td>\n",
       "      <td>United-States</td>\n",
       "      <td>&lt;=50K</td>\n",
       "    </tr>\n",
       "    <tr>\n",
       "      <th>48838</th>\n",
       "      <td>40</td>\n",
       "      <td>Private</td>\n",
       "      <td>154374</td>\n",
       "      <td>HS-grad</td>\n",
       "      <td>9</td>\n",
       "      <td>Married-civ-spouse</td>\n",
       "      <td>Machine-op-inspct</td>\n",
       "      <td>Husband</td>\n",
       "      <td>White</td>\n",
       "      <td>Male</td>\n",
       "      <td>0</td>\n",
       "      <td>0</td>\n",
       "      <td>40</td>\n",
       "      <td>United-States</td>\n",
       "      <td>&gt;50K</td>\n",
       "    </tr>\n",
       "    <tr>\n",
       "      <th>48839</th>\n",
       "      <td>58</td>\n",
       "      <td>Private</td>\n",
       "      <td>151910</td>\n",
       "      <td>HS-grad</td>\n",
       "      <td>9</td>\n",
       "      <td>Widowed</td>\n",
       "      <td>Adm-clerical</td>\n",
       "      <td>Unmarried</td>\n",
       "      <td>White</td>\n",
       "      <td>Female</td>\n",
       "      <td>0</td>\n",
       "      <td>0</td>\n",
       "      <td>40</td>\n",
       "      <td>United-States</td>\n",
       "      <td>&lt;=50K</td>\n",
       "    </tr>\n",
       "    <tr>\n",
       "      <th>48840</th>\n",
       "      <td>22</td>\n",
       "      <td>Private</td>\n",
       "      <td>201490</td>\n",
       "      <td>HS-grad</td>\n",
       "      <td>9</td>\n",
       "      <td>Never-married</td>\n",
       "      <td>Adm-clerical</td>\n",
       "      <td>Own-child</td>\n",
       "      <td>White</td>\n",
       "      <td>Male</td>\n",
       "      <td>0</td>\n",
       "      <td>0</td>\n",
       "      <td>20</td>\n",
       "      <td>United-States</td>\n",
       "      <td>&lt;=50K</td>\n",
       "    </tr>\n",
       "    <tr>\n",
       "      <th>48841</th>\n",
       "      <td>52</td>\n",
       "      <td>Self-emp-inc</td>\n",
       "      <td>287927</td>\n",
       "      <td>HS-grad</td>\n",
       "      <td>9</td>\n",
       "      <td>Married-civ-spouse</td>\n",
       "      <td>Exec-managerial</td>\n",
       "      <td>Wife</td>\n",
       "      <td>White</td>\n",
       "      <td>Female</td>\n",
       "      <td>15024</td>\n",
       "      <td>0</td>\n",
       "      <td>40</td>\n",
       "      <td>United-States</td>\n",
       "      <td>&gt;50K</td>\n",
       "    </tr>\n",
       "  </tbody>\n",
       "</table>\n",
       "<p>48842 rows × 15 columns</p>\n",
       "</div>"
      ],
      "text/plain": [
       "       age     workclass  fnlwgt     education  educational-num  \\\n",
       "0       25       Private  226802          11th                7   \n",
       "1       38       Private   89814       HS-grad                9   \n",
       "2       28     Local-gov  336951    Assoc-acdm               12   \n",
       "3       44       Private  160323  Some-college               10   \n",
       "4       18             ?  103497  Some-college               10   \n",
       "...    ...           ...     ...           ...              ...   \n",
       "48837   27       Private  257302    Assoc-acdm               12   \n",
       "48838   40       Private  154374       HS-grad                9   \n",
       "48839   58       Private  151910       HS-grad                9   \n",
       "48840   22       Private  201490       HS-grad                9   \n",
       "48841   52  Self-emp-inc  287927       HS-grad                9   \n",
       "\n",
       "           marital-status         occupation relationship   race  gender  \\\n",
       "0           Never-married  Machine-op-inspct    Own-child  Black    Male   \n",
       "1      Married-civ-spouse    Farming-fishing      Husband  White    Male   \n",
       "2      Married-civ-spouse    Protective-serv      Husband  White    Male   \n",
       "3      Married-civ-spouse  Machine-op-inspct      Husband  Black    Male   \n",
       "4           Never-married                  ?    Own-child  White  Female   \n",
       "...                   ...                ...          ...    ...     ...   \n",
       "48837  Married-civ-spouse       Tech-support         Wife  White  Female   \n",
       "48838  Married-civ-spouse  Machine-op-inspct      Husband  White    Male   \n",
       "48839             Widowed       Adm-clerical    Unmarried  White  Female   \n",
       "48840       Never-married       Adm-clerical    Own-child  White    Male   \n",
       "48841  Married-civ-spouse    Exec-managerial         Wife  White  Female   \n",
       "\n",
       "       capital-gain  capital-loss  hours-per-week native-country income  \n",
       "0                 0             0              40  United-States  <=50K  \n",
       "1                 0             0              50  United-States  <=50K  \n",
       "2                 0             0              40  United-States   >50K  \n",
       "3              7688             0              40  United-States   >50K  \n",
       "4                 0             0              30  United-States  <=50K  \n",
       "...             ...           ...             ...            ...    ...  \n",
       "48837             0             0              38  United-States  <=50K  \n",
       "48838             0             0              40  United-States   >50K  \n",
       "48839             0             0              40  United-States  <=50K  \n",
       "48840             0             0              20  United-States  <=50K  \n",
       "48841         15024             0              40  United-States   >50K  \n",
       "\n",
       "[48842 rows x 15 columns]"
      ]
     },
     "execution_count": 135,
     "metadata": {},
     "output_type": "execute_result"
    }
   ],
   "source": [
    "# Import the data\n",
    "df = pd.read_csv('./Data/adult.csv')\n",
    "df"
   ]
  },
  {
   "cell_type": "code",
   "execution_count": 136,
   "metadata": {},
   "outputs": [
    {
     "name": "stdout",
     "output_type": "stream",
     "text": [
      "<class 'pandas.core.frame.DataFrame'>\n",
      "RangeIndex: 48842 entries, 0 to 48841\n",
      "Data columns (total 15 columns):\n",
      " #   Column           Non-Null Count  Dtype \n",
      "---  ------           --------------  ----- \n",
      " 0   age              48842 non-null  int64 \n",
      " 1   workclass        48842 non-null  object\n",
      " 2   fnlwgt           48842 non-null  int64 \n",
      " 3   education        48842 non-null  object\n",
      " 4   educational-num  48842 non-null  int64 \n",
      " 5   marital-status   48842 non-null  object\n",
      " 6   occupation       48842 non-null  object\n",
      " 7   relationship     48842 non-null  object\n",
      " 8   race             48842 non-null  object\n",
      " 9   gender           48842 non-null  object\n",
      " 10  capital-gain     48842 non-null  int64 \n",
      " 11  capital-loss     48842 non-null  int64 \n",
      " 12  hours-per-week   48842 non-null  int64 \n",
      " 13  native-country   48842 non-null  object\n",
      " 14  income           48842 non-null  object\n",
      "dtypes: int64(6), object(9)\n",
      "memory usage: 5.6+ MB\n"
     ]
    }
   ],
   "source": [
    "df.info()"
   ]
  },
  {
   "cell_type": "code",
   "execution_count": 137,
   "metadata": {},
   "outputs": [
    {
     "data": {
      "text/html": [
       "<div>\n",
       "<style scoped>\n",
       "    .dataframe tbody tr th:only-of-type {\n",
       "        vertical-align: middle;\n",
       "    }\n",
       "\n",
       "    .dataframe tbody tr th {\n",
       "        vertical-align: top;\n",
       "    }\n",
       "\n",
       "    .dataframe thead th {\n",
       "        text-align: right;\n",
       "    }\n",
       "</style>\n",
       "<table border=\"1\" class=\"dataframe\">\n",
       "  <thead>\n",
       "    <tr style=\"text-align: right;\">\n",
       "      <th></th>\n",
       "      <th>age</th>\n",
       "      <th>fnlwgt</th>\n",
       "      <th>educational-num</th>\n",
       "      <th>capital-gain</th>\n",
       "      <th>capital-loss</th>\n",
       "      <th>hours-per-week</th>\n",
       "    </tr>\n",
       "  </thead>\n",
       "  <tbody>\n",
       "    <tr>\n",
       "      <th>count</th>\n",
       "      <td>48842.000000</td>\n",
       "      <td>4.884200e+04</td>\n",
       "      <td>48842.000000</td>\n",
       "      <td>48842.000000</td>\n",
       "      <td>48842.000000</td>\n",
       "      <td>48842.000000</td>\n",
       "    </tr>\n",
       "    <tr>\n",
       "      <th>mean</th>\n",
       "      <td>38.643585</td>\n",
       "      <td>1.896641e+05</td>\n",
       "      <td>10.078089</td>\n",
       "      <td>1079.067626</td>\n",
       "      <td>87.502314</td>\n",
       "      <td>40.422382</td>\n",
       "    </tr>\n",
       "    <tr>\n",
       "      <th>std</th>\n",
       "      <td>13.710510</td>\n",
       "      <td>1.056040e+05</td>\n",
       "      <td>2.570973</td>\n",
       "      <td>7452.019058</td>\n",
       "      <td>403.004552</td>\n",
       "      <td>12.391444</td>\n",
       "    </tr>\n",
       "    <tr>\n",
       "      <th>min</th>\n",
       "      <td>17.000000</td>\n",
       "      <td>1.228500e+04</td>\n",
       "      <td>1.000000</td>\n",
       "      <td>0.000000</td>\n",
       "      <td>0.000000</td>\n",
       "      <td>1.000000</td>\n",
       "    </tr>\n",
       "    <tr>\n",
       "      <th>25%</th>\n",
       "      <td>28.000000</td>\n",
       "      <td>1.175505e+05</td>\n",
       "      <td>9.000000</td>\n",
       "      <td>0.000000</td>\n",
       "      <td>0.000000</td>\n",
       "      <td>40.000000</td>\n",
       "    </tr>\n",
       "    <tr>\n",
       "      <th>50%</th>\n",
       "      <td>37.000000</td>\n",
       "      <td>1.781445e+05</td>\n",
       "      <td>10.000000</td>\n",
       "      <td>0.000000</td>\n",
       "      <td>0.000000</td>\n",
       "      <td>40.000000</td>\n",
       "    </tr>\n",
       "    <tr>\n",
       "      <th>75%</th>\n",
       "      <td>48.000000</td>\n",
       "      <td>2.376420e+05</td>\n",
       "      <td>12.000000</td>\n",
       "      <td>0.000000</td>\n",
       "      <td>0.000000</td>\n",
       "      <td>45.000000</td>\n",
       "    </tr>\n",
       "    <tr>\n",
       "      <th>max</th>\n",
       "      <td>90.000000</td>\n",
       "      <td>1.490400e+06</td>\n",
       "      <td>16.000000</td>\n",
       "      <td>99999.000000</td>\n",
       "      <td>4356.000000</td>\n",
       "      <td>99.000000</td>\n",
       "    </tr>\n",
       "  </tbody>\n",
       "</table>\n",
       "</div>"
      ],
      "text/plain": [
       "                age        fnlwgt  educational-num  capital-gain  \\\n",
       "count  48842.000000  4.884200e+04     48842.000000  48842.000000   \n",
       "mean      38.643585  1.896641e+05        10.078089   1079.067626   \n",
       "std       13.710510  1.056040e+05         2.570973   7452.019058   \n",
       "min       17.000000  1.228500e+04         1.000000      0.000000   \n",
       "25%       28.000000  1.175505e+05         9.000000      0.000000   \n",
       "50%       37.000000  1.781445e+05        10.000000      0.000000   \n",
       "75%       48.000000  2.376420e+05        12.000000      0.000000   \n",
       "max       90.000000  1.490400e+06        16.000000  99999.000000   \n",
       "\n",
       "       capital-loss  hours-per-week  \n",
       "count  48842.000000    48842.000000  \n",
       "mean      87.502314       40.422382  \n",
       "std      403.004552       12.391444  \n",
       "min        0.000000        1.000000  \n",
       "25%        0.000000       40.000000  \n",
       "50%        0.000000       40.000000  \n",
       "75%        0.000000       45.000000  \n",
       "max     4356.000000       99.000000  "
      ]
     },
     "execution_count": 137,
     "metadata": {},
     "output_type": "execute_result"
    }
   ],
   "source": [
    "df.describe()"
   ]
  },
  {
   "cell_type": "markdown",
   "metadata": {},
   "source": [
    "__Initial Impressions:__\n",
    "- There are no NaN values!\n",
    "- however some columns require clarification: \"fnlwgt\", \"educational-num\", \"capital-gain\", \"capital-loss\", \"income\"\n",
    "    - **fnlwgt** is the final weight assigned by a machine learning algorithm and perhaps should be dropped for our purposes\n",
    "    - **educational-num** is the number of years of education (not necessarily the highest degree of education achieved)\n",
    "    - **capital-gain/loss** are measure of gain or loss of capital. I assume this means investments in the stock market.\n",
    "    - **income** is the assumed earned income as calculated by a Machine learning model and only indicates above or belo 50k.\n",
    "        - Since it's not very clear, this column too should likely be dropped for our purposes. however it would be interesting to see how a machine learning model might predict these values."
   ]
  },
  {
   "cell_type": "markdown",
   "metadata": {},
   "source": [
    "Before exploring much further I will drop the **fnlwgt, capital-gain, and capital-loss** columns since the majority of data appears to be filled with 0's (in the capital-gain/loss columns) to account for a lack of data to that end and while it could be a strong indicator of ones' income, there's just not enough data provided there to justify it's use in our exploration.  as for fnlwgt this is a pre-assigned weight which I'm not sure whether I agree with it or not and it is a sum calcuation by some other entities work and so is not a core piece of data. "
   ]
  },
  {
   "cell_type": "code",
   "execution_count": 138,
   "metadata": {},
   "outputs": [
    {
     "data": {
      "text/html": [
       "<div>\n",
       "<style scoped>\n",
       "    .dataframe tbody tr th:only-of-type {\n",
       "        vertical-align: middle;\n",
       "    }\n",
       "\n",
       "    .dataframe tbody tr th {\n",
       "        vertical-align: top;\n",
       "    }\n",
       "\n",
       "    .dataframe thead th {\n",
       "        text-align: right;\n",
       "    }\n",
       "</style>\n",
       "<table border=\"1\" class=\"dataframe\">\n",
       "  <thead>\n",
       "    <tr style=\"text-align: right;\">\n",
       "      <th></th>\n",
       "      <th>age</th>\n",
       "      <th>workclass</th>\n",
       "      <th>education</th>\n",
       "      <th>educational-num</th>\n",
       "      <th>marital-status</th>\n",
       "      <th>occupation</th>\n",
       "      <th>relationship</th>\n",
       "      <th>race</th>\n",
       "      <th>gender</th>\n",
       "      <th>hours-per-week</th>\n",
       "      <th>native-country</th>\n",
       "      <th>income</th>\n",
       "    </tr>\n",
       "  </thead>\n",
       "  <tbody>\n",
       "    <tr>\n",
       "      <th>0</th>\n",
       "      <td>25</td>\n",
       "      <td>Private</td>\n",
       "      <td>11th</td>\n",
       "      <td>7</td>\n",
       "      <td>Never-married</td>\n",
       "      <td>Machine-op-inspct</td>\n",
       "      <td>Own-child</td>\n",
       "      <td>Black</td>\n",
       "      <td>Male</td>\n",
       "      <td>40</td>\n",
       "      <td>United-States</td>\n",
       "      <td>&lt;=50K</td>\n",
       "    </tr>\n",
       "    <tr>\n",
       "      <th>1</th>\n",
       "      <td>38</td>\n",
       "      <td>Private</td>\n",
       "      <td>HS-grad</td>\n",
       "      <td>9</td>\n",
       "      <td>Married-civ-spouse</td>\n",
       "      <td>Farming-fishing</td>\n",
       "      <td>Husband</td>\n",
       "      <td>White</td>\n",
       "      <td>Male</td>\n",
       "      <td>50</td>\n",
       "      <td>United-States</td>\n",
       "      <td>&lt;=50K</td>\n",
       "    </tr>\n",
       "    <tr>\n",
       "      <th>2</th>\n",
       "      <td>28</td>\n",
       "      <td>Local-gov</td>\n",
       "      <td>Assoc-acdm</td>\n",
       "      <td>12</td>\n",
       "      <td>Married-civ-spouse</td>\n",
       "      <td>Protective-serv</td>\n",
       "      <td>Husband</td>\n",
       "      <td>White</td>\n",
       "      <td>Male</td>\n",
       "      <td>40</td>\n",
       "      <td>United-States</td>\n",
       "      <td>&gt;50K</td>\n",
       "    </tr>\n",
       "    <tr>\n",
       "      <th>3</th>\n",
       "      <td>44</td>\n",
       "      <td>Private</td>\n",
       "      <td>Some-college</td>\n",
       "      <td>10</td>\n",
       "      <td>Married-civ-spouse</td>\n",
       "      <td>Machine-op-inspct</td>\n",
       "      <td>Husband</td>\n",
       "      <td>Black</td>\n",
       "      <td>Male</td>\n",
       "      <td>40</td>\n",
       "      <td>United-States</td>\n",
       "      <td>&gt;50K</td>\n",
       "    </tr>\n",
       "    <tr>\n",
       "      <th>4</th>\n",
       "      <td>18</td>\n",
       "      <td>?</td>\n",
       "      <td>Some-college</td>\n",
       "      <td>10</td>\n",
       "      <td>Never-married</td>\n",
       "      <td>?</td>\n",
       "      <td>Own-child</td>\n",
       "      <td>White</td>\n",
       "      <td>Female</td>\n",
       "      <td>30</td>\n",
       "      <td>United-States</td>\n",
       "      <td>&lt;=50K</td>\n",
       "    </tr>\n",
       "    <tr>\n",
       "      <th>...</th>\n",
       "      <td>...</td>\n",
       "      <td>...</td>\n",
       "      <td>...</td>\n",
       "      <td>...</td>\n",
       "      <td>...</td>\n",
       "      <td>...</td>\n",
       "      <td>...</td>\n",
       "      <td>...</td>\n",
       "      <td>...</td>\n",
       "      <td>...</td>\n",
       "      <td>...</td>\n",
       "      <td>...</td>\n",
       "    </tr>\n",
       "    <tr>\n",
       "      <th>48837</th>\n",
       "      <td>27</td>\n",
       "      <td>Private</td>\n",
       "      <td>Assoc-acdm</td>\n",
       "      <td>12</td>\n",
       "      <td>Married-civ-spouse</td>\n",
       "      <td>Tech-support</td>\n",
       "      <td>Wife</td>\n",
       "      <td>White</td>\n",
       "      <td>Female</td>\n",
       "      <td>38</td>\n",
       "      <td>United-States</td>\n",
       "      <td>&lt;=50K</td>\n",
       "    </tr>\n",
       "    <tr>\n",
       "      <th>48838</th>\n",
       "      <td>40</td>\n",
       "      <td>Private</td>\n",
       "      <td>HS-grad</td>\n",
       "      <td>9</td>\n",
       "      <td>Married-civ-spouse</td>\n",
       "      <td>Machine-op-inspct</td>\n",
       "      <td>Husband</td>\n",
       "      <td>White</td>\n",
       "      <td>Male</td>\n",
       "      <td>40</td>\n",
       "      <td>United-States</td>\n",
       "      <td>&gt;50K</td>\n",
       "    </tr>\n",
       "    <tr>\n",
       "      <th>48839</th>\n",
       "      <td>58</td>\n",
       "      <td>Private</td>\n",
       "      <td>HS-grad</td>\n",
       "      <td>9</td>\n",
       "      <td>Widowed</td>\n",
       "      <td>Adm-clerical</td>\n",
       "      <td>Unmarried</td>\n",
       "      <td>White</td>\n",
       "      <td>Female</td>\n",
       "      <td>40</td>\n",
       "      <td>United-States</td>\n",
       "      <td>&lt;=50K</td>\n",
       "    </tr>\n",
       "    <tr>\n",
       "      <th>48840</th>\n",
       "      <td>22</td>\n",
       "      <td>Private</td>\n",
       "      <td>HS-grad</td>\n",
       "      <td>9</td>\n",
       "      <td>Never-married</td>\n",
       "      <td>Adm-clerical</td>\n",
       "      <td>Own-child</td>\n",
       "      <td>White</td>\n",
       "      <td>Male</td>\n",
       "      <td>20</td>\n",
       "      <td>United-States</td>\n",
       "      <td>&lt;=50K</td>\n",
       "    </tr>\n",
       "    <tr>\n",
       "      <th>48841</th>\n",
       "      <td>52</td>\n",
       "      <td>Self-emp-inc</td>\n",
       "      <td>HS-grad</td>\n",
       "      <td>9</td>\n",
       "      <td>Married-civ-spouse</td>\n",
       "      <td>Exec-managerial</td>\n",
       "      <td>Wife</td>\n",
       "      <td>White</td>\n",
       "      <td>Female</td>\n",
       "      <td>40</td>\n",
       "      <td>United-States</td>\n",
       "      <td>&gt;50K</td>\n",
       "    </tr>\n",
       "  </tbody>\n",
       "</table>\n",
       "<p>48842 rows × 12 columns</p>\n",
       "</div>"
      ],
      "text/plain": [
       "       age     workclass     education  educational-num      marital-status  \\\n",
       "0       25       Private          11th                7       Never-married   \n",
       "1       38       Private       HS-grad                9  Married-civ-spouse   \n",
       "2       28     Local-gov    Assoc-acdm               12  Married-civ-spouse   \n",
       "3       44       Private  Some-college               10  Married-civ-spouse   \n",
       "4       18             ?  Some-college               10       Never-married   \n",
       "...    ...           ...           ...              ...                 ...   \n",
       "48837   27       Private    Assoc-acdm               12  Married-civ-spouse   \n",
       "48838   40       Private       HS-grad                9  Married-civ-spouse   \n",
       "48839   58       Private       HS-grad                9             Widowed   \n",
       "48840   22       Private       HS-grad                9       Never-married   \n",
       "48841   52  Self-emp-inc       HS-grad                9  Married-civ-spouse   \n",
       "\n",
       "              occupation relationship   race  gender  hours-per-week  \\\n",
       "0      Machine-op-inspct    Own-child  Black    Male              40   \n",
       "1        Farming-fishing      Husband  White    Male              50   \n",
       "2        Protective-serv      Husband  White    Male              40   \n",
       "3      Machine-op-inspct      Husband  Black    Male              40   \n",
       "4                      ?    Own-child  White  Female              30   \n",
       "...                  ...          ...    ...     ...             ...   \n",
       "48837       Tech-support         Wife  White  Female              38   \n",
       "48838  Machine-op-inspct      Husband  White    Male              40   \n",
       "48839       Adm-clerical    Unmarried  White  Female              40   \n",
       "48840       Adm-clerical    Own-child  White    Male              20   \n",
       "48841    Exec-managerial         Wife  White  Female              40   \n",
       "\n",
       "      native-country income  \n",
       "0      United-States  <=50K  \n",
       "1      United-States  <=50K  \n",
       "2      United-States   >50K  \n",
       "3      United-States   >50K  \n",
       "4      United-States  <=50K  \n",
       "...              ...    ...  \n",
       "48837  United-States  <=50K  \n",
       "48838  United-States   >50K  \n",
       "48839  United-States  <=50K  \n",
       "48840  United-States  <=50K  \n",
       "48841  United-States   >50K  \n",
       "\n",
       "[48842 rows x 12 columns]"
      ]
     },
     "execution_count": 138,
     "metadata": {},
     "output_type": "execute_result"
    }
   ],
   "source": [
    "# drop the \"fnlwgt\", \"capital-gain\", \"capital-loss\" columns from df\n",
    "df.drop(columns=[\"fnlwgt\", \"capital-gain\", \"capital-loss\"], inplace=True)\n",
    "df"
   ]
  },
  {
   "cell_type": "markdown",
   "metadata": {},
   "source": [
    "There **?** in the workclass and occupation columns.  I assume this to mean that the entity represented in the data doesn't have work at that point in time.  If we were pursuing data involving employment rates, this would be a value worth retaining in the dataset as it stands after validating whether or not the ? means what I think it means, these rows should be dropped."
   ]
  },
  {
   "cell_type": "code",
   "execution_count": 139,
   "metadata": {},
   "outputs": [
    {
     "data": {
      "text/html": [
       "<div>\n",
       "<style scoped>\n",
       "    .dataframe tbody tr th:only-of-type {\n",
       "        vertical-align: middle;\n",
       "    }\n",
       "\n",
       "    .dataframe tbody tr th {\n",
       "        vertical-align: top;\n",
       "    }\n",
       "\n",
       "    .dataframe thead th {\n",
       "        text-align: right;\n",
       "    }\n",
       "</style>\n",
       "<table border=\"1\" class=\"dataframe\">\n",
       "  <thead>\n",
       "    <tr style=\"text-align: right;\">\n",
       "      <th></th>\n",
       "      <th>age</th>\n",
       "      <th>workclass</th>\n",
       "      <th>education</th>\n",
       "      <th>educational-num</th>\n",
       "      <th>marital-status</th>\n",
       "      <th>occupation</th>\n",
       "      <th>relationship</th>\n",
       "      <th>race</th>\n",
       "      <th>gender</th>\n",
       "      <th>hours-per-week</th>\n",
       "      <th>native-country</th>\n",
       "      <th>income</th>\n",
       "    </tr>\n",
       "  </thead>\n",
       "  <tbody>\n",
       "    <tr>\n",
       "      <th>4</th>\n",
       "      <td>18</td>\n",
       "      <td>?</td>\n",
       "      <td>Some-college</td>\n",
       "      <td>10</td>\n",
       "      <td>Never-married</td>\n",
       "      <td>?</td>\n",
       "      <td>Own-child</td>\n",
       "      <td>White</td>\n",
       "      <td>Female</td>\n",
       "      <td>30</td>\n",
       "      <td>United-States</td>\n",
       "      <td>&lt;=50K</td>\n",
       "    </tr>\n",
       "    <tr>\n",
       "      <th>6</th>\n",
       "      <td>29</td>\n",
       "      <td>?</td>\n",
       "      <td>HS-grad</td>\n",
       "      <td>9</td>\n",
       "      <td>Never-married</td>\n",
       "      <td>?</td>\n",
       "      <td>Unmarried</td>\n",
       "      <td>Black</td>\n",
       "      <td>Male</td>\n",
       "      <td>40</td>\n",
       "      <td>United-States</td>\n",
       "      <td>&lt;=50K</td>\n",
       "    </tr>\n",
       "    <tr>\n",
       "      <th>13</th>\n",
       "      <td>58</td>\n",
       "      <td>?</td>\n",
       "      <td>HS-grad</td>\n",
       "      <td>9</td>\n",
       "      <td>Married-civ-spouse</td>\n",
       "      <td>?</td>\n",
       "      <td>Husband</td>\n",
       "      <td>White</td>\n",
       "      <td>Male</td>\n",
       "      <td>35</td>\n",
       "      <td>United-States</td>\n",
       "      <td>&lt;=50K</td>\n",
       "    </tr>\n",
       "    <tr>\n",
       "      <th>22</th>\n",
       "      <td>72</td>\n",
       "      <td>?</td>\n",
       "      <td>7th-8th</td>\n",
       "      <td>4</td>\n",
       "      <td>Divorced</td>\n",
       "      <td>?</td>\n",
       "      <td>Not-in-family</td>\n",
       "      <td>White</td>\n",
       "      <td>Female</td>\n",
       "      <td>6</td>\n",
       "      <td>United-States</td>\n",
       "      <td>&lt;=50K</td>\n",
       "    </tr>\n",
       "    <tr>\n",
       "      <th>35</th>\n",
       "      <td>65</td>\n",
       "      <td>?</td>\n",
       "      <td>HS-grad</td>\n",
       "      <td>9</td>\n",
       "      <td>Married-civ-spouse</td>\n",
       "      <td>?</td>\n",
       "      <td>Husband</td>\n",
       "      <td>White</td>\n",
       "      <td>Male</td>\n",
       "      <td>40</td>\n",
       "      <td>United-States</td>\n",
       "      <td>&lt;=50K</td>\n",
       "    </tr>\n",
       "    <tr>\n",
       "      <th>...</th>\n",
       "      <td>...</td>\n",
       "      <td>...</td>\n",
       "      <td>...</td>\n",
       "      <td>...</td>\n",
       "      <td>...</td>\n",
       "      <td>...</td>\n",
       "      <td>...</td>\n",
       "      <td>...</td>\n",
       "      <td>...</td>\n",
       "      <td>...</td>\n",
       "      <td>...</td>\n",
       "      <td>...</td>\n",
       "    </tr>\n",
       "    <tr>\n",
       "      <th>48811</th>\n",
       "      <td>35</td>\n",
       "      <td>?</td>\n",
       "      <td>Bachelors</td>\n",
       "      <td>13</td>\n",
       "      <td>Married-civ-spouse</td>\n",
       "      <td>?</td>\n",
       "      <td>Wife</td>\n",
       "      <td>White</td>\n",
       "      <td>Female</td>\n",
       "      <td>55</td>\n",
       "      <td>United-States</td>\n",
       "      <td>&gt;50K</td>\n",
       "    </tr>\n",
       "    <tr>\n",
       "      <th>48812</th>\n",
       "      <td>30</td>\n",
       "      <td>?</td>\n",
       "      <td>Bachelors</td>\n",
       "      <td>13</td>\n",
       "      <td>Never-married</td>\n",
       "      <td>?</td>\n",
       "      <td>Not-in-family</td>\n",
       "      <td>Asian-Pac-Islander</td>\n",
       "      <td>Female</td>\n",
       "      <td>99</td>\n",
       "      <td>United-States</td>\n",
       "      <td>&lt;=50K</td>\n",
       "    </tr>\n",
       "    <tr>\n",
       "      <th>48820</th>\n",
       "      <td>71</td>\n",
       "      <td>?</td>\n",
       "      <td>Doctorate</td>\n",
       "      <td>16</td>\n",
       "      <td>Married-civ-spouse</td>\n",
       "      <td>?</td>\n",
       "      <td>Husband</td>\n",
       "      <td>White</td>\n",
       "      <td>Male</td>\n",
       "      <td>10</td>\n",
       "      <td>United-States</td>\n",
       "      <td>&gt;50K</td>\n",
       "    </tr>\n",
       "    <tr>\n",
       "      <th>48822</th>\n",
       "      <td>41</td>\n",
       "      <td>?</td>\n",
       "      <td>HS-grad</td>\n",
       "      <td>9</td>\n",
       "      <td>Separated</td>\n",
       "      <td>?</td>\n",
       "      <td>Not-in-family</td>\n",
       "      <td>Black</td>\n",
       "      <td>Female</td>\n",
       "      <td>32</td>\n",
       "      <td>United-States</td>\n",
       "      <td>&lt;=50K</td>\n",
       "    </tr>\n",
       "    <tr>\n",
       "      <th>48823</th>\n",
       "      <td>72</td>\n",
       "      <td>?</td>\n",
       "      <td>HS-grad</td>\n",
       "      <td>9</td>\n",
       "      <td>Married-civ-spouse</td>\n",
       "      <td>?</td>\n",
       "      <td>Husband</td>\n",
       "      <td>White</td>\n",
       "      <td>Male</td>\n",
       "      <td>25</td>\n",
       "      <td>United-States</td>\n",
       "      <td>&lt;=50K</td>\n",
       "    </tr>\n",
       "  </tbody>\n",
       "</table>\n",
       "<p>2799 rows × 12 columns</p>\n",
       "</div>"
      ],
      "text/plain": [
       "       age workclass     education  educational-num      marital-status  \\\n",
       "4       18         ?  Some-college               10       Never-married   \n",
       "6       29         ?       HS-grad                9       Never-married   \n",
       "13      58         ?       HS-grad                9  Married-civ-spouse   \n",
       "22      72         ?       7th-8th                4            Divorced   \n",
       "35      65         ?       HS-grad                9  Married-civ-spouse   \n",
       "...    ...       ...           ...              ...                 ...   \n",
       "48811   35         ?     Bachelors               13  Married-civ-spouse   \n",
       "48812   30         ?     Bachelors               13       Never-married   \n",
       "48820   71         ?     Doctorate               16  Married-civ-spouse   \n",
       "48822   41         ?       HS-grad                9           Separated   \n",
       "48823   72         ?       HS-grad                9  Married-civ-spouse   \n",
       "\n",
       "      occupation   relationship                race  gender  hours-per-week  \\\n",
       "4              ?      Own-child               White  Female              30   \n",
       "6              ?      Unmarried               Black    Male              40   \n",
       "13             ?        Husband               White    Male              35   \n",
       "22             ?  Not-in-family               White  Female               6   \n",
       "35             ?        Husband               White    Male              40   \n",
       "...          ...            ...                 ...     ...             ...   \n",
       "48811          ?           Wife               White  Female              55   \n",
       "48812          ?  Not-in-family  Asian-Pac-Islander  Female              99   \n",
       "48820          ?        Husband               White    Male              10   \n",
       "48822          ?  Not-in-family               Black  Female              32   \n",
       "48823          ?        Husband               White    Male              25   \n",
       "\n",
       "      native-country income  \n",
       "4      United-States  <=50K  \n",
       "6      United-States  <=50K  \n",
       "13     United-States  <=50K  \n",
       "22     United-States  <=50K  \n",
       "35     United-States  <=50K  \n",
       "...              ...    ...  \n",
       "48811  United-States   >50K  \n",
       "48812  United-States  <=50K  \n",
       "48820  United-States   >50K  \n",
       "48822  United-States  <=50K  \n",
       "48823  United-States  <=50K  \n",
       "\n",
       "[2799 rows x 12 columns]"
      ]
     },
     "execution_count": 139,
     "metadata": {},
     "output_type": "execute_result"
    }
   ],
   "source": [
    "# find all rows which contain a ? in either the workclass or the occupation columns\n",
    "df[df['workclass'] == \"?\"]"
   ]
  },
  {
   "cell_type": "code",
   "execution_count": 140,
   "metadata": {},
   "outputs": [
    {
     "data": {
      "text/html": [
       "<div>\n",
       "<style scoped>\n",
       "    .dataframe tbody tr th:only-of-type {\n",
       "        vertical-align: middle;\n",
       "    }\n",
       "\n",
       "    .dataframe tbody tr th {\n",
       "        vertical-align: top;\n",
       "    }\n",
       "\n",
       "    .dataframe thead th {\n",
       "        text-align: right;\n",
       "    }\n",
       "</style>\n",
       "<table border=\"1\" class=\"dataframe\">\n",
       "  <thead>\n",
       "    <tr style=\"text-align: right;\">\n",
       "      <th></th>\n",
       "      <th>age</th>\n",
       "      <th>workclass</th>\n",
       "      <th>education</th>\n",
       "      <th>educational-num</th>\n",
       "      <th>marital-status</th>\n",
       "      <th>occupation</th>\n",
       "      <th>relationship</th>\n",
       "      <th>race</th>\n",
       "      <th>gender</th>\n",
       "      <th>hours-per-week</th>\n",
       "      <th>native-country</th>\n",
       "      <th>income</th>\n",
       "    </tr>\n",
       "  </thead>\n",
       "  <tbody>\n",
       "    <tr>\n",
       "      <th>4</th>\n",
       "      <td>18</td>\n",
       "      <td>?</td>\n",
       "      <td>Some-college</td>\n",
       "      <td>10</td>\n",
       "      <td>Never-married</td>\n",
       "      <td>?</td>\n",
       "      <td>Own-child</td>\n",
       "      <td>White</td>\n",
       "      <td>Female</td>\n",
       "      <td>30</td>\n",
       "      <td>United-States</td>\n",
       "      <td>&lt;=50K</td>\n",
       "    </tr>\n",
       "    <tr>\n",
       "      <th>6</th>\n",
       "      <td>29</td>\n",
       "      <td>?</td>\n",
       "      <td>HS-grad</td>\n",
       "      <td>9</td>\n",
       "      <td>Never-married</td>\n",
       "      <td>?</td>\n",
       "      <td>Unmarried</td>\n",
       "      <td>Black</td>\n",
       "      <td>Male</td>\n",
       "      <td>40</td>\n",
       "      <td>United-States</td>\n",
       "      <td>&lt;=50K</td>\n",
       "    </tr>\n",
       "    <tr>\n",
       "      <th>13</th>\n",
       "      <td>58</td>\n",
       "      <td>?</td>\n",
       "      <td>HS-grad</td>\n",
       "      <td>9</td>\n",
       "      <td>Married-civ-spouse</td>\n",
       "      <td>?</td>\n",
       "      <td>Husband</td>\n",
       "      <td>White</td>\n",
       "      <td>Male</td>\n",
       "      <td>35</td>\n",
       "      <td>United-States</td>\n",
       "      <td>&lt;=50K</td>\n",
       "    </tr>\n",
       "    <tr>\n",
       "      <th>22</th>\n",
       "      <td>72</td>\n",
       "      <td>?</td>\n",
       "      <td>7th-8th</td>\n",
       "      <td>4</td>\n",
       "      <td>Divorced</td>\n",
       "      <td>?</td>\n",
       "      <td>Not-in-family</td>\n",
       "      <td>White</td>\n",
       "      <td>Female</td>\n",
       "      <td>6</td>\n",
       "      <td>United-States</td>\n",
       "      <td>&lt;=50K</td>\n",
       "    </tr>\n",
       "    <tr>\n",
       "      <th>35</th>\n",
       "      <td>65</td>\n",
       "      <td>?</td>\n",
       "      <td>HS-grad</td>\n",
       "      <td>9</td>\n",
       "      <td>Married-civ-spouse</td>\n",
       "      <td>?</td>\n",
       "      <td>Husband</td>\n",
       "      <td>White</td>\n",
       "      <td>Male</td>\n",
       "      <td>40</td>\n",
       "      <td>United-States</td>\n",
       "      <td>&lt;=50K</td>\n",
       "    </tr>\n",
       "    <tr>\n",
       "      <th>...</th>\n",
       "      <td>...</td>\n",
       "      <td>...</td>\n",
       "      <td>...</td>\n",
       "      <td>...</td>\n",
       "      <td>...</td>\n",
       "      <td>...</td>\n",
       "      <td>...</td>\n",
       "      <td>...</td>\n",
       "      <td>...</td>\n",
       "      <td>...</td>\n",
       "      <td>...</td>\n",
       "      <td>...</td>\n",
       "    </tr>\n",
       "    <tr>\n",
       "      <th>48811</th>\n",
       "      <td>35</td>\n",
       "      <td>?</td>\n",
       "      <td>Bachelors</td>\n",
       "      <td>13</td>\n",
       "      <td>Married-civ-spouse</td>\n",
       "      <td>?</td>\n",
       "      <td>Wife</td>\n",
       "      <td>White</td>\n",
       "      <td>Female</td>\n",
       "      <td>55</td>\n",
       "      <td>United-States</td>\n",
       "      <td>&gt;50K</td>\n",
       "    </tr>\n",
       "    <tr>\n",
       "      <th>48812</th>\n",
       "      <td>30</td>\n",
       "      <td>?</td>\n",
       "      <td>Bachelors</td>\n",
       "      <td>13</td>\n",
       "      <td>Never-married</td>\n",
       "      <td>?</td>\n",
       "      <td>Not-in-family</td>\n",
       "      <td>Asian-Pac-Islander</td>\n",
       "      <td>Female</td>\n",
       "      <td>99</td>\n",
       "      <td>United-States</td>\n",
       "      <td>&lt;=50K</td>\n",
       "    </tr>\n",
       "    <tr>\n",
       "      <th>48820</th>\n",
       "      <td>71</td>\n",
       "      <td>?</td>\n",
       "      <td>Doctorate</td>\n",
       "      <td>16</td>\n",
       "      <td>Married-civ-spouse</td>\n",
       "      <td>?</td>\n",
       "      <td>Husband</td>\n",
       "      <td>White</td>\n",
       "      <td>Male</td>\n",
       "      <td>10</td>\n",
       "      <td>United-States</td>\n",
       "      <td>&gt;50K</td>\n",
       "    </tr>\n",
       "    <tr>\n",
       "      <th>48822</th>\n",
       "      <td>41</td>\n",
       "      <td>?</td>\n",
       "      <td>HS-grad</td>\n",
       "      <td>9</td>\n",
       "      <td>Separated</td>\n",
       "      <td>?</td>\n",
       "      <td>Not-in-family</td>\n",
       "      <td>Black</td>\n",
       "      <td>Female</td>\n",
       "      <td>32</td>\n",
       "      <td>United-States</td>\n",
       "      <td>&lt;=50K</td>\n",
       "    </tr>\n",
       "    <tr>\n",
       "      <th>48823</th>\n",
       "      <td>72</td>\n",
       "      <td>?</td>\n",
       "      <td>HS-grad</td>\n",
       "      <td>9</td>\n",
       "      <td>Married-civ-spouse</td>\n",
       "      <td>?</td>\n",
       "      <td>Husband</td>\n",
       "      <td>White</td>\n",
       "      <td>Male</td>\n",
       "      <td>25</td>\n",
       "      <td>United-States</td>\n",
       "      <td>&lt;=50K</td>\n",
       "    </tr>\n",
       "  </tbody>\n",
       "</table>\n",
       "<p>2809 rows × 12 columns</p>\n",
       "</div>"
      ],
      "text/plain": [
       "       age workclass     education  educational-num      marital-status  \\\n",
       "4       18         ?  Some-college               10       Never-married   \n",
       "6       29         ?       HS-grad                9       Never-married   \n",
       "13      58         ?       HS-grad                9  Married-civ-spouse   \n",
       "22      72         ?       7th-8th                4            Divorced   \n",
       "35      65         ?       HS-grad                9  Married-civ-spouse   \n",
       "...    ...       ...           ...              ...                 ...   \n",
       "48811   35         ?     Bachelors               13  Married-civ-spouse   \n",
       "48812   30         ?     Bachelors               13       Never-married   \n",
       "48820   71         ?     Doctorate               16  Married-civ-spouse   \n",
       "48822   41         ?       HS-grad                9           Separated   \n",
       "48823   72         ?       HS-grad                9  Married-civ-spouse   \n",
       "\n",
       "      occupation   relationship                race  gender  hours-per-week  \\\n",
       "4              ?      Own-child               White  Female              30   \n",
       "6              ?      Unmarried               Black    Male              40   \n",
       "13             ?        Husband               White    Male              35   \n",
       "22             ?  Not-in-family               White  Female               6   \n",
       "35             ?        Husband               White    Male              40   \n",
       "...          ...            ...                 ...     ...             ...   \n",
       "48811          ?           Wife               White  Female              55   \n",
       "48812          ?  Not-in-family  Asian-Pac-Islander  Female              99   \n",
       "48820          ?        Husband               White    Male              10   \n",
       "48822          ?  Not-in-family               Black  Female              32   \n",
       "48823          ?        Husband               White    Male              25   \n",
       "\n",
       "      native-country income  \n",
       "4      United-States  <=50K  \n",
       "6      United-States  <=50K  \n",
       "13     United-States  <=50K  \n",
       "22     United-States  <=50K  \n",
       "35     United-States  <=50K  \n",
       "...              ...    ...  \n",
       "48811  United-States   >50K  \n",
       "48812  United-States  <=50K  \n",
       "48820  United-States   >50K  \n",
       "48822  United-States  <=50K  \n",
       "48823  United-States  <=50K  \n",
       "\n",
       "[2809 rows x 12 columns]"
      ]
     },
     "execution_count": 140,
     "metadata": {},
     "output_type": "execute_result"
    }
   ],
   "source": [
    "df[df['occupation'] == \"?\"]"
   ]
  },
  {
   "cell_type": "markdown",
   "metadata": {},
   "source": [
    "After taking a look at specifically the **?** values in workcalss and occupation columns, It is clear that this also represents unprovided information. so rather than dropping it I will simply replace the '?' with the mean value(s) of their respective columns"
   ]
  },
  {
   "cell_type": "code",
   "execution_count": 141,
   "metadata": {},
   "outputs": [
    {
     "data": {
      "text/plain": [
       "Private             33906\n",
       "Self-emp-not-inc     3862\n",
       "Local-gov            3136\n",
       "?                    2799\n",
       "State-gov            1981\n",
       "Self-emp-inc         1695\n",
       "Federal-gov          1432\n",
       "Without-pay            21\n",
       "Never-worked           10\n",
       "Name: workclass, dtype: int64"
      ]
     },
     "execution_count": 141,
     "metadata": {},
     "output_type": "execute_result"
    }
   ],
   "source": [
    "df['workclass'].value_counts()"
   ]
  },
  {
   "cell_type": "code",
   "execution_count": 142,
   "metadata": {},
   "outputs": [
    {
     "data": {
      "text/plain": [
       "Prof-specialty       6172\n",
       "Craft-repair         6112\n",
       "Exec-managerial      6086\n",
       "Adm-clerical         5611\n",
       "Sales                5504\n",
       "Other-service        4923\n",
       "Machine-op-inspct    3022\n",
       "?                    2809\n",
       "Transport-moving     2355\n",
       "Handlers-cleaners    2072\n",
       "Farming-fishing      1490\n",
       "Tech-support         1446\n",
       "Protective-serv       983\n",
       "Priv-house-serv       242\n",
       "Armed-Forces           15\n",
       "Name: occupation, dtype: int64"
      ]
     },
     "execution_count": 142,
     "metadata": {},
     "output_type": "execute_result"
    }
   ],
   "source": [
    "df['occupation'].value_counts()"
   ]
  },
  {
   "cell_type": "code",
   "execution_count": 143,
   "metadata": {},
   "outputs": [],
   "source": [
    "# replace '?' with 'not-available'\n",
    "# convert all '?' to NaN in 'occupation' column and replace '?' with 'Private' in 'workclass' column\n",
    "df['workclass'].replace('?', 'Private', inplace=True)\n",
    "df['occupation'].replace('?', np.NaN, inplace=True)\n",
    "\n",
    "# proportionally fill NaN in 'occupation with 'Prof-specialty', 'Craft-repair', 'Exec-managerial'\n",
    "df['occupation'] = df['occupation'].fillna(pd.Series(np.random.choice(['Prof-specialty', 'Craft-repair', 'Exec-managerial'], \n",
    "                                                      p=[.335, .335, .33], size=len(df))))"
   ]
  },
  {
   "cell_type": "code",
   "execution_count": 144,
   "metadata": {},
   "outputs": [
    {
     "data": {
      "text/plain": [
       "Private             36705\n",
       "Self-emp-not-inc     3862\n",
       "Local-gov            3136\n",
       "State-gov            1981\n",
       "Self-emp-inc         1695\n",
       "Federal-gov          1432\n",
       "Without-pay            21\n",
       "Never-worked           10\n",
       "Name: workclass, dtype: int64"
      ]
     },
     "execution_count": 144,
     "metadata": {},
     "output_type": "execute_result"
    }
   ],
   "source": [
    "df['workclass'].value_counts()"
   ]
  },
  {
   "cell_type": "code",
   "execution_count": 145,
   "metadata": {},
   "outputs": [
    {
     "data": {
      "text/plain": [
       "Prof-specialty       7127\n",
       "Craft-repair         7065\n",
       "Exec-managerial      6987\n",
       "Adm-clerical         5611\n",
       "Sales                5504\n",
       "Other-service        4923\n",
       "Machine-op-inspct    3022\n",
       "Transport-moving     2355\n",
       "Handlers-cleaners    2072\n",
       "Farming-fishing      1490\n",
       "Tech-support         1446\n",
       "Protective-serv       983\n",
       "Priv-house-serv       242\n",
       "Armed-Forces           15\n",
       "Name: occupation, dtype: int64"
      ]
     },
     "execution_count": 145,
     "metadata": {},
     "output_type": "execute_result"
    }
   ],
   "source": [
    "df['occupation'].value_counts()"
   ]
  },
  {
   "cell_type": "code",
   "execution_count": 146,
   "metadata": {},
   "outputs": [
    {
     "name": "stdout",
     "output_type": "stream",
     "text": [
      "==:==:==:==:==:==:==:==:==:==:==:==\n",
      "Private             36705\n",
      "Self-emp-not-inc     3862\n",
      "Local-gov            3136\n",
      "State-gov            1981\n",
      "Self-emp-inc         1695\n",
      "Federal-gov          1432\n",
      "Without-pay            21\n",
      "Never-worked           10\n",
      "Name: workclass, dtype: int64\n",
      "==:==:==:==:==:==:==:==:==:==:==:==\n",
      "HS-grad         15784\n",
      "Some-college    10878\n",
      "Bachelors        8025\n",
      "Masters          2657\n",
      "Assoc-voc        2061\n",
      "11th             1812\n",
      "Assoc-acdm       1601\n",
      "10th             1389\n",
      "7th-8th           955\n",
      "Prof-school       834\n",
      "9th               756\n",
      "12th              657\n",
      "Doctorate         594\n",
      "5th-6th           509\n",
      "1st-4th           247\n",
      "Preschool          83\n",
      "Name: education, dtype: int64\n",
      "==:==:==:==:==:==:==:==:==:==:==:==\n",
      "9     15784\n",
      "10    10878\n",
      "13     8025\n",
      "14     2657\n",
      "11     2061\n",
      "7      1812\n",
      "12     1601\n",
      "6      1389\n",
      "4       955\n",
      "15      834\n",
      "5       756\n",
      "8       657\n",
      "16      594\n",
      "3       509\n",
      "2       247\n",
      "1        83\n",
      "Name: educational-num, dtype: int64\n",
      "==:==:==:==:==:==:==:==:==:==:==:==\n",
      "Married-civ-spouse       22379\n",
      "Never-married            16117\n",
      "Divorced                  6633\n",
      "Separated                 1530\n",
      "Widowed                   1518\n",
      "Married-spouse-absent      628\n",
      "Married-AF-spouse           37\n",
      "Name: marital-status, dtype: int64\n",
      "==:==:==:==:==:==:==:==:==:==:==:==\n",
      "Prof-specialty       7127\n",
      "Craft-repair         7065\n",
      "Exec-managerial      6987\n",
      "Adm-clerical         5611\n",
      "Sales                5504\n",
      "Other-service        4923\n",
      "Machine-op-inspct    3022\n",
      "Transport-moving     2355\n",
      "Handlers-cleaners    2072\n",
      "Farming-fishing      1490\n",
      "Tech-support         1446\n",
      "Protective-serv       983\n",
      "Priv-house-serv       242\n",
      "Armed-Forces           15\n",
      "Name: occupation, dtype: int64\n",
      "==:==:==:==:==:==:==:==:==:==:==:==\n",
      "Husband           19716\n",
      "Not-in-family     12583\n",
      "Own-child          7581\n",
      "Unmarried          5125\n",
      "Wife               2331\n",
      "Other-relative     1506\n",
      "Name: relationship, dtype: int64\n",
      "==:==:==:==:==:==:==:==:==:==:==:==\n",
      "White                 41762\n",
      "Black                  4685\n",
      "Asian-Pac-Islander     1519\n",
      "Amer-Indian-Eskimo      470\n",
      "Other                   406\n",
      "Name: race, dtype: int64\n",
      "==:==:==:==:==:==:==:==:==:==:==:==\n",
      "Male      32650\n",
      "Female    16192\n",
      "Name: gender, dtype: int64\n",
      "==:==:==:==:==:==:==:==:==:==:==:==\n",
      "United-States                 43832\n",
      "Mexico                          951\n",
      "?                               857\n",
      "Philippines                     295\n",
      "Germany                         206\n",
      "Puerto-Rico                     184\n",
      "Canada                          182\n",
      "El-Salvador                     155\n",
      "India                           151\n",
      "Cuba                            138\n",
      "England                         127\n",
      "China                           122\n",
      "South                           115\n",
      "Jamaica                         106\n",
      "Italy                           105\n",
      "Dominican-Republic              103\n",
      "Japan                            92\n",
      "Guatemala                        88\n",
      "Poland                           87\n",
      "Vietnam                          86\n",
      "Columbia                         85\n",
      "Haiti                            75\n",
      "Portugal                         67\n",
      "Taiwan                           65\n",
      "Iran                             59\n",
      "Greece                           49\n",
      "Nicaragua                        49\n",
      "Peru                             46\n",
      "Ecuador                          45\n",
      "France                           38\n",
      "Ireland                          37\n",
      "Hong                             30\n",
      "Thailand                         30\n",
      "Cambodia                         28\n",
      "Trinadad&Tobago                  27\n",
      "Laos                             23\n",
      "Yugoslavia                       23\n",
      "Outlying-US(Guam-USVI-etc)       23\n",
      "Scotland                         21\n",
      "Honduras                         20\n",
      "Hungary                          19\n",
      "Holand-Netherlands                1\n",
      "Name: native-country, dtype: int64\n"
     ]
    }
   ],
   "source": [
    "# Let's also do a value counts in the categorical columns: 'workclass', 'education', 'educational-num', 'marital-status', 'occupation', 'relationship', 'race', 'gender' & 'native-country'\n",
    "# so as to determine whether it would be worth it to convert these categorical not object columns in the dataframe and to see if it would be worth it to visualize these into barcharts.\n",
    "cols_list = ['workclass', 'education', 'educational-num', 'marital-status', 'occupation', 'relationship', 'race', 'gender', 'native-country']\n",
    "\n",
    "for col in cols_list:\n",
    "    print(\"==:==:==:==:==:==:==:==:==:==:==:==\")\n",
    "    print(df[col].value_counts())"
   ]
  },
  {
   "cell_type": "code",
   "execution_count": 147,
   "metadata": {},
   "outputs": [],
   "source": [
    "# We discovered a '?' in the native-country column! we should replace that with the overwhelming majority of 'United-States'\n",
    "df['native-country'].replace('?', 'United-States', inplace=True)"
   ]
  },
  {
   "cell_type": "markdown",
   "metadata": {},
   "source": [
    "Based upon what was found, 'native-country', would likely be too large to visualize but still would be insightful to the income of individuals. Enough data cleaning let's explore the data more visually!"
   ]
  },
  {
   "cell_type": "markdown",
   "metadata": {},
   "source": [
    "### 2. Explore the data and formulate a story around it. ###"
   ]
  },
  {
   "cell_type": "code",
   "execution_count": 148,
   "metadata": {},
   "outputs": [
    {
     "data": {
      "text/html": [
       "<div>\n",
       "<style scoped>\n",
       "    .dataframe tbody tr th:only-of-type {\n",
       "        vertical-align: middle;\n",
       "    }\n",
       "\n",
       "    .dataframe tbody tr th {\n",
       "        vertical-align: top;\n",
       "    }\n",
       "\n",
       "    .dataframe thead th {\n",
       "        text-align: right;\n",
       "    }\n",
       "</style>\n",
       "<table border=\"1\" class=\"dataframe\">\n",
       "  <thead>\n",
       "    <tr style=\"text-align: right;\">\n",
       "      <th></th>\n",
       "      <th>age</th>\n",
       "      <th>workclass</th>\n",
       "      <th>education</th>\n",
       "      <th>educational-num</th>\n",
       "      <th>marital-status</th>\n",
       "      <th>occupation</th>\n",
       "      <th>relationship</th>\n",
       "      <th>race</th>\n",
       "      <th>gender</th>\n",
       "      <th>hours-per-week</th>\n",
       "      <th>native-country</th>\n",
       "      <th>income</th>\n",
       "    </tr>\n",
       "  </thead>\n",
       "  <tbody>\n",
       "    <tr>\n",
       "      <th>0</th>\n",
       "      <td>25</td>\n",
       "      <td>Private</td>\n",
       "      <td>11th</td>\n",
       "      <td>7</td>\n",
       "      <td>Never-married</td>\n",
       "      <td>Machine-op-inspct</td>\n",
       "      <td>Own-child</td>\n",
       "      <td>Black</td>\n",
       "      <td>Male</td>\n",
       "      <td>40</td>\n",
       "      <td>United-States</td>\n",
       "      <td>&lt;=50K</td>\n",
       "    </tr>\n",
       "    <tr>\n",
       "      <th>1</th>\n",
       "      <td>38</td>\n",
       "      <td>Private</td>\n",
       "      <td>HS-grad</td>\n",
       "      <td>9</td>\n",
       "      <td>Married-civ-spouse</td>\n",
       "      <td>Farming-fishing</td>\n",
       "      <td>Husband</td>\n",
       "      <td>White</td>\n",
       "      <td>Male</td>\n",
       "      <td>50</td>\n",
       "      <td>United-States</td>\n",
       "      <td>&lt;=50K</td>\n",
       "    </tr>\n",
       "    <tr>\n",
       "      <th>2</th>\n",
       "      <td>28</td>\n",
       "      <td>Local-gov</td>\n",
       "      <td>Assoc-acdm</td>\n",
       "      <td>12</td>\n",
       "      <td>Married-civ-spouse</td>\n",
       "      <td>Protective-serv</td>\n",
       "      <td>Husband</td>\n",
       "      <td>White</td>\n",
       "      <td>Male</td>\n",
       "      <td>40</td>\n",
       "      <td>United-States</td>\n",
       "      <td>&gt;50K</td>\n",
       "    </tr>\n",
       "    <tr>\n",
       "      <th>3</th>\n",
       "      <td>44</td>\n",
       "      <td>Private</td>\n",
       "      <td>Some-college</td>\n",
       "      <td>10</td>\n",
       "      <td>Married-civ-spouse</td>\n",
       "      <td>Machine-op-inspct</td>\n",
       "      <td>Husband</td>\n",
       "      <td>Black</td>\n",
       "      <td>Male</td>\n",
       "      <td>40</td>\n",
       "      <td>United-States</td>\n",
       "      <td>&gt;50K</td>\n",
       "    </tr>\n",
       "    <tr>\n",
       "      <th>4</th>\n",
       "      <td>18</td>\n",
       "      <td>Private</td>\n",
       "      <td>Some-college</td>\n",
       "      <td>10</td>\n",
       "      <td>Never-married</td>\n",
       "      <td>Prof-specialty</td>\n",
       "      <td>Own-child</td>\n",
       "      <td>White</td>\n",
       "      <td>Female</td>\n",
       "      <td>30</td>\n",
       "      <td>United-States</td>\n",
       "      <td>&lt;=50K</td>\n",
       "    </tr>\n",
       "  </tbody>\n",
       "</table>\n",
       "</div>"
      ],
      "text/plain": [
       "   age  workclass     education  educational-num      marital-status  \\\n",
       "0   25    Private          11th                7       Never-married   \n",
       "1   38    Private       HS-grad                9  Married-civ-spouse   \n",
       "2   28  Local-gov    Assoc-acdm               12  Married-civ-spouse   \n",
       "3   44    Private  Some-college               10  Married-civ-spouse   \n",
       "4   18    Private  Some-college               10       Never-married   \n",
       "\n",
       "          occupation relationship   race  gender  hours-per-week  \\\n",
       "0  Machine-op-inspct    Own-child  Black    Male              40   \n",
       "1    Farming-fishing      Husband  White    Male              50   \n",
       "2    Protective-serv      Husband  White    Male              40   \n",
       "3  Machine-op-inspct      Husband  Black    Male              40   \n",
       "4     Prof-specialty    Own-child  White  Female              30   \n",
       "\n",
       "  native-country income  \n",
       "0  United-States  <=50K  \n",
       "1  United-States  <=50K  \n",
       "2  United-States   >50K  \n",
       "3  United-States   >50K  \n",
       "4  United-States  <=50K  "
      ]
     },
     "execution_count": 148,
     "metadata": {},
     "output_type": "execute_result"
    }
   ],
   "source": [
    "# let's print the head of 'df' so as to have a full list of data to work with\n",
    "df.head()"
   ]
  },
  {
   "cell_type": "code",
   "execution_count": 149,
   "metadata": {},
   "outputs": [
    {
     "data": {
      "text/plain": [
       "<=50K    37155\n",
       ">50K     11687\n",
       "Name: income, dtype: int64"
      ]
     },
     "execution_count": 149,
     "metadata": {},
     "output_type": "execute_result"
    }
   ],
   "source": [
    "df['income'].value_counts()"
   ]
  },
  {
   "cell_type": "markdown",
   "metadata": {},
   "source": [
    "Let's create a pair of sub dataframes from the main set which one which contains only the above 50k and the other below."
   ]
  },
  {
   "cell_type": "code",
   "execution_count": 150,
   "metadata": {},
   "outputs": [
    {
     "data": {
      "text/html": [
       "<div>\n",
       "<style scoped>\n",
       "    .dataframe tbody tr th:only-of-type {\n",
       "        vertical-align: middle;\n",
       "    }\n",
       "\n",
       "    .dataframe tbody tr th {\n",
       "        vertical-align: top;\n",
       "    }\n",
       "\n",
       "    .dataframe thead th {\n",
       "        text-align: right;\n",
       "    }\n",
       "</style>\n",
       "<table border=\"1\" class=\"dataframe\">\n",
       "  <thead>\n",
       "    <tr style=\"text-align: right;\">\n",
       "      <th></th>\n",
       "      <th>age</th>\n",
       "      <th>workclass</th>\n",
       "      <th>education</th>\n",
       "      <th>educational-num</th>\n",
       "      <th>marital-status</th>\n",
       "      <th>occupation</th>\n",
       "      <th>relationship</th>\n",
       "      <th>race</th>\n",
       "      <th>gender</th>\n",
       "      <th>hours-per-week</th>\n",
       "      <th>native-country</th>\n",
       "      <th>income</th>\n",
       "    </tr>\n",
       "  </thead>\n",
       "  <tbody>\n",
       "    <tr>\n",
       "      <th>2</th>\n",
       "      <td>28</td>\n",
       "      <td>Local-gov</td>\n",
       "      <td>Assoc-acdm</td>\n",
       "      <td>12</td>\n",
       "      <td>Married-civ-spouse</td>\n",
       "      <td>Protective-serv</td>\n",
       "      <td>Husband</td>\n",
       "      <td>White</td>\n",
       "      <td>Male</td>\n",
       "      <td>40</td>\n",
       "      <td>United-States</td>\n",
       "      <td>&gt;50K</td>\n",
       "    </tr>\n",
       "    <tr>\n",
       "      <th>3</th>\n",
       "      <td>44</td>\n",
       "      <td>Private</td>\n",
       "      <td>Some-college</td>\n",
       "      <td>10</td>\n",
       "      <td>Married-civ-spouse</td>\n",
       "      <td>Machine-op-inspct</td>\n",
       "      <td>Husband</td>\n",
       "      <td>Black</td>\n",
       "      <td>Male</td>\n",
       "      <td>40</td>\n",
       "      <td>United-States</td>\n",
       "      <td>&gt;50K</td>\n",
       "    </tr>\n",
       "    <tr>\n",
       "      <th>7</th>\n",
       "      <td>63</td>\n",
       "      <td>Self-emp-not-inc</td>\n",
       "      <td>Prof-school</td>\n",
       "      <td>15</td>\n",
       "      <td>Married-civ-spouse</td>\n",
       "      <td>Prof-specialty</td>\n",
       "      <td>Husband</td>\n",
       "      <td>White</td>\n",
       "      <td>Male</td>\n",
       "      <td>32</td>\n",
       "      <td>United-States</td>\n",
       "      <td>&gt;50K</td>\n",
       "    </tr>\n",
       "    <tr>\n",
       "      <th>10</th>\n",
       "      <td>65</td>\n",
       "      <td>Private</td>\n",
       "      <td>HS-grad</td>\n",
       "      <td>9</td>\n",
       "      <td>Married-civ-spouse</td>\n",
       "      <td>Machine-op-inspct</td>\n",
       "      <td>Husband</td>\n",
       "      <td>White</td>\n",
       "      <td>Male</td>\n",
       "      <td>40</td>\n",
       "      <td>United-States</td>\n",
       "      <td>&gt;50K</td>\n",
       "    </tr>\n",
       "    <tr>\n",
       "      <th>14</th>\n",
       "      <td>48</td>\n",
       "      <td>Private</td>\n",
       "      <td>HS-grad</td>\n",
       "      <td>9</td>\n",
       "      <td>Married-civ-spouse</td>\n",
       "      <td>Machine-op-inspct</td>\n",
       "      <td>Husband</td>\n",
       "      <td>White</td>\n",
       "      <td>Male</td>\n",
       "      <td>48</td>\n",
       "      <td>United-States</td>\n",
       "      <td>&gt;50K</td>\n",
       "    </tr>\n",
       "    <tr>\n",
       "      <th>...</th>\n",
       "      <td>...</td>\n",
       "      <td>...</td>\n",
       "      <td>...</td>\n",
       "      <td>...</td>\n",
       "      <td>...</td>\n",
       "      <td>...</td>\n",
       "      <td>...</td>\n",
       "      <td>...</td>\n",
       "      <td>...</td>\n",
       "      <td>...</td>\n",
       "      <td>...</td>\n",
       "      <td>...</td>\n",
       "    </tr>\n",
       "    <tr>\n",
       "      <th>48820</th>\n",
       "      <td>71</td>\n",
       "      <td>Private</td>\n",
       "      <td>Doctorate</td>\n",
       "      <td>16</td>\n",
       "      <td>Married-civ-spouse</td>\n",
       "      <td>Prof-specialty</td>\n",
       "      <td>Husband</td>\n",
       "      <td>White</td>\n",
       "      <td>Male</td>\n",
       "      <td>10</td>\n",
       "      <td>United-States</td>\n",
       "      <td>&gt;50K</td>\n",
       "    </tr>\n",
       "    <tr>\n",
       "      <th>48826</th>\n",
       "      <td>39</td>\n",
       "      <td>Local-gov</td>\n",
       "      <td>Assoc-acdm</td>\n",
       "      <td>12</td>\n",
       "      <td>Married-civ-spouse</td>\n",
       "      <td>Adm-clerical</td>\n",
       "      <td>Wife</td>\n",
       "      <td>White</td>\n",
       "      <td>Female</td>\n",
       "      <td>20</td>\n",
       "      <td>United-States</td>\n",
       "      <td>&gt;50K</td>\n",
       "    </tr>\n",
       "    <tr>\n",
       "      <th>48835</th>\n",
       "      <td>53</td>\n",
       "      <td>Private</td>\n",
       "      <td>Masters</td>\n",
       "      <td>14</td>\n",
       "      <td>Married-civ-spouse</td>\n",
       "      <td>Exec-managerial</td>\n",
       "      <td>Husband</td>\n",
       "      <td>White</td>\n",
       "      <td>Male</td>\n",
       "      <td>40</td>\n",
       "      <td>United-States</td>\n",
       "      <td>&gt;50K</td>\n",
       "    </tr>\n",
       "    <tr>\n",
       "      <th>48838</th>\n",
       "      <td>40</td>\n",
       "      <td>Private</td>\n",
       "      <td>HS-grad</td>\n",
       "      <td>9</td>\n",
       "      <td>Married-civ-spouse</td>\n",
       "      <td>Machine-op-inspct</td>\n",
       "      <td>Husband</td>\n",
       "      <td>White</td>\n",
       "      <td>Male</td>\n",
       "      <td>40</td>\n",
       "      <td>United-States</td>\n",
       "      <td>&gt;50K</td>\n",
       "    </tr>\n",
       "    <tr>\n",
       "      <th>48841</th>\n",
       "      <td>52</td>\n",
       "      <td>Self-emp-inc</td>\n",
       "      <td>HS-grad</td>\n",
       "      <td>9</td>\n",
       "      <td>Married-civ-spouse</td>\n",
       "      <td>Exec-managerial</td>\n",
       "      <td>Wife</td>\n",
       "      <td>White</td>\n",
       "      <td>Female</td>\n",
       "      <td>40</td>\n",
       "      <td>United-States</td>\n",
       "      <td>&gt;50K</td>\n",
       "    </tr>\n",
       "  </tbody>\n",
       "</table>\n",
       "<p>11687 rows × 12 columns</p>\n",
       "</div>"
      ],
      "text/plain": [
       "       age         workclass     education  educational-num  \\\n",
       "2       28         Local-gov    Assoc-acdm               12   \n",
       "3       44           Private  Some-college               10   \n",
       "7       63  Self-emp-not-inc   Prof-school               15   \n",
       "10      65           Private       HS-grad                9   \n",
       "14      48           Private       HS-grad                9   \n",
       "...    ...               ...           ...              ...   \n",
       "48820   71           Private     Doctorate               16   \n",
       "48826   39         Local-gov    Assoc-acdm               12   \n",
       "48835   53           Private       Masters               14   \n",
       "48838   40           Private       HS-grad                9   \n",
       "48841   52      Self-emp-inc       HS-grad                9   \n",
       "\n",
       "           marital-status         occupation relationship   race  gender  \\\n",
       "2      Married-civ-spouse    Protective-serv      Husband  White    Male   \n",
       "3      Married-civ-spouse  Machine-op-inspct      Husband  Black    Male   \n",
       "7      Married-civ-spouse     Prof-specialty      Husband  White    Male   \n",
       "10     Married-civ-spouse  Machine-op-inspct      Husband  White    Male   \n",
       "14     Married-civ-spouse  Machine-op-inspct      Husband  White    Male   \n",
       "...                   ...                ...          ...    ...     ...   \n",
       "48820  Married-civ-spouse     Prof-specialty      Husband  White    Male   \n",
       "48826  Married-civ-spouse       Adm-clerical         Wife  White  Female   \n",
       "48835  Married-civ-spouse    Exec-managerial      Husband  White    Male   \n",
       "48838  Married-civ-spouse  Machine-op-inspct      Husband  White    Male   \n",
       "48841  Married-civ-spouse    Exec-managerial         Wife  White  Female   \n",
       "\n",
       "       hours-per-week native-country income  \n",
       "2                  40  United-States   >50K  \n",
       "3                  40  United-States   >50K  \n",
       "7                  32  United-States   >50K  \n",
       "10                 40  United-States   >50K  \n",
       "14                 48  United-States   >50K  \n",
       "...               ...            ...    ...  \n",
       "48820              10  United-States   >50K  \n",
       "48826              20  United-States   >50K  \n",
       "48835              40  United-States   >50K  \n",
       "48838              40  United-States   >50K  \n",
       "48841              40  United-States   >50K  \n",
       "\n",
       "[11687 rows x 12 columns]"
      ]
     },
     "execution_count": 150,
     "metadata": {},
     "output_type": "execute_result"
    }
   ],
   "source": [
    "df_above50k = df[df['income'] == '>50K']\n",
    "\n",
    "pd.DataFrame(df_above50k)"
   ]
  },
  {
   "cell_type": "code",
   "execution_count": 151,
   "metadata": {},
   "outputs": [
    {
     "data": {
      "text/html": [
       "<div>\n",
       "<style scoped>\n",
       "    .dataframe tbody tr th:only-of-type {\n",
       "        vertical-align: middle;\n",
       "    }\n",
       "\n",
       "    .dataframe tbody tr th {\n",
       "        vertical-align: top;\n",
       "    }\n",
       "\n",
       "    .dataframe thead th {\n",
       "        text-align: right;\n",
       "    }\n",
       "</style>\n",
       "<table border=\"1\" class=\"dataframe\">\n",
       "  <thead>\n",
       "    <tr style=\"text-align: right;\">\n",
       "      <th></th>\n",
       "      <th>age</th>\n",
       "      <th>workclass</th>\n",
       "      <th>education</th>\n",
       "      <th>educational-num</th>\n",
       "      <th>marital-status</th>\n",
       "      <th>occupation</th>\n",
       "      <th>relationship</th>\n",
       "      <th>race</th>\n",
       "      <th>gender</th>\n",
       "      <th>hours-per-week</th>\n",
       "      <th>native-country</th>\n",
       "      <th>income</th>\n",
       "    </tr>\n",
       "  </thead>\n",
       "  <tbody>\n",
       "    <tr>\n",
       "      <th>0</th>\n",
       "      <td>25</td>\n",
       "      <td>Private</td>\n",
       "      <td>11th</td>\n",
       "      <td>7</td>\n",
       "      <td>Never-married</td>\n",
       "      <td>Machine-op-inspct</td>\n",
       "      <td>Own-child</td>\n",
       "      <td>Black</td>\n",
       "      <td>Male</td>\n",
       "      <td>40</td>\n",
       "      <td>United-States</td>\n",
       "      <td>&lt;=50K</td>\n",
       "    </tr>\n",
       "    <tr>\n",
       "      <th>1</th>\n",
       "      <td>38</td>\n",
       "      <td>Private</td>\n",
       "      <td>HS-grad</td>\n",
       "      <td>9</td>\n",
       "      <td>Married-civ-spouse</td>\n",
       "      <td>Farming-fishing</td>\n",
       "      <td>Husband</td>\n",
       "      <td>White</td>\n",
       "      <td>Male</td>\n",
       "      <td>50</td>\n",
       "      <td>United-States</td>\n",
       "      <td>&lt;=50K</td>\n",
       "    </tr>\n",
       "    <tr>\n",
       "      <th>4</th>\n",
       "      <td>18</td>\n",
       "      <td>Private</td>\n",
       "      <td>Some-college</td>\n",
       "      <td>10</td>\n",
       "      <td>Never-married</td>\n",
       "      <td>Prof-specialty</td>\n",
       "      <td>Own-child</td>\n",
       "      <td>White</td>\n",
       "      <td>Female</td>\n",
       "      <td>30</td>\n",
       "      <td>United-States</td>\n",
       "      <td>&lt;=50K</td>\n",
       "    </tr>\n",
       "    <tr>\n",
       "      <th>5</th>\n",
       "      <td>34</td>\n",
       "      <td>Private</td>\n",
       "      <td>10th</td>\n",
       "      <td>6</td>\n",
       "      <td>Never-married</td>\n",
       "      <td>Other-service</td>\n",
       "      <td>Not-in-family</td>\n",
       "      <td>White</td>\n",
       "      <td>Male</td>\n",
       "      <td>30</td>\n",
       "      <td>United-States</td>\n",
       "      <td>&lt;=50K</td>\n",
       "    </tr>\n",
       "    <tr>\n",
       "      <th>6</th>\n",
       "      <td>29</td>\n",
       "      <td>Private</td>\n",
       "      <td>HS-grad</td>\n",
       "      <td>9</td>\n",
       "      <td>Never-married</td>\n",
       "      <td>Craft-repair</td>\n",
       "      <td>Unmarried</td>\n",
       "      <td>Black</td>\n",
       "      <td>Male</td>\n",
       "      <td>40</td>\n",
       "      <td>United-States</td>\n",
       "      <td>&lt;=50K</td>\n",
       "    </tr>\n",
       "    <tr>\n",
       "      <th>...</th>\n",
       "      <td>...</td>\n",
       "      <td>...</td>\n",
       "      <td>...</td>\n",
       "      <td>...</td>\n",
       "      <td>...</td>\n",
       "      <td>...</td>\n",
       "      <td>...</td>\n",
       "      <td>...</td>\n",
       "      <td>...</td>\n",
       "      <td>...</td>\n",
       "      <td>...</td>\n",
       "      <td>...</td>\n",
       "    </tr>\n",
       "    <tr>\n",
       "      <th>48834</th>\n",
       "      <td>32</td>\n",
       "      <td>Private</td>\n",
       "      <td>Masters</td>\n",
       "      <td>14</td>\n",
       "      <td>Never-married</td>\n",
       "      <td>Tech-support</td>\n",
       "      <td>Not-in-family</td>\n",
       "      <td>Asian-Pac-Islander</td>\n",
       "      <td>Male</td>\n",
       "      <td>11</td>\n",
       "      <td>Taiwan</td>\n",
       "      <td>&lt;=50K</td>\n",
       "    </tr>\n",
       "    <tr>\n",
       "      <th>48836</th>\n",
       "      <td>22</td>\n",
       "      <td>Private</td>\n",
       "      <td>Some-college</td>\n",
       "      <td>10</td>\n",
       "      <td>Never-married</td>\n",
       "      <td>Protective-serv</td>\n",
       "      <td>Not-in-family</td>\n",
       "      <td>White</td>\n",
       "      <td>Male</td>\n",
       "      <td>40</td>\n",
       "      <td>United-States</td>\n",
       "      <td>&lt;=50K</td>\n",
       "    </tr>\n",
       "    <tr>\n",
       "      <th>48837</th>\n",
       "      <td>27</td>\n",
       "      <td>Private</td>\n",
       "      <td>Assoc-acdm</td>\n",
       "      <td>12</td>\n",
       "      <td>Married-civ-spouse</td>\n",
       "      <td>Tech-support</td>\n",
       "      <td>Wife</td>\n",
       "      <td>White</td>\n",
       "      <td>Female</td>\n",
       "      <td>38</td>\n",
       "      <td>United-States</td>\n",
       "      <td>&lt;=50K</td>\n",
       "    </tr>\n",
       "    <tr>\n",
       "      <th>48839</th>\n",
       "      <td>58</td>\n",
       "      <td>Private</td>\n",
       "      <td>HS-grad</td>\n",
       "      <td>9</td>\n",
       "      <td>Widowed</td>\n",
       "      <td>Adm-clerical</td>\n",
       "      <td>Unmarried</td>\n",
       "      <td>White</td>\n",
       "      <td>Female</td>\n",
       "      <td>40</td>\n",
       "      <td>United-States</td>\n",
       "      <td>&lt;=50K</td>\n",
       "    </tr>\n",
       "    <tr>\n",
       "      <th>48840</th>\n",
       "      <td>22</td>\n",
       "      <td>Private</td>\n",
       "      <td>HS-grad</td>\n",
       "      <td>9</td>\n",
       "      <td>Never-married</td>\n",
       "      <td>Adm-clerical</td>\n",
       "      <td>Own-child</td>\n",
       "      <td>White</td>\n",
       "      <td>Male</td>\n",
       "      <td>20</td>\n",
       "      <td>United-States</td>\n",
       "      <td>&lt;=50K</td>\n",
       "    </tr>\n",
       "  </tbody>\n",
       "</table>\n",
       "<p>37155 rows × 12 columns</p>\n",
       "</div>"
      ],
      "text/plain": [
       "       age workclass     education  educational-num      marital-status  \\\n",
       "0       25   Private          11th                7       Never-married   \n",
       "1       38   Private       HS-grad                9  Married-civ-spouse   \n",
       "4       18   Private  Some-college               10       Never-married   \n",
       "5       34   Private          10th                6       Never-married   \n",
       "6       29   Private       HS-grad                9       Never-married   \n",
       "...    ...       ...           ...              ...                 ...   \n",
       "48834   32   Private       Masters               14       Never-married   \n",
       "48836   22   Private  Some-college               10       Never-married   \n",
       "48837   27   Private    Assoc-acdm               12  Married-civ-spouse   \n",
       "48839   58   Private       HS-grad                9             Widowed   \n",
       "48840   22   Private       HS-grad                9       Never-married   \n",
       "\n",
       "              occupation   relationship                race  gender  \\\n",
       "0      Machine-op-inspct      Own-child               Black    Male   \n",
       "1        Farming-fishing        Husband               White    Male   \n",
       "4         Prof-specialty      Own-child               White  Female   \n",
       "5          Other-service  Not-in-family               White    Male   \n",
       "6           Craft-repair      Unmarried               Black    Male   \n",
       "...                  ...            ...                 ...     ...   \n",
       "48834       Tech-support  Not-in-family  Asian-Pac-Islander    Male   \n",
       "48836    Protective-serv  Not-in-family               White    Male   \n",
       "48837       Tech-support           Wife               White  Female   \n",
       "48839       Adm-clerical      Unmarried               White  Female   \n",
       "48840       Adm-clerical      Own-child               White    Male   \n",
       "\n",
       "       hours-per-week native-country income  \n",
       "0                  40  United-States  <=50K  \n",
       "1                  50  United-States  <=50K  \n",
       "4                  30  United-States  <=50K  \n",
       "5                  30  United-States  <=50K  \n",
       "6                  40  United-States  <=50K  \n",
       "...               ...            ...    ...  \n",
       "48834              11         Taiwan  <=50K  \n",
       "48836              40  United-States  <=50K  \n",
       "48837              38  United-States  <=50K  \n",
       "48839              40  United-States  <=50K  \n",
       "48840              20  United-States  <=50K  \n",
       "\n",
       "[37155 rows x 12 columns]"
      ]
     },
     "execution_count": 151,
     "metadata": {},
     "output_type": "execute_result"
    }
   ],
   "source": [
    "df_below50k = df[df['income'] == '<=50K']\n",
    "\n",
    "pd.DataFrame(df_below50k)"
   ]
  },
  {
   "cell_type": "markdown",
   "metadata": {},
   "source": [
    "First I'd like to take take a look a what the ratio of men to women in the full sample set and then I'd like to see if that ratio is consistent within the above and below 50k subsets."
   ]
  },
  {
   "cell_type": "code",
   "execution_count": 152,
   "metadata": {},
   "outputs": [
    {
     "name": "stdout",
     "output_type": "stream",
     "text": [
      "----------Full Data Set-----------\n",
      "Male      0.668482\n",
      "Female    0.331518\n",
      "Name: gender, dtype: float64\n",
      "----------------------------------\n",
      "\n",
      "--------Above 50k Data Set--------\n",
      "Male      0.848635\n",
      "Female    0.151365\n",
      "Name: gender, dtype: float64\n",
      "----------------------------------\n",
      "\n",
      "--------Below 50k Data Set--------\n",
      "Male      0.611815\n",
      "Female    0.388185\n",
      "Name: gender, dtype: float64\n",
      "----------------------------------\n"
     ]
    }
   ],
   "source": [
    "print(\"----------Full Data Set-----------\")\n",
    "print(df['gender'].value_counts(normalize=True))\n",
    "print(\"----------------------------------\\n\")\n",
    "print(\"--------Above 50k Data Set--------\")\n",
    "print(df_above50k['gender'].value_counts(normalize=True))\n",
    "print(\"----------------------------------\\n\")\n",
    "print(\"--------Below 50k Data Set--------\")\n",
    "print(df_below50k['gender'].value_counts(normalize=True))\n",
    "print(\"----------------------------------\")"
   ]
  },
  {
   "cell_type": "markdown",
   "metadata": {},
   "source": [
    "We have a 2 to 1 ratio between men and women which would mean, assuming no other factors are at play, we should see approximately the same ratio between the above/below 50k subsets.  Unfortunately this isn't what we see.  In the above 50k data set we see the men go from 67% to 85%, A 27% increase!  we likewise see the expected drop in women from 33% to 15% which for women is a 55% drop in this data set!  However it is necessary to put this into perspective. We are in this instance treating our full sample set as a whole population.  An absurd assertion as we know there isn't world population of 48,842 people, but since we are exploring the ratio of men to women in this specific data set, due to the 2 to 1 ratio of men to women in the set, any motion in either direction is going reflect more greatly in the ratio of women, as one might guess at approx twice as much, so it stands to reason a 27% increase in men will naturally result in a 55% decrease in women as 27 X 2 is 54, very close to 55!\n",
    "\n",
    "Continuing on to the Below 50k data set, we see 67% drop to 61% in the men, and an increase from 33% to 39% in women; a 9% decrease in men and an %18 increase in women.\n",
    "\n",
    "This quick look is indicative that generally men tend to earn above 50k then women do in this dataset, the reasons of which we hope to explore further."
   ]
  },
  {
   "cell_type": "markdown",
   "metadata": {},
   "source": [
    "Let's now examine the life choices which are availabel to us in this dataset, first examining education, a commonly cited factor in individual income statistics."
   ]
  },
  {
   "cell_type": "code",
   "execution_count": 153,
   "metadata": {},
   "outputs": [
    {
     "data": {
      "image/png": "[encoded data removed]",
      "text/plain": [
       "<Figure size 640x480 with 2 Axes>"
      ]
     },
     "metadata": {},
     "output_type": "display_data"
    }
   ],
   "source": [
    "fig, (ax1, ax2) = plt.subplots(1,2, constrained_layout=True, sharey=True)\n",
    "fig.suptitle('A Comparison of Incomes Above and Below 50k by Education and Gender')\n",
    "\n",
    "\n",
    "sns.barplot(data=pd.DataFrame(df_above50k.groupby('education')[['gender', 'education']].value_counts()).reset_index(), \n",
    "            x='education', \n",
    "            y=0, \n",
    "            hue='gender',\n",
    "            errorbar=('ci', False),\n",
    "            ax=ax1)\n",
    "ax1.set_title('Sum of Jobs Above 50k\\nby Education and Gender')\n",
    "ax1.set_xlabel('Education')\n",
    "ax1.set_ylabel('Counts from Sample')\n",
    "ax1.tick_params(axis='x', labelrotation=90)\n",
    "\n",
    "sns.barplot(data=pd.DataFrame(df_below50k.groupby('education')[['gender', 'education']].value_counts()).reset_index(), \n",
    "            x='education', \n",
    "            y=0, \n",
    "            hue='gender',\n",
    "            errorbar=('ci', False),\n",
    "            ax=ax2)\n",
    "ax2.set_title('Sum of Jobs Below 50k\\nby Education and Gender')\n",
    "ax2.set_xlabel('Education')\n",
    "ax2.set_ylabel('Counts from Sample')\n",
    "ax2.tick_params(axis='x', labelrotation=90)\n",
    "\n",
    "plt.show()"
   ]
  },
  {
   "cell_type": "markdown",
   "metadata": {},
   "source": [
    "So this is an interesting result. We aren't surprised so to see the greater ratio of men to women from  our previous analysis, but what we see here, is massive popuation difference between those who earn above 50k and those who do not. let's to a quick bar chart showing the difference between the two income ranges specifically."
   ]
  },
  {
   "cell_type": "code",
   "execution_count": 154,
   "metadata": {},
   "outputs": [
    {
     "data": {
      "image/png": "[encoded data removed]",
      "text/plain": [
       "<Figure size 640x480 with 1 Axes>"
      ]
     },
     "metadata": {},
     "output_type": "display_data"
    }
   ],
   "source": [
    "ax = sns.barplot(pd.DataFrame(df['income'].value_counts(normalize=True)).reset_index(),\n",
    "            x='index', \n",
    "            y='income',\n",
    "            errorbar=('ci', False))\n",
    "plt.ylabel('Percentage')\n",
    "plt.xlabel('Income')\n",
    "plt.title('Sample Income Percentages')\n",
    "ax.set_yticks(np.arange(0.0, 1.1, 0.1))\n",
    "plt.show()"
   ]
  },
  {
   "cell_type": "markdown",
   "metadata": {},
   "source": [
    "Unfortunately, the overwelming majority of people are earning below 50K, by approximately 3 to 1. Given the disparate degree between incomes I would like to look at the odds that ones' education will take them from below 50k to above."
   ]
  },
  {
   "cell_type": "code",
   "execution_count": 155,
   "metadata": {},
   "outputs": [],
   "source": [
    "# Subset the main data set into two Male and Female subsets.\n",
    "df_male_subset = df[df['gender'] == 'Male']\n",
    "df_female_subset = df[df['gender'] == 'Female']"
   ]
  },
  {
   "cell_type": "code",
   "execution_count": 156,
   "metadata": {},
   "outputs": [],
   "source": [
    "def order(df, key='income', values=['<=50K', '>50K']):\n",
    "    df1 = df[df[key] == values[1]]\n",
    "    df2 = df[df[key] == values[0]]\n",
    "    df = pd.concat([df1.sort_values(0), df2.sort_values(0, ascending=False)], ignore_index=True).reset_index()\n",
    "    return df"
   ]
  },
  {
   "cell_type": "code",
   "execution_count": 157,
   "metadata": {},
   "outputs": [],
   "source": [
    "df_male_normalized = pd.DataFrame(df_male_subset.groupby('education')[['income', 'gender', 'education']].value_counts(normalize=True)).reset_index()\n",
    "df_female_normalized = pd.DataFrame(df_female_subset.groupby('education')[['gender', 'education', 'income']].value_counts(normalize=True)).reset_index()\n",
    "\n"
   ]
  },
  {
   "cell_type": "code",
   "execution_count": 158,
   "metadata": {},
   "outputs": [],
   "source": [
    "# Due to the normalization the df_female_normalized dropped the two 0.0 proportions for '1st-4th' & 'Preschool'\n",
    "# education values and we need to put them back.\n",
    "pre_first_fourth = pd.DataFrame({'education': ['Preschool', '1st-4th'],\n",
    "                    'gender': ['Female', 'Female'],\n",
    "                    'income': ['>50K', '>50K'],\n",
    "                    0: [0.000000, 0.000000]})\n",
    "\n",
    "df_female_normalized = pd.concat([df_female_normalized, pre_first_fourth], ignore_index=True)\n",
    "\n",
    "df_female_normalized.reset_index(inplace=True)"
   ]
  },
  {
   "cell_type": "code",
   "execution_count": 159,
   "metadata": {},
   "outputs": [
    {
     "data": {
      "text/html": [
       "<div>\n",
       "<style scoped>\n",
       "    .dataframe tbody tr th:only-of-type {\n",
       "        vertical-align: middle;\n",
       "    }\n",
       "\n",
       "    .dataframe tbody tr th {\n",
       "        vertical-align: top;\n",
       "    }\n",
       "\n",
       "    .dataframe thead th {\n",
       "        text-align: right;\n",
       "    }\n",
       "</style>\n",
       "<table border=\"1\" class=\"dataframe\">\n",
       "  <thead>\n",
       "    <tr style=\"text-align: right;\">\n",
       "      <th></th>\n",
       "      <th>education</th>\n",
       "      <th>gender</th>\n",
       "      <th>income</th>\n",
       "      <th>0</th>\n",
       "    </tr>\n",
       "  </thead>\n",
       "  <tbody>\n",
       "    <tr>\n",
       "      <th>0</th>\n",
       "      <td>10th</td>\n",
       "      <td>Female</td>\n",
       "      <td>&lt;=50K</td>\n",
       "      <td>0.991247</td>\n",
       "    </tr>\n",
       "    <tr>\n",
       "      <th>1</th>\n",
       "      <td>10th</td>\n",
       "      <td>Female</td>\n",
       "      <td>&gt;50K</td>\n",
       "      <td>0.008753</td>\n",
       "    </tr>\n",
       "    <tr>\n",
       "      <th>2</th>\n",
       "      <td>11th</td>\n",
       "      <td>Female</td>\n",
       "      <td>&lt;=50K</td>\n",
       "      <td>0.983077</td>\n",
       "    </tr>\n",
       "    <tr>\n",
       "      <th>3</th>\n",
       "      <td>11th</td>\n",
       "      <td>Female</td>\n",
       "      <td>&gt;50K</td>\n",
       "      <td>0.016923</td>\n",
       "    </tr>\n",
       "    <tr>\n",
       "      <th>4</th>\n",
       "      <td>12th</td>\n",
       "      <td>Female</td>\n",
       "      <td>&lt;=50K</td>\n",
       "      <td>0.981043</td>\n",
       "    </tr>\n",
       "    <tr>\n",
       "      <th>5</th>\n",
       "      <td>12th</td>\n",
       "      <td>Female</td>\n",
       "      <td>&gt;50K</td>\n",
       "      <td>0.018957</td>\n",
       "    </tr>\n",
       "    <tr>\n",
       "      <th>6</th>\n",
       "      <td>1st-4th</td>\n",
       "      <td>Female</td>\n",
       "      <td>&lt;=50K</td>\n",
       "      <td>1.000000</td>\n",
       "    </tr>\n",
       "    <tr>\n",
       "      <th>7</th>\n",
       "      <td>5th-6th</td>\n",
       "      <td>Female</td>\n",
       "      <td>&lt;=50K</td>\n",
       "      <td>0.968504</td>\n",
       "    </tr>\n",
       "    <tr>\n",
       "      <th>8</th>\n",
       "      <td>5th-6th</td>\n",
       "      <td>Female</td>\n",
       "      <td>&gt;50K</td>\n",
       "      <td>0.031496</td>\n",
       "    </tr>\n",
       "    <tr>\n",
       "      <th>9</th>\n",
       "      <td>7th-8th</td>\n",
       "      <td>Female</td>\n",
       "      <td>&lt;=50K</td>\n",
       "      <td>0.995816</td>\n",
       "    </tr>\n",
       "    <tr>\n",
       "      <th>10</th>\n",
       "      <td>7th-8th</td>\n",
       "      <td>Female</td>\n",
       "      <td>&gt;50K</td>\n",
       "      <td>0.004184</td>\n",
       "    </tr>\n",
       "    <tr>\n",
       "      <th>11</th>\n",
       "      <td>9th</td>\n",
       "      <td>Female</td>\n",
       "      <td>&lt;=50K</td>\n",
       "      <td>0.977273</td>\n",
       "    </tr>\n",
       "    <tr>\n",
       "      <th>12</th>\n",
       "      <td>9th</td>\n",
       "      <td>Female</td>\n",
       "      <td>&gt;50K</td>\n",
       "      <td>0.022727</td>\n",
       "    </tr>\n",
       "    <tr>\n",
       "      <th>13</th>\n",
       "      <td>Assoc-acdm</td>\n",
       "      <td>Female</td>\n",
       "      <td>&lt;=50K</td>\n",
       "      <td>0.862839</td>\n",
       "    </tr>\n",
       "    <tr>\n",
       "      <th>14</th>\n",
       "      <td>Assoc-acdm</td>\n",
       "      <td>Female</td>\n",
       "      <td>&gt;50K</td>\n",
       "      <td>0.137161</td>\n",
       "    </tr>\n",
       "    <tr>\n",
       "      <th>15</th>\n",
       "      <td>Assoc-voc</td>\n",
       "      <td>Female</td>\n",
       "      <td>&lt;=50K</td>\n",
       "      <td>0.873297</td>\n",
       "    </tr>\n",
       "    <tr>\n",
       "      <th>16</th>\n",
       "      <td>Assoc-voc</td>\n",
       "      <td>Female</td>\n",
       "      <td>&gt;50K</td>\n",
       "      <td>0.126703</td>\n",
       "    </tr>\n",
       "    <tr>\n",
       "      <th>17</th>\n",
       "      <td>Bachelors</td>\n",
       "      <td>Female</td>\n",
       "      <td>&lt;=50K</td>\n",
       "      <td>0.789665</td>\n",
       "    </tr>\n",
       "    <tr>\n",
       "      <th>18</th>\n",
       "      <td>Bachelors</td>\n",
       "      <td>Female</td>\n",
       "      <td>&gt;50K</td>\n",
       "      <td>0.210335</td>\n",
       "    </tr>\n",
       "    <tr>\n",
       "      <th>19</th>\n",
       "      <td>Doctorate</td>\n",
       "      <td>Female</td>\n",
       "      <td>&gt;50K</td>\n",
       "      <td>0.566372</td>\n",
       "    </tr>\n",
       "    <tr>\n",
       "      <th>20</th>\n",
       "      <td>Doctorate</td>\n",
       "      <td>Female</td>\n",
       "      <td>&lt;=50K</td>\n",
       "      <td>0.433628</td>\n",
       "    </tr>\n",
       "    <tr>\n",
       "      <th>21</th>\n",
       "      <td>HS-grad</td>\n",
       "      <td>Female</td>\n",
       "      <td>&lt;=50K</td>\n",
       "      <td>0.935256</td>\n",
       "    </tr>\n",
       "    <tr>\n",
       "      <th>22</th>\n",
       "      <td>HS-grad</td>\n",
       "      <td>Female</td>\n",
       "      <td>&gt;50K</td>\n",
       "      <td>0.064744</td>\n",
       "    </tr>\n",
       "    <tr>\n",
       "      <th>23</th>\n",
       "      <td>Masters</td>\n",
       "      <td>Female</td>\n",
       "      <td>&lt;=50K</td>\n",
       "      <td>0.656805</td>\n",
       "    </tr>\n",
       "    <tr>\n",
       "      <th>24</th>\n",
       "      <td>Masters</td>\n",
       "      <td>Female</td>\n",
       "      <td>&gt;50K</td>\n",
       "      <td>0.343195</td>\n",
       "    </tr>\n",
       "    <tr>\n",
       "      <th>25</th>\n",
       "      <td>Preschool</td>\n",
       "      <td>Female</td>\n",
       "      <td>&lt;=50K</td>\n",
       "      <td>1.000000</td>\n",
       "    </tr>\n",
       "    <tr>\n",
       "      <th>26</th>\n",
       "      <td>Prof-school</td>\n",
       "      <td>Female</td>\n",
       "      <td>&lt;=50K</td>\n",
       "      <td>0.522727</td>\n",
       "    </tr>\n",
       "    <tr>\n",
       "      <th>27</th>\n",
       "      <td>Prof-school</td>\n",
       "      <td>Female</td>\n",
       "      <td>&gt;50K</td>\n",
       "      <td>0.477273</td>\n",
       "    </tr>\n",
       "    <tr>\n",
       "      <th>28</th>\n",
       "      <td>Some-college</td>\n",
       "      <td>Female</td>\n",
       "      <td>&lt;=50K</td>\n",
       "      <td>0.929871</td>\n",
       "    </tr>\n",
       "    <tr>\n",
       "      <th>29</th>\n",
       "      <td>Some-college</td>\n",
       "      <td>Female</td>\n",
       "      <td>&gt;50K</td>\n",
       "      <td>0.070129</td>\n",
       "    </tr>\n",
       "    <tr>\n",
       "      <th>30</th>\n",
       "      <td>Preschool</td>\n",
       "      <td>Female</td>\n",
       "      <td>&gt;50K</td>\n",
       "      <td>0.000000</td>\n",
       "    </tr>\n",
       "    <tr>\n",
       "      <th>31</th>\n",
       "      <td>1st-4th</td>\n",
       "      <td>Female</td>\n",
       "      <td>&gt;50K</td>\n",
       "      <td>0.000000</td>\n",
       "    </tr>\n",
       "  </tbody>\n",
       "</table>\n",
       "</div>"
      ],
      "text/plain": [
       "       education  gender income         0\n",
       "0           10th  Female  <=50K  0.991247\n",
       "1           10th  Female   >50K  0.008753\n",
       "2           11th  Female  <=50K  0.983077\n",
       "3           11th  Female   >50K  0.016923\n",
       "4           12th  Female  <=50K  0.981043\n",
       "5           12th  Female   >50K  0.018957\n",
       "6        1st-4th  Female  <=50K  1.000000\n",
       "7        5th-6th  Female  <=50K  0.968504\n",
       "8        5th-6th  Female   >50K  0.031496\n",
       "9        7th-8th  Female  <=50K  0.995816\n",
       "10       7th-8th  Female   >50K  0.004184\n",
       "11           9th  Female  <=50K  0.977273\n",
       "12           9th  Female   >50K  0.022727\n",
       "13    Assoc-acdm  Female  <=50K  0.862839\n",
       "14    Assoc-acdm  Female   >50K  0.137161\n",
       "15     Assoc-voc  Female  <=50K  0.873297\n",
       "16     Assoc-voc  Female   >50K  0.126703\n",
       "17     Bachelors  Female  <=50K  0.789665\n",
       "18     Bachelors  Female   >50K  0.210335\n",
       "19     Doctorate  Female   >50K  0.566372\n",
       "20     Doctorate  Female  <=50K  0.433628\n",
       "21       HS-grad  Female  <=50K  0.935256\n",
       "22       HS-grad  Female   >50K  0.064744\n",
       "23       Masters  Female  <=50K  0.656805\n",
       "24       Masters  Female   >50K  0.343195\n",
       "25     Preschool  Female  <=50K  1.000000\n",
       "26   Prof-school  Female  <=50K  0.522727\n",
       "27   Prof-school  Female   >50K  0.477273\n",
       "28  Some-college  Female  <=50K  0.929871\n",
       "29  Some-college  Female   >50K  0.070129\n",
       "30     Preschool  Female   >50K  0.000000\n",
       "31       1st-4th  Female   >50K  0.000000"
      ]
     },
     "execution_count": 159,
     "metadata": {},
     "output_type": "execute_result"
    }
   ],
   "source": [
    "df_female_normalized.drop(columns=['index'])"
   ]
  },
  {
   "cell_type": "code",
   "execution_count": 160,
   "metadata": {},
   "outputs": [],
   "source": [
    "df_male_normalized = order(df_male_normalized)#.set_index('education')"
   ]
  },
  {
   "cell_type": "code",
   "execution_count": 161,
   "metadata": {},
   "outputs": [],
   "source": [
    "df_female_normalized = order(df_female_normalized)#.set_index('education')"
   ]
  },
  {
   "cell_type": "code",
   "execution_count": 162,
   "metadata": {},
   "outputs": [
    {
     "data": {
      "application/vnd.plotly.v1+json": {
       "config": {
        "plotlyServerURL": "https://plot.ly"
       },
       "data": [
        {
         "name": "Male Income Over 50K",
         "offsetgroup": "0",
         "type": "bar",
         "x": [
          "Preschool",
          "1st-4th",
          "5th-6th",
          "9th",
          "11th",
          "7th-8th",
          "10th",
          "12th",
          "HS-grad",
          "Some-college",
          "Assoc-voc",
          "Assoc-acdm",
          "Bachelors",
          "Masters",
          "Doctorate",
          "Prof-school",
          "Preschool",
          "1st-4th",
          "5th-6th",
          "9th",
          "11th",
          "7th-8th",
          "10th",
          "12th",
          "HS-grad",
          "Some-college",
          "Assoc-voc",
          "Assoc-acdm",
          "Bachelors",
          "Masters",
          "Doctorate",
          "Prof-school"
         ],
         "y": [
          0.01694915254237288,
          0.043010752688172046,
          0.060209424083769635,
          0.06716417910447761,
          0.06970740103270223,
          0.08519553072625698,
          0.0890557939914163,
          0.09865470852017937,
          0.20333114999532143,
          0.26417910447761195,
          0.32328560663149963,
          0.33572895277207393,
          0.5032444124008651,
          0.6451434878587197,
          0.762993762993763,
          0.7891737891737892
         ]
        },
        {
         "base": [
          0.01694915254237288,
          0.043010752688172046,
          0.060209424083769635,
          0.06716417910447761,
          0.06970740103270223,
          0.08519553072625698,
          0.0890557939914163,
          0.09865470852017937,
          0.20333114999532143,
          0.26417910447761195,
          0.32328560663149963,
          0.33572895277207393,
          0.5032444124008651,
          0.6451434878587197,
          0.762993762993763,
          0.7891737891737892
         ],
         "name": "Male Income At or Under 50K",
         "offsetgroup": "0",
         "type": "bar",
         "x": [
          "Preschool",
          "1st-4th",
          "5th-6th",
          "9th",
          "11th",
          "7th-8th",
          "10th",
          "12th",
          "HS-grad",
          "Some-college",
          "Assoc-voc",
          "Assoc-acdm",
          "Bachelors",
          "Masters",
          "Doctorate",
          "Prof-school",
          "Preschool",
          "1st-4th",
          "5th-6th",
          "9th",
          "11th",
          "7th-8th",
          "10th",
          "12th",
          "HS-grad",
          "Some-college",
          "Assoc-voc",
          "Assoc-acdm",
          "Bachelors",
          "Masters",
          "Doctorate",
          "Prof-school"
         ],
         "y": [
          0.9830508474576272,
          0.956989247311828,
          0.9397905759162304,
          0.9328358208955224,
          0.9302925989672978,
          0.914804469273743,
          0.9109442060085837,
          0.9013452914798207,
          0.7966688500046786,
          0.735820895522388,
          0.6767143933685004,
          0.6642710472279261,
          0.4967555875991348,
          0.35485651214128033,
          0.23700623700623702,
          0.21082621082621084
         ]
        },
        {
         "name": "Female Income Over 50K",
         "offsetgroup": "1",
         "type": "bar",
         "x": [
          "Preschool",
          "1st-4th",
          "7th-8th",
          "10th",
          "11th",
          "12th",
          "9th",
          "5th-6th",
          "HS-grad",
          "Some-college",
          "Assoc-voc",
          "Assoc-acdm",
          "Bachelors",
          "Masters",
          "Prof-school",
          "Doctorate",
          "1st-4th",
          "Preschool",
          "7th-8th",
          "10th",
          "11th",
          "12th",
          "9th",
          "5th-6th",
          "HS-grad",
          "Some-college",
          "Assoc-voc",
          "Assoc-acdm",
          "Bachelors",
          "Masters",
          "Prof-school",
          "Doctorate"
         ],
         "y": [
          0,
          0,
          0.0041841004184100415,
          0.0087527352297593,
          0.016923076923076923,
          0.018957345971563982,
          0.022727272727272728,
          0.031496062992125984,
          0.06474396703943497,
          0.07012924844423168,
          0.12670299727520437,
          0.1371610845295056,
          0.21033508276140492,
          0.3431952662721893,
          0.4772727272727273,
          0.5663716814159292
         ]
        },
        {
         "base": [
          0,
          0,
          0.0041841004184100415,
          0.0087527352297593,
          0.016923076923076923,
          0.018957345971563982,
          0.022727272727272728,
          0.031496062992125984,
          0.06474396703943497,
          0.07012924844423168,
          0.12670299727520437,
          0.1371610845295056,
          0.21033508276140492,
          0.3431952662721893,
          0.4772727272727273,
          0.5663716814159292
         ],
         "name": "Female Income At or Under 50K",
         "offsetgroup": "1",
         "type": "bar",
         "x": [
          "Preschool",
          "1st-4th",
          "7th-8th",
          "10th",
          "11th",
          "12th",
          "9th",
          "5th-6th",
          "HS-grad",
          "Some-college",
          "Assoc-voc",
          "Assoc-acdm",
          "Bachelors",
          "Masters",
          "Prof-school",
          "Doctorate",
          "1st-4th",
          "Preschool",
          "7th-8th",
          "10th",
          "11th",
          "12th",
          "9th",
          "5th-6th",
          "HS-grad",
          "Some-college",
          "Assoc-voc",
          "Assoc-acdm",
          "Bachelors",
          "Masters",
          "Prof-school",
          "Doctorate"
         ],
         "y": [
          1,
          1,
          0.99581589958159,
          0.9912472647702407,
          0.9830769230769231,
          0.981042654028436,
          0.9772727272727273,
          0.968503937007874,
          0.935256032960565,
          0.9298707515557683,
          0.8732970027247956,
          0.8628389154704944,
          0.7896649172385951,
          0.6568047337278107,
          0.5227272727272727,
          0.4336283185840708
         ]
        }
       ],
       "layout": {
        "template": {
         "data": {
          "bar": [
           {
            "error_x": {
             "color": "#2a3f5f"
            },
            "error_y": {
             "color": "#2a3f5f"
            },
            "marker": {
             "line": {
              "color": "#E5ECF6",
              "width": 0.5
             },
             "pattern": {
              "fillmode": "overlay",
              "size": 10,
              "solidity": 0.2
             }
            },
            "type": "bar"
           }
          ],
          "barpolar": [
           {
            "marker": {
             "line": {
              "color": "#E5ECF6",
              "width": 0.5
             },
             "pattern": {
              "fillmode": "overlay",
              "size": 10,
              "solidity": 0.2
             }
            },
            "type": "barpolar"
           }
          ],
          "carpet": [
           {
            "aaxis": {
             "endlinecolor": "#2a3f5f",
             "gridcolor": "white",
             "linecolor": "white",
             "minorgridcolor": "white",
             "startlinecolor": "#2a3f5f"
            },
            "baxis": {
             "endlinecolor": "#2a3f5f",
             "gridcolor": "white",
             "linecolor": "white",
             "minorgridcolor": "white",
             "startlinecolor": "#2a3f5f"
            },
            "type": "carpet"
           }
          ],
          "choropleth": [
           {
            "colorbar": {
             "outlinewidth": 0,
             "ticks": ""
            },
            "type": "choropleth"
           }
          ],
          "contour": [
           {
            "colorbar": {
             "outlinewidth": 0,
             "ticks": ""
            },
            "colorscale": [
             [
              0,
              "#0d0887"
             ],
             [
              0.1111111111111111,
              "#46039f"
             ],
             [
              0.2222222222222222,
              "#7201a8"
             ],
             [
              0.3333333333333333,
              "#9c179e"
             ],
             [
              0.4444444444444444,
              "#bd3786"
             ],
             [
              0.5555555555555556,
              "#d8576b"
             ],
             [
              0.6666666666666666,
              "#ed7953"
             ],
             [
              0.7777777777777778,
              "#fb9f3a"
             ],
             [
              0.8888888888888888,
              "#fdca26"
             ],
             [
              1,
              "#f0f921"
             ]
            ],
            "type": "contour"
           }
          ],
          "contourcarpet": [
           {
            "colorbar": {
             "outlinewidth": 0,
             "ticks": ""
            },
            "type": "contourcarpet"
           }
          ],
          "heatmap": [
           {
            "colorbar": {
             "outlinewidth": 0,
             "ticks": ""
            },
            "colorscale": [
             [
              0,
              "#0d0887"
             ],
             [
              0.1111111111111111,
              "#46039f"
             ],
             [
              0.2222222222222222,
              "#7201a8"
             ],
             [
              0.3333333333333333,
              "#9c179e"
             ],
             [
              0.4444444444444444,
              "#bd3786"
             ],
             [
              0.5555555555555556,
              "#d8576b"
             ],
             [
              0.6666666666666666,
              "#ed7953"
             ],
             [
              0.7777777777777778,
              "#fb9f3a"
             ],
             [
              0.8888888888888888,
              "#fdca26"
             ],
             [
              1,
              "#f0f921"
             ]
            ],
            "type": "heatmap"
           }
          ],
          "heatmapgl": [
           {
            "colorbar": {
             "outlinewidth": 0,
             "ticks": ""
            },
            "colorscale": [
             [
              0,
              "#0d0887"
             ],
             [
              0.1111111111111111,
              "#46039f"
             ],
             [
              0.2222222222222222,
              "#7201a8"
             ],
             [
              0.3333333333333333,
              "#9c179e"
             ],
             [
              0.4444444444444444,
              "#bd3786"
             ],
             [
              0.5555555555555556,
              "#d8576b"
             ],
             [
              0.6666666666666666,
              "#ed7953"
             ],
             [
              0.7777777777777778,
              "#fb9f3a"
             ],
             [
              0.8888888888888888,
              "#fdca26"
             ],
             [
              1,
              "#f0f921"
             ]
            ],
            "type": "heatmapgl"
           }
          ],
          "histogram": [
           {
            "marker": {
             "pattern": {
              "fillmode": "overlay",
              "size": 10,
              "solidity": 0.2
             }
            },
            "type": "histogram"
           }
          ],
          "histogram2d": [
           {
            "colorbar": {
             "outlinewidth": 0,
             "ticks": ""
            },
            "colorscale": [
             [
              0,
              "#0d0887"
             ],
             [
              0.1111111111111111,
              "#46039f"
             ],
             [
              0.2222222222222222,
              "#7201a8"
             ],
             [
              0.3333333333333333,
              "#9c179e"
             ],
             [
              0.4444444444444444,
              "#bd3786"
             ],
             [
              0.5555555555555556,
              "#d8576b"
             ],
             [
              0.6666666666666666,
              "#ed7953"
             ],
             [
              0.7777777777777778,
              "#fb9f3a"
             ],
             [
              0.8888888888888888,
              "#fdca26"
             ],
             [
              1,
              "#f0f921"
             ]
            ],
            "type": "histogram2d"
           }
          ],
          "histogram2dcontour": [
           {
            "colorbar": {
             "outlinewidth": 0,
             "ticks": ""
            },
            "colorscale": [
             [
              0,
              "#0d0887"
             ],
             [
              0.1111111111111111,
              "#46039f"
             ],
             [
              0.2222222222222222,
              "#7201a8"
             ],
             [
              0.3333333333333333,
              "#9c179e"
             ],
             [
              0.4444444444444444,
              "#bd3786"
             ],
             [
              0.5555555555555556,
              "#d8576b"
             ],
             [
              0.6666666666666666,
              "#ed7953"
             ],
             [
              0.7777777777777778,
              "#fb9f3a"
             ],
             [
              0.8888888888888888,
              "#fdca26"
             ],
             [
              1,
              "#f0f921"
             ]
            ],
            "type": "histogram2dcontour"
           }
          ],
          "mesh3d": [
           {
            "colorbar": {
             "outlinewidth": 0,
             "ticks": ""
            },
            "type": "mesh3d"
           }
          ],
          "parcoords": [
           {
            "line": {
             "colorbar": {
              "outlinewidth": 0,
              "ticks": ""
             }
            },
            "type": "parcoords"
           }
          ],
          "pie": [
           {
            "automargin": true,
            "type": "pie"
           }
          ],
          "scatter": [
           {
            "fillpattern": {
             "fillmode": "overlay",
             "size": 10,
             "solidity": 0.2
            },
            "type": "scatter"
           }
          ],
          "scatter3d": [
           {
            "line": {
             "colorbar": {
              "outlinewidth": 0,
              "ticks": ""
             }
            },
            "marker": {
             "colorbar": {
              "outlinewidth": 0,
              "ticks": ""
             }
            },
            "type": "scatter3d"
           }
          ],
          "scattercarpet": [
           {
            "marker": {
             "colorbar": {
              "outlinewidth": 0,
              "ticks": ""
             }
            },
            "type": "scattercarpet"
           }
          ],
          "scattergeo": [
           {
            "marker": {
             "colorbar": {
              "outlinewidth": 0,
              "ticks": ""
             }
            },
            "type": "scattergeo"
           }
          ],
          "scattergl": [
           {
            "marker": {
             "colorbar": {
              "outlinewidth": 0,
              "ticks": ""
             }
            },
            "type": "scattergl"
           }
          ],
          "scattermapbox": [
           {
            "marker": {
             "colorbar": {
              "outlinewidth": 0,
              "ticks": ""
             }
            },
            "type": "scattermapbox"
           }
          ],
          "scatterpolar": [
           {
            "marker": {
             "colorbar": {
              "outlinewidth": 0,
              "ticks": ""
             }
            },
            "type": "scatterpolar"
           }
          ],
          "scatterpolargl": [
           {
            "marker": {
             "colorbar": {
              "outlinewidth": 0,
              "ticks": ""
             }
            },
            "type": "scatterpolargl"
           }
          ],
          "scatterternary": [
           {
            "marker": {
             "colorbar": {
              "outlinewidth": 0,
              "ticks": ""
             }
            },
            "type": "scatterternary"
           }
          ],
          "surface": [
           {
            "colorbar": {
             "outlinewidth": 0,
             "ticks": ""
            },
            "colorscale": [
             [
              0,
              "#0d0887"
             ],
             [
              0.1111111111111111,
              "#46039f"
             ],
             [
              0.2222222222222222,
              "#7201a8"
             ],
             [
              0.3333333333333333,
              "#9c179e"
             ],
             [
              0.4444444444444444,
              "#bd3786"
             ],
             [
              0.5555555555555556,
              "#d8576b"
             ],
             [
              0.6666666666666666,
              "#ed7953"
             ],
             [
              0.7777777777777778,
              "#fb9f3a"
             ],
             [
              0.8888888888888888,
              "#fdca26"
             ],
             [
              1,
              "#f0f921"
             ]
            ],
            "type": "surface"
           }
          ],
          "table": [
           {
            "cells": {
             "fill": {
              "color": "#EBF0F8"
             },
             "line": {
              "color": "white"
             }
            },
            "header": {
             "fill": {
              "color": "#C8D4E3"
             },
             "line": {
              "color": "white"
             }
            },
            "type": "table"
           }
          ]
         },
         "layout": {
          "annotationdefaults": {
           "arrowcolor": "#2a3f5f",
           "arrowhead": 0,
           "arrowwidth": 1
          },
          "autotypenumbers": "strict",
          "coloraxis": {
           "colorbar": {
            "outlinewidth": 0,
            "ticks": ""
           }
          },
          "colorscale": {
           "diverging": [
            [
             0,
             "#8e0152"
            ],
            [
             0.1,
             "#c51b7d"
            ],
            [
             0.2,
             "#de77ae"
            ],
            [
             0.3,
             "#f1b6da"
            ],
            [
             0.4,
             "#fde0ef"
            ],
            [
             0.5,
             "#f7f7f7"
            ],
            [
             0.6,
             "#e6f5d0"
            ],
            [
             0.7,
             "#b8e186"
            ],
            [
             0.8,
             "#7fbc41"
            ],
            [
             0.9,
             "#4d9221"
            ],
            [
             1,
             "#276419"
            ]
           ],
           "sequential": [
            [
             0,
             "#0d0887"
            ],
            [
             0.1111111111111111,
             "#46039f"
            ],
            [
             0.2222222222222222,
             "#7201a8"
            ],
            [
             0.3333333333333333,
             "#9c179e"
            ],
            [
             0.4444444444444444,
             "#bd3786"
            ],
            [
             0.5555555555555556,
             "#d8576b"
            ],
            [
             0.6666666666666666,
             "#ed7953"
            ],
            [
             0.7777777777777778,
             "#fb9f3a"
            ],
            [
             0.8888888888888888,
             "#fdca26"
            ],
            [
             1,
             "#f0f921"
            ]
           ],
           "sequentialminus": [
            [
             0,
             "#0d0887"
            ],
            [
             0.1111111111111111,
             "#46039f"
            ],
            [
             0.2222222222222222,
             "#7201a8"
            ],
            [
             0.3333333333333333,
             "#9c179e"
            ],
            [
             0.4444444444444444,
             "#bd3786"
            ],
            [
             0.5555555555555556,
             "#d8576b"
            ],
            [
             0.6666666666666666,
             "#ed7953"
            ],
            [
             0.7777777777777778,
             "#fb9f3a"
            ],
            [
             0.8888888888888888,
             "#fdca26"
            ],
            [
             1,
             "#f0f921"
            ]
           ]
          },
          "colorway": [
           "#636efa",
           "#EF553B",
           "#00cc96",
           "#ab63fa",
           "#FFA15A",
           "#19d3f3",
           "#FF6692",
           "#B6E880",
           "#FF97FF",
           "#FECB52"
          ],
          "font": {
           "color": "#2a3f5f"
          },
          "geo": {
           "bgcolor": "white",
           "lakecolor": "white",
           "landcolor": "#E5ECF6",
           "showlakes": true,
           "showland": true,
           "subunitcolor": "white"
          },
          "hoverlabel": {
           "align": "left"
          },
          "hovermode": "closest",
          "mapbox": {
           "style": "light"
          },
          "paper_bgcolor": "white",
          "plot_bgcolor": "#E5ECF6",
          "polar": {
           "angularaxis": {
            "gridcolor": "white",
            "linecolor": "white",
            "ticks": ""
           },
           "bgcolor": "#E5ECF6",
           "radialaxis": {
            "gridcolor": "white",
            "linecolor": "white",
            "ticks": ""
           }
          },
          "scene": {
           "xaxis": {
            "backgroundcolor": "#E5ECF6",
            "gridcolor": "white",
            "gridwidth": 2,
            "linecolor": "white",
            "showbackground": true,
            "ticks": "",
            "zerolinecolor": "white"
           },
           "yaxis": {
            "backgroundcolor": "#E5ECF6",
            "gridcolor": "white",
            "gridwidth": 2,
            "linecolor": "white",
            "showbackground": true,
            "ticks": "",
            "zerolinecolor": "white"
           },
           "zaxis": {
            "backgroundcolor": "#E5ECF6",
            "gridcolor": "white",
            "gridwidth": 2,
            "linecolor": "white",
            "showbackground": true,
            "ticks": "",
            "zerolinecolor": "white"
           }
          },
          "shapedefaults": {
           "line": {
            "color": "#2a3f5f"
           }
          },
          "ternary": {
           "aaxis": {
            "gridcolor": "white",
            "linecolor": "white",
            "ticks": ""
           },
           "baxis": {
            "gridcolor": "white",
            "linecolor": "white",
            "ticks": ""
           },
           "bgcolor": "#E5ECF6",
           "caxis": {
            "gridcolor": "white",
            "linecolor": "white",
            "ticks": ""
           }
          },
          "title": {
           "x": 0.05
          },
          "xaxis": {
           "automargin": true,
           "gridcolor": "white",
           "linecolor": "white",
           "ticks": "",
           "title": {
            "standoff": 15
           },
           "zerolinecolor": "white",
           "zerolinewidth": 2
          },
          "yaxis": {
           "automargin": true,
           "gridcolor": "white",
           "linecolor": "white",
           "ticks": "",
           "title": {
            "standoff": 15
           },
           "zerolinecolor": "white",
           "zerolinewidth": 2
          }
         }
        },
        "title": {
         "text": "Percent Success Rate by Education"
        },
        "yaxis": {
         "title": {
          "text": "%"
         }
        }
       }
      }
     },
     "metadata": {},
     "output_type": "display_data"
    }
   ],
   "source": [
    "fig = go.Figure(\n",
    "    data=[\n",
    "        go.Bar(\n",
    "            name=\"Male Income Over 50K\",\n",
    "            x=df_male_normalized[\"education\"],\n",
    "            y=df_male_normalized[df_male_normalized['income'] == '>50K'][0],\n",
    "            offsetgroup=0,\n",
    "        ),\n",
    "        go.Bar(\n",
    "            name=\"Male Income At or Under 50K\",\n",
    "            x=df_male_normalized[\"education\"],\n",
    "            y=df_male_normalized[df_male_normalized['income'] == '<=50K'][0],\n",
    "            offsetgroup=0,\n",
    "            base=df_male_normalized[df_male_normalized['income'] == '>50K'][0]\n",
    "        ),\n",
    "        go.Bar(\n",
    "            name=\"Female Income Over 50K\",\n",
    "            x=df_female_normalized[\"education\"],\n",
    "            y=df_female_normalized[df_female_normalized['income'] == '>50K'][0],\n",
    "            offsetgroup=1,\n",
    "        ),\n",
    "        go.Bar(\n",
    "            name=\"Female Income At or Under 50K\",\n",
    "            x=df_female_normalized[\"education\"],\n",
    "            y=df_female_normalized[df_female_normalized['income'] == '<=50K'][0],\n",
    "            offsetgroup=1,\n",
    "            base=df_female_normalized[df_female_normalized['income'] == '>50K'][0],\n",
    "        )\n",
    "    ],\n",
    "    layout=go.Layout(\n",
    "        title=\"Percent Success Rate by Education\",\n",
    "        yaxis_title=\"%\"\n",
    "    )\n",
    ")\n",
    "fig.show()\n"
   ]
  },
  {
   "cell_type": "markdown",
   "metadata": {},
   "source": [
    "So something very interesting to note: taking a naive, face-value approach to education, your odds of earning over 50K is still very low. Even if you earn your Bachelor's degree, at best your odds are approximately 50/50.  However, for Men at least, Master's degrees, you finally get a break of increased chances for earning over 50K, going from approx, 2:1 odds at Master's, and then 3:1 for Doctorate, and Professional school, with Professional School, interestingly enough, getting a slightly better chance of achieving that higher income with approx. 5:1 odds.  Maybe that Doctoral degree isn't all it's cracked up to be, especially when taking into account the plausible cost!\n",
    "\n",
    "For women however it's a different story,  There best odds are only favorable for success for the Doctoral degree with a little over 1:1 odds and the close second but a little under favorable odds is the Professional School.\n",
    "\n",
    "Why is that?  my best guess is that the majority of women choose to get married or otherwise provided for and so perhaps they generally just don't become high earners.  to investigate that We are going to do the same thing we just did but this time we are going view through the lense of 'relationship'"
   ]
  },
  {
   "cell_type": "code",
   "execution_count": 163,
   "metadata": {},
   "outputs": [
    {
     "data": {
      "image/png": "[encoded data removed]",
      "text/plain": [
       "<Figure size 640x480 with 2 Axes>"
      ]
     },
     "metadata": {},
     "output_type": "display_data"
    }
   ],
   "source": [
    "fig, (ax1, ax2) = plt.subplots(1,2, constrained_layout=True, sharey=True)\n",
    "fig.suptitle('A Comparison of Incomes Above and Below 50k by Relationship and Gender')\n",
    "\n",
    "\n",
    "sns.barplot(data=pd.DataFrame(df_above50k.groupby('relationship')[['gender', 'relationship']].value_counts()).reset_index(), \n",
    "            x='relationship', \n",
    "            y=0, \n",
    "            hue='gender',\n",
    "            errorbar=('ci', False),\n",
    "            ax=ax1)\n",
    "ax1.set_title('Sum of Jobs Above 50k\\nby Relationship and Gender')\n",
    "ax1.set_xlabel('Relationship')\n",
    "ax1.set_ylabel('Counts from Sample')\n",
    "ax1.tick_params(axis='x', labelrotation=90)\n",
    "\n",
    "sns.barplot(data=pd.DataFrame(df_below50k.groupby('relationship')[['gender', 'relationship']].value_counts()).reset_index(), \n",
    "            x='relationship', \n",
    "            y=0, \n",
    "            hue='gender',\n",
    "            errorbar=('ci', False),\n",
    "            ax=ax2)\n",
    "ax2.set_title('Sum of Jobs Below 50k\\nby Relationship and Gender')\n",
    "ax2.set_xlabel('Relationship')\n",
    "ax2.set_ylabel('Counts from Sample')\n",
    "ax2.tick_params(axis='x', labelrotation=90)\n",
    "\n",
    "plt.show()"
   ]
  },
  {
   "cell_type": "markdown",
   "metadata": {},
   "source": [
    "Wow! what an upset.  The lionshare of relationships fall under husband, but interestingly enough, when it comes to the women,  the majority are either not-in-family, own-child, or unmarried category,  However, the majority of women who are earning above 50K are in fact Married. now whether that is their own income or they are counting the income of their spouse it isn't clear in this dataset and, to my knowledge, neither was that specified when this data was collected."
   ]
  },
  {
   "cell_type": "code",
   "execution_count": 164,
   "metadata": {},
   "outputs": [],
   "source": [
    "df_male_normalized = pd.DataFrame(df_male_subset.groupby('relationship')[['income', 'gender', 'relationship']].value_counts(normalize=True)).reset_index()\n",
    "df_female_normalized = pd.DataFrame(df_female_subset.groupby('relationship')[['income', 'gender', 'relationship']].value_counts(normalize=True)).reset_index()"
   ]
  },
  {
   "cell_type": "code",
   "execution_count": 165,
   "metadata": {},
   "outputs": [
    {
     "data": {
      "text/html": [
       "<div>\n",
       "<style scoped>\n",
       "    .dataframe tbody tr th:only-of-type {\n",
       "        vertical-align: middle;\n",
       "    }\n",
       "\n",
       "    .dataframe tbody tr th {\n",
       "        vertical-align: top;\n",
       "    }\n",
       "\n",
       "    .dataframe thead th {\n",
       "        text-align: right;\n",
       "    }\n",
       "</style>\n",
       "<table border=\"1\" class=\"dataframe\">\n",
       "  <thead>\n",
       "    <tr style=\"text-align: right;\">\n",
       "      <th></th>\n",
       "      <th>relationship</th>\n",
       "      <th>income</th>\n",
       "      <th>gender</th>\n",
       "      <th>0</th>\n",
       "    </tr>\n",
       "  </thead>\n",
       "  <tbody>\n",
       "    <tr>\n",
       "      <th>0</th>\n",
       "      <td>Husband</td>\n",
       "      <td>&lt;=50K</td>\n",
       "      <td>Male</td>\n",
       "      <td>0.551306</td>\n",
       "    </tr>\n",
       "    <tr>\n",
       "      <th>1</th>\n",
       "      <td>Husband</td>\n",
       "      <td>&gt;50K</td>\n",
       "      <td>Male</td>\n",
       "      <td>0.448694</td>\n",
       "    </tr>\n",
       "    <tr>\n",
       "      <th>2</th>\n",
       "      <td>Not-in-family</td>\n",
       "      <td>&lt;=50K</td>\n",
       "      <td>Male</td>\n",
       "      <td>0.876955</td>\n",
       "    </tr>\n",
       "    <tr>\n",
       "      <th>3</th>\n",
       "      <td>Not-in-family</td>\n",
       "      <td>&gt;50K</td>\n",
       "      <td>Male</td>\n",
       "      <td>0.123045</td>\n",
       "    </tr>\n",
       "    <tr>\n",
       "      <th>4</th>\n",
       "      <td>Other-relative</td>\n",
       "      <td>&lt;=50K</td>\n",
       "      <td>Male</td>\n",
       "      <td>0.965728</td>\n",
       "    </tr>\n",
       "    <tr>\n",
       "      <th>5</th>\n",
       "      <td>Other-relative</td>\n",
       "      <td>&gt;50K</td>\n",
       "      <td>Male</td>\n",
       "      <td>0.034272</td>\n",
       "    </tr>\n",
       "    <tr>\n",
       "      <th>6</th>\n",
       "      <td>Own-child</td>\n",
       "      <td>&lt;=50K</td>\n",
       "      <td>Male</td>\n",
       "      <td>0.983353</td>\n",
       "    </tr>\n",
       "    <tr>\n",
       "      <th>7</th>\n",
       "      <td>Own-child</td>\n",
       "      <td>&gt;50K</td>\n",
       "      <td>Male</td>\n",
       "      <td>0.016647</td>\n",
       "    </tr>\n",
       "    <tr>\n",
       "      <th>8</th>\n",
       "      <td>Unmarried</td>\n",
       "      <td>&lt;=50K</td>\n",
       "      <td>Male</td>\n",
       "      <td>0.877193</td>\n",
       "    </tr>\n",
       "    <tr>\n",
       "      <th>9</th>\n",
       "      <td>Unmarried</td>\n",
       "      <td>&gt;50K</td>\n",
       "      <td>Male</td>\n",
       "      <td>0.122807</td>\n",
       "    </tr>\n",
       "    <tr>\n",
       "      <th>10</th>\n",
       "      <td>Wife</td>\n",
       "      <td>&lt;=50K</td>\n",
       "      <td>Male</td>\n",
       "      <td>0.666667</td>\n",
       "    </tr>\n",
       "    <tr>\n",
       "      <th>11</th>\n",
       "      <td>Wife</td>\n",
       "      <td>&gt;50K</td>\n",
       "      <td>Male</td>\n",
       "      <td>0.333333</td>\n",
       "    </tr>\n",
       "  </tbody>\n",
       "</table>\n",
       "</div>"
      ],
      "text/plain": [
       "      relationship income gender         0\n",
       "0          Husband  <=50K   Male  0.551306\n",
       "1          Husband   >50K   Male  0.448694\n",
       "2    Not-in-family  <=50K   Male  0.876955\n",
       "3    Not-in-family   >50K   Male  0.123045\n",
       "4   Other-relative  <=50K   Male  0.965728\n",
       "5   Other-relative   >50K   Male  0.034272\n",
       "6        Own-child  <=50K   Male  0.983353\n",
       "7        Own-child   >50K   Male  0.016647\n",
       "8        Unmarried  <=50K   Male  0.877193\n",
       "9        Unmarried   >50K   Male  0.122807\n",
       "10            Wife  <=50K   Male  0.666667\n",
       "11            Wife   >50K   Male  0.333333"
      ]
     },
     "execution_count": 165,
     "metadata": {},
     "output_type": "execute_result"
    }
   ],
   "source": [
    "df_male_normalized"
   ]
  },
  {
   "cell_type": "code",
   "execution_count": 166,
   "metadata": {},
   "outputs": [],
   "source": [
    "# Due to the normalization the df_female_normalized dropped the two 0.0 proportions for 'Husband' in\n",
    "# relationship values and we need to put it back.\n",
    "Husband = pd.DataFrame({'relationship': ['Husband'],\n",
    "                    'gender': ['Female'],\n",
    "                    'income': ['>50K'],\n",
    "                    0: [0.000000]})\n",
    "\n",
    "df_female_normalized = pd.concat([df_female_normalized, Husband], ignore_index=True)\n",
    "\n",
    "df_female_normalized.reset_index(inplace=True)"
   ]
  },
  {
   "cell_type": "code",
   "execution_count": 167,
   "metadata": {},
   "outputs": [
    {
     "data": {
      "text/html": [
       "<div>\n",
       "<style scoped>\n",
       "    .dataframe tbody tr th:only-of-type {\n",
       "        vertical-align: middle;\n",
       "    }\n",
       "\n",
       "    .dataframe tbody tr th {\n",
       "        vertical-align: top;\n",
       "    }\n",
       "\n",
       "    .dataframe thead th {\n",
       "        text-align: right;\n",
       "    }\n",
       "</style>\n",
       "<table border=\"1\" class=\"dataframe\">\n",
       "  <thead>\n",
       "    <tr style=\"text-align: right;\">\n",
       "      <th></th>\n",
       "      <th>relationship</th>\n",
       "      <th>income</th>\n",
       "      <th>gender</th>\n",
       "      <th>0</th>\n",
       "    </tr>\n",
       "  </thead>\n",
       "  <tbody>\n",
       "    <tr>\n",
       "      <th>0</th>\n",
       "      <td>Husband</td>\n",
       "      <td>&lt;=50K</td>\n",
       "      <td>Female</td>\n",
       "      <td>1.000000</td>\n",
       "    </tr>\n",
       "    <tr>\n",
       "      <th>1</th>\n",
       "      <td>Not-in-family</td>\n",
       "      <td>&lt;=50K</td>\n",
       "      <td>Female</td>\n",
       "      <td>0.923339</td>\n",
       "    </tr>\n",
       "    <tr>\n",
       "      <th>2</th>\n",
       "      <td>Not-in-family</td>\n",
       "      <td>&gt;50K</td>\n",
       "      <td>Female</td>\n",
       "      <td>0.076661</td>\n",
       "    </tr>\n",
       "    <tr>\n",
       "      <th>3</th>\n",
       "      <td>Other-relative</td>\n",
       "      <td>&lt;=50K</td>\n",
       "      <td>Female</td>\n",
       "      <td>0.965167</td>\n",
       "    </tr>\n",
       "    <tr>\n",
       "      <th>4</th>\n",
       "      <td>Other-relative</td>\n",
       "      <td>&gt;50K</td>\n",
       "      <td>Female</td>\n",
       "      <td>0.034833</td>\n",
       "    </tr>\n",
       "    <tr>\n",
       "      <th>5</th>\n",
       "      <td>Own-child</td>\n",
       "      <td>&lt;=50K</td>\n",
       "      <td>Female</td>\n",
       "      <td>0.987855</td>\n",
       "    </tr>\n",
       "    <tr>\n",
       "      <th>6</th>\n",
       "      <td>Own-child</td>\n",
       "      <td>&gt;50K</td>\n",
       "      <td>Female</td>\n",
       "      <td>0.012145</td>\n",
       "    </tr>\n",
       "    <tr>\n",
       "      <th>7</th>\n",
       "      <td>Unmarried</td>\n",
       "      <td>&lt;=50K</td>\n",
       "      <td>Female</td>\n",
       "      <td>0.958758</td>\n",
       "    </tr>\n",
       "    <tr>\n",
       "      <th>8</th>\n",
       "      <td>Unmarried</td>\n",
       "      <td>&gt;50K</td>\n",
       "      <td>Female</td>\n",
       "      <td>0.041242</td>\n",
       "    </tr>\n",
       "    <tr>\n",
       "      <th>9</th>\n",
       "      <td>Wife</td>\n",
       "      <td>&lt;=50K</td>\n",
       "      <td>Female</td>\n",
       "      <td>0.530928</td>\n",
       "    </tr>\n",
       "    <tr>\n",
       "      <th>10</th>\n",
       "      <td>Wife</td>\n",
       "      <td>&gt;50K</td>\n",
       "      <td>Female</td>\n",
       "      <td>0.469072</td>\n",
       "    </tr>\n",
       "    <tr>\n",
       "      <th>11</th>\n",
       "      <td>Husband</td>\n",
       "      <td>&gt;50K</td>\n",
       "      <td>Female</td>\n",
       "      <td>0.000000</td>\n",
       "    </tr>\n",
       "  </tbody>\n",
       "</table>\n",
       "</div>"
      ],
      "text/plain": [
       "      relationship income  gender         0\n",
       "0          Husband  <=50K  Female  1.000000\n",
       "1    Not-in-family  <=50K  Female  0.923339\n",
       "2    Not-in-family   >50K  Female  0.076661\n",
       "3   Other-relative  <=50K  Female  0.965167\n",
       "4   Other-relative   >50K  Female  0.034833\n",
       "5        Own-child  <=50K  Female  0.987855\n",
       "6        Own-child   >50K  Female  0.012145\n",
       "7        Unmarried  <=50K  Female  0.958758\n",
       "8        Unmarried   >50K  Female  0.041242\n",
       "9             Wife  <=50K  Female  0.530928\n",
       "10            Wife   >50K  Female  0.469072\n",
       "11         Husband   >50K  Female  0.000000"
      ]
     },
     "execution_count": 167,
     "metadata": {},
     "output_type": "execute_result"
    }
   ],
   "source": [
    "df_female_normalized.drop(columns=['index'])"
   ]
  },
  {
   "cell_type": "code",
   "execution_count": 168,
   "metadata": {},
   "outputs": [],
   "source": [
    "df_male_normalized = order(df_male_normalized)\n",
    "df_female_normalized = order(df_female_normalized)"
   ]
  },
  {
   "cell_type": "code",
   "execution_count": 169,
   "metadata": {},
   "outputs": [
    {
     "data": {
      "application/vnd.plotly.v1+json": {
       "config": {
        "plotlyServerURL": "https://plot.ly"
       },
       "data": [
        {
         "name": "Male Income Over 50K",
         "offsetgroup": "0",
         "type": "bar",
         "x": [
          "Own-child",
          "Other-relative",
          "Unmarried",
          "Not-in-family",
          "Wife",
          "Husband",
          "Own-child",
          "Other-relative",
          "Unmarried",
          "Not-in-family",
          "Wife",
          "Husband"
         ],
         "y": [
          0.016646848989298454,
          0.03427172582619339,
          0.12280701754385964,
          0.12304483837330553,
          0.3333333333333333,
          0.4486938879026122
         ]
        },
        {
         "base": [
          0.016646848989298454,
          0.03427172582619339,
          0.12280701754385964,
          0.12304483837330553,
          0.3333333333333333,
          0.4486938879026122
         ],
         "name": "Male Income At or Under 50K",
         "offsetgroup": "0",
         "type": "bar",
         "x": [
          "Own-child",
          "Other-relative",
          "Unmarried",
          "Not-in-family",
          "Wife",
          "Husband",
          "Own-child",
          "Other-relative",
          "Unmarried",
          "Not-in-family",
          "Wife",
          "Husband"
         ],
         "y": [
          0.9833531510107015,
          0.9657282741738066,
          0.8771929824561403,
          0.8769551616266945,
          0.6666666666666666,
          0.5513061120973878
         ]
        },
        {
         "name": "Female Income Over 50K",
         "offsetgroup": "1",
         "type": "bar",
         "x": [
          "Husband",
          "Own-child",
          "Other-relative",
          "Unmarried",
          "Not-in-family",
          "Wife",
          "Husband",
          "Own-child",
          "Other-relative",
          "Unmarried",
          "Not-in-family",
          "Wife"
         ],
         "y": [
          0,
          0.012144549763033176,
          0.03483309143686502,
          0.04124236252545825,
          0.07666098807495741,
          0.4690721649484536
         ]
        },
        {
         "base": [
          0,
          0.012144549763033176,
          0.03483309143686502,
          0.04124236252545825,
          0.07666098807495741,
          0.4690721649484536
         ],
         "name": "Female Income At or Under 50K",
         "offsetgroup": "1",
         "type": "bar",
         "x": [
          "Husband",
          "Own-child",
          "Other-relative",
          "Unmarried",
          "Not-in-family",
          "Wife",
          "Husband",
          "Own-child",
          "Other-relative",
          "Unmarried",
          "Not-in-family",
          "Wife"
         ],
         "y": [
          1,
          0.9878554502369669,
          0.965166908563135,
          0.9587576374745418,
          0.9233390119250426,
          0.5309278350515464
         ]
        }
       ],
       "layout": {
        "template": {
         "data": {
          "bar": [
           {
            "error_x": {
             "color": "#2a3f5f"
            },
            "error_y": {
             "color": "#2a3f5f"
            },
            "marker": {
             "line": {
              "color": "#E5ECF6",
              "width": 0.5
             },
             "pattern": {
              "fillmode": "overlay",
              "size": 10,
              "solidity": 0.2
             }
            },
            "type": "bar"
           }
          ],
          "barpolar": [
           {
            "marker": {
             "line": {
              "color": "#E5ECF6",
              "width": 0.5
             },
             "pattern": {
              "fillmode": "overlay",
              "size": 10,
              "solidity": 0.2
             }
            },
            "type": "barpolar"
           }
          ],
          "carpet": [
           {
            "aaxis": {
             "endlinecolor": "#2a3f5f",
             "gridcolor": "white",
             "linecolor": "white",
             "minorgridcolor": "white",
             "startlinecolor": "#2a3f5f"
            },
            "baxis": {
             "endlinecolor": "#2a3f5f",
             "gridcolor": "white",
             "linecolor": "white",
             "minorgridcolor": "white",
             "startlinecolor": "#2a3f5f"
            },
            "type": "carpet"
           }
          ],
          "choropleth": [
           {
            "colorbar": {
             "outlinewidth": 0,
             "ticks": ""
            },
            "type": "choropleth"
           }
          ],
          "contour": [
           {
            "colorbar": {
             "outlinewidth": 0,
             "ticks": ""
            },
            "colorscale": [
             [
              0,
              "#0d0887"
             ],
             [
              0.1111111111111111,
              "#46039f"
             ],
             [
              0.2222222222222222,
              "#7201a8"
             ],
             [
              0.3333333333333333,
              "#9c179e"
             ],
             [
              0.4444444444444444,
              "#bd3786"
             ],
             [
              0.5555555555555556,
              "#d8576b"
             ],
             [
              0.6666666666666666,
              "#ed7953"
             ],
             [
              0.7777777777777778,
              "#fb9f3a"
             ],
             [
              0.8888888888888888,
              "#fdca26"
             ],
             [
              1,
              "#f0f921"
             ]
            ],
            "type": "contour"
           }
          ],
          "contourcarpet": [
           {
            "colorbar": {
             "outlinewidth": 0,
             "ticks": ""
            },
            "type": "contourcarpet"
           }
          ],
          "heatmap": [
           {
            "colorbar": {
             "outlinewidth": 0,
             "ticks": ""
            },
            "colorscale": [
             [
              0,
              "#0d0887"
             ],
             [
              0.1111111111111111,
              "#46039f"
             ],
             [
              0.2222222222222222,
              "#7201a8"
             ],
             [
              0.3333333333333333,
              "#9c179e"
             ],
             [
              0.4444444444444444,
              "#bd3786"
             ],
             [
              0.5555555555555556,
              "#d8576b"
             ],
             [
              0.6666666666666666,
              "#ed7953"
             ],
             [
              0.7777777777777778,
              "#fb9f3a"
             ],
             [
              0.8888888888888888,
              "#fdca26"
             ],
             [
              1,
              "#f0f921"
             ]
            ],
            "type": "heatmap"
           }
          ],
          "heatmapgl": [
           {
            "colorbar": {
             "outlinewidth": 0,
             "ticks": ""
            },
            "colorscale": [
             [
              0,
              "#0d0887"
             ],
             [
              0.1111111111111111,
              "#46039f"
             ],
             [
              0.2222222222222222,
              "#7201a8"
             ],
             [
              0.3333333333333333,
              "#9c179e"
             ],
             [
              0.4444444444444444,
              "#bd3786"
             ],
             [
              0.5555555555555556,
              "#d8576b"
             ],
             [
              0.6666666666666666,
              "#ed7953"
             ],
             [
              0.7777777777777778,
              "#fb9f3a"
             ],
             [
              0.8888888888888888,
              "#fdca26"
             ],
             [
              1,
              "#f0f921"
             ]
            ],
            "type": "heatmapgl"
           }
          ],
          "histogram": [
           {
            "marker": {
             "pattern": {
              "fillmode": "overlay",
              "size": 10,
              "solidity": 0.2
             }
            },
            "type": "histogram"
           }
          ],
          "histogram2d": [
           {
            "colorbar": {
             "outlinewidth": 0,
             "ticks": ""
            },
            "colorscale": [
             [
              0,
              "#0d0887"
             ],
             [
              0.1111111111111111,
              "#46039f"
             ],
             [
              0.2222222222222222,
              "#7201a8"
             ],
             [
              0.3333333333333333,
              "#9c179e"
             ],
             [
              0.4444444444444444,
              "#bd3786"
             ],
             [
              0.5555555555555556,
              "#d8576b"
             ],
             [
              0.6666666666666666,
              "#ed7953"
             ],
             [
              0.7777777777777778,
              "#fb9f3a"
             ],
             [
              0.8888888888888888,
              "#fdca26"
             ],
             [
              1,
              "#f0f921"
             ]
            ],
            "type": "histogram2d"
           }
          ],
          "histogram2dcontour": [
           {
            "colorbar": {
             "outlinewidth": 0,
             "ticks": ""
            },
            "colorscale": [
             [
              0,
              "#0d0887"
             ],
             [
              0.1111111111111111,
              "#46039f"
             ],
             [
              0.2222222222222222,
              "#7201a8"
             ],
             [
              0.3333333333333333,
              "#9c179e"
             ],
             [
              0.4444444444444444,
              "#bd3786"
             ],
             [
              0.5555555555555556,
              "#d8576b"
             ],
             [
              0.6666666666666666,
              "#ed7953"
             ],
             [
              0.7777777777777778,
              "#fb9f3a"
             ],
             [
              0.8888888888888888,
              "#fdca26"
             ],
             [
              1,
              "#f0f921"
             ]
            ],
            "type": "histogram2dcontour"
           }
          ],
          "mesh3d": [
           {
            "colorbar": {
             "outlinewidth": 0,
             "ticks": ""
            },
            "type": "mesh3d"
           }
          ],
          "parcoords": [
           {
            "line": {
             "colorbar": {
              "outlinewidth": 0,
              "ticks": ""
             }
            },
            "type": "parcoords"
           }
          ],
          "pie": [
           {
            "automargin": true,
            "type": "pie"
           }
          ],
          "scatter": [
           {
            "fillpattern": {
             "fillmode": "overlay",
             "size": 10,
             "solidity": 0.2
            },
            "type": "scatter"
           }
          ],
          "scatter3d": [
           {
            "line": {
             "colorbar": {
              "outlinewidth": 0,
              "ticks": ""
             }
            },
            "marker": {
             "colorbar": {
              "outlinewidth": 0,
              "ticks": ""
             }
            },
            "type": "scatter3d"
           }
          ],
          "scattercarpet": [
           {
            "marker": {
             "colorbar": {
              "outlinewidth": 0,
              "ticks": ""
             }
            },
            "type": "scattercarpet"
           }
          ],
          "scattergeo": [
           {
            "marker": {
             "colorbar": {
              "outlinewidth": 0,
              "ticks": ""
             }
            },
            "type": "scattergeo"
           }
          ],
          "scattergl": [
           {
            "marker": {
             "colorbar": {
              "outlinewidth": 0,
              "ticks": ""
             }
            },
            "type": "scattergl"
           }
          ],
          "scattermapbox": [
           {
            "marker": {
             "colorbar": {
              "outlinewidth": 0,
              "ticks": ""
             }
            },
            "type": "scattermapbox"
           }
          ],
          "scatterpolar": [
           {
            "marker": {
             "colorbar": {
              "outlinewidth": 0,
              "ticks": ""
             }
            },
            "type": "scatterpolar"
           }
          ],
          "scatterpolargl": [
           {
            "marker": {
             "colorbar": {
              "outlinewidth": 0,
              "ticks": ""
             }
            },
            "type": "scatterpolargl"
           }
          ],
          "scatterternary": [
           {
            "marker": {
             "colorbar": {
              "outlinewidth": 0,
              "ticks": ""
             }
            },
            "type": "scatterternary"
           }
          ],
          "surface": [
           {
            "colorbar": {
             "outlinewidth": 0,
             "ticks": ""
            },
            "colorscale": [
             [
              0,
              "#0d0887"
             ],
             [
              0.1111111111111111,
              "#46039f"
             ],
             [
              0.2222222222222222,
              "#7201a8"
             ],
             [
              0.3333333333333333,
              "#9c179e"
             ],
             [
              0.4444444444444444,
              "#bd3786"
             ],
             [
              0.5555555555555556,
              "#d8576b"
             ],
             [
              0.6666666666666666,
              "#ed7953"
             ],
             [
              0.7777777777777778,
              "#fb9f3a"
             ],
             [
              0.8888888888888888,
              "#fdca26"
             ],
             [
              1,
              "#f0f921"
             ]
            ],
            "type": "surface"
           }
          ],
          "table": [
           {
            "cells": {
             "fill": {
              "color": "#EBF0F8"
             },
             "line": {
              "color": "white"
             }
            },
            "header": {
             "fill": {
              "color": "#C8D4E3"
             },
             "line": {
              "color": "white"
             }
            },
            "type": "table"
           }
          ]
         },
         "layout": {
          "annotationdefaults": {
           "arrowcolor": "#2a3f5f",
           "arrowhead": 0,
           "arrowwidth": 1
          },
          "autotypenumbers": "strict",
          "coloraxis": {
           "colorbar": {
            "outlinewidth": 0,
            "ticks": ""
           }
          },
          "colorscale": {
           "diverging": [
            [
             0,
             "#8e0152"
            ],
            [
             0.1,
             "#c51b7d"
            ],
            [
             0.2,
             "#de77ae"
            ],
            [
             0.3,
             "#f1b6da"
            ],
            [
             0.4,
             "#fde0ef"
            ],
            [
             0.5,
             "#f7f7f7"
            ],
            [
             0.6,
             "#e6f5d0"
            ],
            [
             0.7,
             "#b8e186"
            ],
            [
             0.8,
             "#7fbc41"
            ],
            [
             0.9,
             "#4d9221"
            ],
            [
             1,
             "#276419"
            ]
           ],
           "sequential": [
            [
             0,
             "#0d0887"
            ],
            [
             0.1111111111111111,
             "#46039f"
            ],
            [
             0.2222222222222222,
             "#7201a8"
            ],
            [
             0.3333333333333333,
             "#9c179e"
            ],
            [
             0.4444444444444444,
             "#bd3786"
            ],
            [
             0.5555555555555556,
             "#d8576b"
            ],
            [
             0.6666666666666666,
             "#ed7953"
            ],
            [
             0.7777777777777778,
             "#fb9f3a"
            ],
            [
             0.8888888888888888,
             "#fdca26"
            ],
            [
             1,
             "#f0f921"
            ]
           ],
           "sequentialminus": [
            [
             0,
             "#0d0887"
            ],
            [
             0.1111111111111111,
             "#46039f"
            ],
            [
             0.2222222222222222,
             "#7201a8"
            ],
            [
             0.3333333333333333,
             "#9c179e"
            ],
            [
             0.4444444444444444,
             "#bd3786"
            ],
            [
             0.5555555555555556,
             "#d8576b"
            ],
            [
             0.6666666666666666,
             "#ed7953"
            ],
            [
             0.7777777777777778,
             "#fb9f3a"
            ],
            [
             0.8888888888888888,
             "#fdca26"
            ],
            [
             1,
             "#f0f921"
            ]
           ]
          },
          "colorway": [
           "#636efa",
           "#EF553B",
           "#00cc96",
           "#ab63fa",
           "#FFA15A",
           "#19d3f3",
           "#FF6692",
           "#B6E880",
           "#FF97FF",
           "#FECB52"
          ],
          "font": {
           "color": "#2a3f5f"
          },
          "geo": {
           "bgcolor": "white",
           "lakecolor": "white",
           "landcolor": "#E5ECF6",
           "showlakes": true,
           "showland": true,
           "subunitcolor": "white"
          },
          "hoverlabel": {
           "align": "left"
          },
          "hovermode": "closest",
          "mapbox": {
           "style": "light"
          },
          "paper_bgcolor": "white",
          "plot_bgcolor": "#E5ECF6",
          "polar": {
           "angularaxis": {
            "gridcolor": "white",
            "linecolor": "white",
            "ticks": ""
           },
           "bgcolor": "#E5ECF6",
           "radialaxis": {
            "gridcolor": "white",
            "linecolor": "white",
            "ticks": ""
           }
          },
          "scene": {
           "xaxis": {
            "backgroundcolor": "#E5ECF6",
            "gridcolor": "white",
            "gridwidth": 2,
            "linecolor": "white",
            "showbackground": true,
            "ticks": "",
            "zerolinecolor": "white"
           },
           "yaxis": {
            "backgroundcolor": "#E5ECF6",
            "gridcolor": "white",
            "gridwidth": 2,
            "linecolor": "white",
            "showbackground": true,
            "ticks": "",
            "zerolinecolor": "white"
           },
           "zaxis": {
            "backgroundcolor": "#E5ECF6",
            "gridcolor": "white",
            "gridwidth": 2,
            "linecolor": "white",
            "showbackground": true,
            "ticks": "",
            "zerolinecolor": "white"
           }
          },
          "shapedefaults": {
           "line": {
            "color": "#2a3f5f"
           }
          },
          "ternary": {
           "aaxis": {
            "gridcolor": "white",
            "linecolor": "white",
            "ticks": ""
           },
           "baxis": {
            "gridcolor": "white",
            "linecolor": "white",
            "ticks": ""
           },
           "bgcolor": "#E5ECF6",
           "caxis": {
            "gridcolor": "white",
            "linecolor": "white",
            "ticks": ""
           }
          },
          "title": {
           "x": 0.05
          },
          "xaxis": {
           "automargin": true,
           "gridcolor": "white",
           "linecolor": "white",
           "ticks": "",
           "title": {
            "standoff": 15
           },
           "zerolinecolor": "white",
           "zerolinewidth": 2
          },
          "yaxis": {
           "automargin": true,
           "gridcolor": "white",
           "linecolor": "white",
           "ticks": "",
           "title": {
            "standoff": 15
           },
           "zerolinecolor": "white",
           "zerolinewidth": 2
          }
         }
        },
        "title": {
         "text": "Percent Success Rate by Relationship"
        },
        "yaxis": {
         "title": {
          "text": "%"
         }
        }
       }
      }
     },
     "metadata": {},
     "output_type": "display_data"
    }
   ],
   "source": [
    "fig = go.Figure(\n",
    "    data=[\n",
    "        go.Bar(\n",
    "            name=\"Male Income Over 50K\",\n",
    "            x=df_male_normalized[\"relationship\"],\n",
    "            y=df_male_normalized[df_male_normalized['income'] == '>50K'][0],\n",
    "            offsetgroup=0,\n",
    "        ),\n",
    "        go.Bar(\n",
    "            name=\"Male Income At or Under 50K\",\n",
    "            x=df_male_normalized[\"relationship\"],\n",
    "            y=df_male_normalized[df_male_normalized['income'] == '<=50K'][0],\n",
    "            offsetgroup=0,\n",
    "            base=df_male_normalized[df_male_normalized['income'] == '>50K'][0]\n",
    "        ),\n",
    "        go.Bar(\n",
    "            name=\"Female Income Over 50K\",\n",
    "            x=df_female_normalized[\"relationship\"],\n",
    "            y=df_female_normalized[df_female_normalized['income'] == '>50K'][0],\n",
    "            offsetgroup=1,\n",
    "        ),\n",
    "        go.Bar(\n",
    "            name=\"Female Income At or Under 50K\",\n",
    "            x=df_female_normalized[\"relationship\"],\n",
    "            y=df_female_normalized[df_female_normalized['income'] == '<=50K'][0],\n",
    "            offsetgroup=1,\n",
    "            base=df_female_normalized[df_female_normalized['income'] == '>50K'][0],\n",
    "        )\n",
    "    ],\n",
    "    layout=go.Layout(\n",
    "        title=\"Percent Success Rate by Relationship\",\n",
    "        yaxis_title=\"%\"\n",
    "    )\n",
    ")\n",
    "fig.show()"
   ]
  },
  {
   "cell_type": "markdown",
   "metadata": {},
   "source": [
    "Nothing much pops out from this other than that the closer one approaches marital bliss, ones' odds begins to improve in respect to earning above that 50K mark. Amusingly we also have some Men identifying as wives, even though in our previous graphic there is clearly only women registered as wives. I will have to investigate further how that occurred.\n",
    "\n",
    "Meanwhile, let's take a break from bar charts and take a look at the histogram of the age column."
   ]
  },
  {
   "cell_type": "code",
   "execution_count": 170,
   "metadata": {},
   "outputs": [
    {
     "data": {
      "image/png": "[encoded data removed]",
      "text/plain": [
       "<Figure size 640x480 with 1 Axes>"
      ]
     },
     "metadata": {},
     "output_type": "display_data"
    }
   ],
   "source": [
    "ax = sns.histplot(data=df['age'], bins=15, kde=True)"
   ]
  },
  {
   "cell_type": "markdown",
   "metadata": {},
   "source": [
    "So this is a relatively expected shape. The majority of individuals falls between roughly 20 to 50 years in age, and then begins to steeply decline as people retire from the work force. what would be interesting to see is if the majority of people whose age is above 50 are earning less the 50K per annum as the cost of living requires them to continue in the workforce."
   ]
  },
  {
   "cell_type": "code",
   "execution_count": 171,
   "metadata": {},
   "outputs": [
    {
     "data": {
      "image/png": "[encoded data removed]",
      "text/plain": [
       "<Figure size 640x480 with 1 Axes>"
      ]
     },
     "metadata": {},
     "output_type": "display_data"
    }
   ],
   "source": [
    "ax = sns.barplot(pd.DataFrame(df[df['age'] >= 50]['income'].value_counts(normalize=True)).reset_index(),\n",
    "            x='index', \n",
    "            y='income',\n",
    "            errorbar=('ci', False))\n",
    "plt.ylabel('Percentage')\n",
    "plt.xlabel('Income')\n",
    "plt.title('Sample Income Percentages for Individuals over 50 Years Old')\n",
    "ax.set_yticks(np.arange(0.0, 1.1, 0.1))\n",
    "plt.show()"
   ]
  },
  {
   "cell_type": "markdown",
   "metadata": {},
   "source": [
    "Only a 2:1 ratio.  Seniors generally prefer to work I guess."
   ]
  },
  {
   "cell_type": "code",
   "execution_count": 172,
   "metadata": {},
   "outputs": [
    {
     "data": {
      "text/plain": [
       "<seaborn.axisgrid.PairGrid at 0x26b56b5af50>"
      ]
     },
     "execution_count": 172,
     "metadata": {},
     "output_type": "execute_result"
    },
    {
     "data": {
      "image/png": "[encoded data removed]",
      "text/plain": [
       "<Figure size 750x750 with 12 Axes>"
      ]
     },
     "metadata": {},
     "output_type": "display_data"
    }
   ],
   "source": [
    "g = sns.PairGrid(df[['age', 'educational-num', 'hours-per-week']])\n",
    "g.map_upper(sns.histplot)\n",
    "g.map_lower(sns.kdeplot, fill=True)\n",
    "g.map_diag(sns.histplot, kde=True)"
   ]
  },
  {
   "cell_type": "markdown",
   "metadata": {},
   "source": [
    "In this Diagram there are a couple of things to note, although perhaps not altogether surprising:  First off, the vast majority of employees education sits at approx.  10 years of education with a second concentration of individuals setting at about 13 years of education.  And the overwhelming majority of employees is at 40 hours a week; this holds irrespective of education, or age.\n",
    "\n",
    "This information however leads to the question, which spectrum do these people fall under? are the majority of people working more than 40 hours week earning more than 50K a year? we've already established that the majority of people with higher degrees are earning more than 50K per year albeit not by very much."
   ]
  },
  {
   "cell_type": "code",
   "execution_count": 173,
   "metadata": {},
   "outputs": [
    {
     "data": {
      "image/png": "[encoded data removed]",
      "text/plain": [
       "<Figure size 640x480 with 1 Axes>"
      ]
     },
     "metadata": {},
     "output_type": "display_data"
    }
   ],
   "source": [
    "ax = sns.barplot(pd.DataFrame(df[df['hours-per-week'] >= 50]['income'].value_counts(normalize=True)).reset_index(),\n",
    "            x='index', \n",
    "            y='income',\n",
    "            errorbar=('ci', False))\n",
    "plt.ylabel('Percentage')\n",
    "plt.xlabel('Income')\n",
    "plt.title('Sample Income Percentages for Individuals Working over 50 hours')\n",
    "ax.set_yticks(np.arange(0.0, 1.1, 0.1))\n",
    "plt.show()"
   ]
  },
  {
   "cell_type": "markdown",
   "metadata": {},
   "source": [
    "Well, looks like if you're willing to sell your soul to the man your odds of earning above 50K go up.  However let's not forget, we wanted to see how much this affected in come in Gender."
   ]
  },
  {
   "cell_type": "code",
   "execution_count": 174,
   "metadata": {},
   "outputs": [
    {
     "data": {
      "image/png": "[encoded data removed]",
      "text/plain": [
       "<Figure size 640x480 with 1 Axes>"
      ]
     },
     "metadata": {},
     "output_type": "display_data"
    },
    {
     "data": {
      "image/png": "[encoded data removed]",
      "text/plain": [
       "<Figure size 640x480 with 1 Axes>"
      ]
     },
     "metadata": {},
     "output_type": "display_data"
    }
   ],
   "source": [
    "ax = sns.barplot(pd.DataFrame(df[(df['hours-per-week'] >= 50) & (df['gender'] == 'Male')][['income', 'gender']].value_counts(normalize=True)).reset_index(),\n",
    "            x='income', \n",
    "            y=0,\n",
    "            errorbar=('ci', False))\n",
    "plt.ylabel('Percentage')\n",
    "plt.xlabel('Income')\n",
    "plt.title('Sample Income Percentages for Men Working over 50 hours')\n",
    "ax.set_yticks(np.arange(0.0, 1.1, 0.1))\n",
    "plt.show()\n",
    "\n",
    "ax = sns.barplot(pd.DataFrame(df[(df['hours-per-week'] >= 50) & (df['gender'] == 'Female')][['income', 'gender']].value_counts(normalize=True)).reset_index(),\n",
    "            x='income', \n",
    "            y=0,\n",
    "            errorbar=('ci', False))\n",
    "plt.ylabel('Percentage')\n",
    "plt.xlabel('Income')\n",
    "plt.title('Sample Income Percentages for Women Working over 50 hours')\n",
    "ax.set_yticks(np.arange(0.0, 1.1, 0.1))\n",
    "plt.show()"
   ]
  },
  {
   "cell_type": "markdown",
   "metadata": {},
   "source": [
    "Men's odds are greatly benefitted in working extra hours past 40 increasing odds to nearly a 1:1 relationship.  However Women still lag behind with an 3:1 chance that they will be earnin under 50K.\n",
    "\n",
    "Next on the list is career choice data to see if womens career choices is what leads to this disparate degree of income."
   ]
  },
  {
   "cell_type": "code",
   "execution_count": 199,
   "metadata": {},
   "outputs": [],
   "source": [
    "df_male_subset = df[df['gender'] == 'Male']\n",
    "df_female_subset = df[df['gender'] == 'Female']\n",
    "\n",
    "df_male_normalized = pd.DataFrame(df_male_subset.groupby('occupation')[['occupation', 'income', 'gender']].value_counts(normalize=True)).reset_index()\n",
    "df_female_normalized = pd.DataFrame(df_female_subset.groupby('occupation')[['occupation', 'income', 'gender']].value_counts(normalize=True)).reset_index()"
   ]
  },
  {
   "cell_type": "code",
   "execution_count": 200,
   "metadata": {},
   "outputs": [],
   "source": [
    "df_male_normalized = pd.concat([df_male_normalized, pd.DataFrame({'occupation':['Priv-house-serv'],\n",
    "                                                          'income':['>50K'],\n",
    "                                                          'gender':['Male'],\n",
    "                                                          0:[0.000000]})], ignore_index=True)"
   ]
  },
  {
   "cell_type": "code",
   "execution_count": 201,
   "metadata": {},
   "outputs": [],
   "source": [
    "df_male_normalized = order(df_male_normalized)\n",
    "df_female_normalized = order(df_female_normalized)"
   ]
  },
  {
   "cell_type": "code",
   "execution_count": 202,
   "metadata": {},
   "outputs": [
    {
     "data": {
      "text/html": [
       "<div>\n",
       "<style scoped>\n",
       "    .dataframe tbody tr th:only-of-type {\n",
       "        vertical-align: middle;\n",
       "    }\n",
       "\n",
       "    .dataframe tbody tr th {\n",
       "        vertical-align: top;\n",
       "    }\n",
       "\n",
       "    .dataframe thead th {\n",
       "        text-align: right;\n",
       "    }\n",
       "</style>\n",
       "<table border=\"1\" class=\"dataframe\">\n",
       "  <thead>\n",
       "    <tr style=\"text-align: right;\">\n",
       "      <th></th>\n",
       "      <th>index</th>\n",
       "      <th>occupation</th>\n",
       "      <th>income</th>\n",
       "      <th>gender</th>\n",
       "      <th>0</th>\n",
       "    </tr>\n",
       "  </thead>\n",
       "  <tbody>\n",
       "    <tr>\n",
       "      <th>0</th>\n",
       "      <td>0</td>\n",
       "      <td>Priv-house-serv</td>\n",
       "      <td>&gt;50K</td>\n",
       "      <td>Male</td>\n",
       "      <td>0.000000</td>\n",
       "    </tr>\n",
       "    <tr>\n",
       "      <th>1</th>\n",
       "      <td>1</td>\n",
       "      <td>Other-service</td>\n",
       "      <td>&gt;50K</td>\n",
       "      <td>Male</td>\n",
       "      <td>0.056629</td>\n",
       "    </tr>\n",
       "    <tr>\n",
       "      <th>2</th>\n",
       "      <td>2</td>\n",
       "      <td>Handlers-cleaners</td>\n",
       "      <td>&gt;50K</td>\n",
       "      <td>Male</td>\n",
       "      <td>0.071507</td>\n",
       "    </tr>\n",
       "    <tr>\n",
       "      <th>3</th>\n",
       "      <td>3</td>\n",
       "      <td>Farming-fishing</td>\n",
       "      <td>&gt;50K</td>\n",
       "      <td>Male</td>\n",
       "      <td>0.121864</td>\n",
       "    </tr>\n",
       "    <tr>\n",
       "      <th>4</th>\n",
       "      <td>4</td>\n",
       "      <td>Machine-op-inspct</td>\n",
       "      <td>&gt;50K</td>\n",
       "      <td>Male</td>\n",
       "      <td>0.155095</td>\n",
       "    </tr>\n",
       "    <tr>\n",
       "      <th>5</th>\n",
       "      <td>5</td>\n",
       "      <td>Transport-moving</td>\n",
       "      <td>&gt;50K</td>\n",
       "      <td>Male</td>\n",
       "      <td>0.210054</td>\n",
       "    </tr>\n",
       "    <tr>\n",
       "      <th>6</th>\n",
       "      <td>6</td>\n",
       "      <td>Craft-repair</td>\n",
       "      <td>&gt;50K</td>\n",
       "      <td>Male</td>\n",
       "      <td>0.224025</td>\n",
       "    </tr>\n",
       "    <tr>\n",
       "      <th>7</th>\n",
       "      <td>7</td>\n",
       "      <td>Adm-clerical</td>\n",
       "      <td>&gt;50K</td>\n",
       "      <td>Male</td>\n",
       "      <td>0.249186</td>\n",
       "    </tr>\n",
       "    <tr>\n",
       "      <th>8</th>\n",
       "      <td>8</td>\n",
       "      <td>Armed-Forces</td>\n",
       "      <td>&gt;50K</td>\n",
       "      <td>Male</td>\n",
       "      <td>0.333333</td>\n",
       "    </tr>\n",
       "    <tr>\n",
       "      <th>9</th>\n",
       "      <td>9</td>\n",
       "      <td>Protective-serv</td>\n",
       "      <td>&gt;50K</td>\n",
       "      <td>Male</td>\n",
       "      <td>0.340302</td>\n",
       "    </tr>\n",
       "    <tr>\n",
       "      <th>10</th>\n",
       "      <td>10</td>\n",
       "      <td>Sales</td>\n",
       "      <td>&gt;50K</td>\n",
       "      <td>Male</td>\n",
       "      <td>0.377003</td>\n",
       "    </tr>\n",
       "    <tr>\n",
       "      <th>11</th>\n",
       "      <td>11</td>\n",
       "      <td>Tech-support</td>\n",
       "      <td>&gt;50K</td>\n",
       "      <td>Male</td>\n",
       "      <td>0.399321</td>\n",
       "    </tr>\n",
       "    <tr>\n",
       "      <th>12</th>\n",
       "      <td>12</td>\n",
       "      <td>Prof-specialty</td>\n",
       "      <td>&gt;50K</td>\n",
       "      <td>Male</td>\n",
       "      <td>0.509303</td>\n",
       "    </tr>\n",
       "    <tr>\n",
       "      <th>13</th>\n",
       "      <td>13</td>\n",
       "      <td>Exec-managerial</td>\n",
       "      <td>&gt;50K</td>\n",
       "      <td>Male</td>\n",
       "      <td>0.525892</td>\n",
       "    </tr>\n",
       "    <tr>\n",
       "      <th>14</th>\n",
       "      <td>14</td>\n",
       "      <td>Priv-house-serv</td>\n",
       "      <td>&lt;=50K</td>\n",
       "      <td>Male</td>\n",
       "      <td>1.000000</td>\n",
       "    </tr>\n",
       "    <tr>\n",
       "      <th>15</th>\n",
       "      <td>15</td>\n",
       "      <td>Other-service</td>\n",
       "      <td>&lt;=50K</td>\n",
       "      <td>Male</td>\n",
       "      <td>0.943371</td>\n",
       "    </tr>\n",
       "    <tr>\n",
       "      <th>16</th>\n",
       "      <td>16</td>\n",
       "      <td>Handlers-cleaners</td>\n",
       "      <td>&lt;=50K</td>\n",
       "      <td>Male</td>\n",
       "      <td>0.928493</td>\n",
       "    </tr>\n",
       "    <tr>\n",
       "      <th>17</th>\n",
       "      <td>17</td>\n",
       "      <td>Farming-fishing</td>\n",
       "      <td>&lt;=50K</td>\n",
       "      <td>Male</td>\n",
       "      <td>0.878136</td>\n",
       "    </tr>\n",
       "    <tr>\n",
       "      <th>18</th>\n",
       "      <td>18</td>\n",
       "      <td>Machine-op-inspct</td>\n",
       "      <td>&lt;=50K</td>\n",
       "      <td>Male</td>\n",
       "      <td>0.844905</td>\n",
       "    </tr>\n",
       "    <tr>\n",
       "      <th>19</th>\n",
       "      <td>19</td>\n",
       "      <td>Transport-moving</td>\n",
       "      <td>&lt;=50K</td>\n",
       "      <td>Male</td>\n",
       "      <td>0.789946</td>\n",
       "    </tr>\n",
       "    <tr>\n",
       "      <th>20</th>\n",
       "      <td>20</td>\n",
       "      <td>Craft-repair</td>\n",
       "      <td>&lt;=50K</td>\n",
       "      <td>Male</td>\n",
       "      <td>0.775975</td>\n",
       "    </tr>\n",
       "    <tr>\n",
       "      <th>21</th>\n",
       "      <td>21</td>\n",
       "      <td>Adm-clerical</td>\n",
       "      <td>&lt;=50K</td>\n",
       "      <td>Male</td>\n",
       "      <td>0.750814</td>\n",
       "    </tr>\n",
       "    <tr>\n",
       "      <th>22</th>\n",
       "      <td>22</td>\n",
       "      <td>Armed-Forces</td>\n",
       "      <td>&lt;=50K</td>\n",
       "      <td>Male</td>\n",
       "      <td>0.666667</td>\n",
       "    </tr>\n",
       "    <tr>\n",
       "      <th>23</th>\n",
       "      <td>23</td>\n",
       "      <td>Protective-serv</td>\n",
       "      <td>&lt;=50K</td>\n",
       "      <td>Male</td>\n",
       "      <td>0.659698</td>\n",
       "    </tr>\n",
       "    <tr>\n",
       "      <th>24</th>\n",
       "      <td>24</td>\n",
       "      <td>Sales</td>\n",
       "      <td>&lt;=50K</td>\n",
       "      <td>Male</td>\n",
       "      <td>0.622997</td>\n",
       "    </tr>\n",
       "    <tr>\n",
       "      <th>25</th>\n",
       "      <td>25</td>\n",
       "      <td>Tech-support</td>\n",
       "      <td>&lt;=50K</td>\n",
       "      <td>Male</td>\n",
       "      <td>0.600679</td>\n",
       "    </tr>\n",
       "    <tr>\n",
       "      <th>26</th>\n",
       "      <td>26</td>\n",
       "      <td>Prof-specialty</td>\n",
       "      <td>&lt;=50K</td>\n",
       "      <td>Male</td>\n",
       "      <td>0.490697</td>\n",
       "    </tr>\n",
       "    <tr>\n",
       "      <th>27</th>\n",
       "      <td>27</td>\n",
       "      <td>Exec-managerial</td>\n",
       "      <td>&lt;=50K</td>\n",
       "      <td>Male</td>\n",
       "      <td>0.474108</td>\n",
       "    </tr>\n",
       "  </tbody>\n",
       "</table>\n",
       "</div>"
      ],
      "text/plain": [
       "    index         occupation income gender         0\n",
       "0       0    Priv-house-serv   >50K   Male  0.000000\n",
       "1       1      Other-service   >50K   Male  0.056629\n",
       "2       2  Handlers-cleaners   >50K   Male  0.071507\n",
       "3       3    Farming-fishing   >50K   Male  0.121864\n",
       "4       4  Machine-op-inspct   >50K   Male  0.155095\n",
       "5       5   Transport-moving   >50K   Male  0.210054\n",
       "6       6       Craft-repair   >50K   Male  0.224025\n",
       "7       7       Adm-clerical   >50K   Male  0.249186\n",
       "8       8       Armed-Forces   >50K   Male  0.333333\n",
       "9       9    Protective-serv   >50K   Male  0.340302\n",
       "10     10              Sales   >50K   Male  0.377003\n",
       "11     11       Tech-support   >50K   Male  0.399321\n",
       "12     12     Prof-specialty   >50K   Male  0.509303\n",
       "13     13    Exec-managerial   >50K   Male  0.525892\n",
       "14     14    Priv-house-serv  <=50K   Male  1.000000\n",
       "15     15      Other-service  <=50K   Male  0.943371\n",
       "16     16  Handlers-cleaners  <=50K   Male  0.928493\n",
       "17     17    Farming-fishing  <=50K   Male  0.878136\n",
       "18     18  Machine-op-inspct  <=50K   Male  0.844905\n",
       "19     19   Transport-moving  <=50K   Male  0.789946\n",
       "20     20       Craft-repair  <=50K   Male  0.775975\n",
       "21     21       Adm-clerical  <=50K   Male  0.750814\n",
       "22     22       Armed-Forces  <=50K   Male  0.666667\n",
       "23     23    Protective-serv  <=50K   Male  0.659698\n",
       "24     24              Sales  <=50K   Male  0.622997\n",
       "25     25       Tech-support  <=50K   Male  0.600679\n",
       "26     26     Prof-specialty  <=50K   Male  0.490697\n",
       "27     27    Exec-managerial  <=50K   Male  0.474108"
      ]
     },
     "execution_count": 202,
     "metadata": {},
     "output_type": "execute_result"
    }
   ],
   "source": [
    "df_male_normalized"
   ]
  },
  {
   "cell_type": "code",
   "execution_count": 203,
   "metadata": {},
   "outputs": [
    {
     "data": {
      "application/vnd.plotly.v1+json": {
       "config": {
        "plotlyServerURL": "https://plot.ly"
       },
       "data": [
        {
         "name": "Male Income Over 50K",
         "offsetgroup": "0",
         "type": "bar",
         "x": [
          "Priv-house-serv",
          "Other-service",
          "Handlers-cleaners",
          "Farming-fishing",
          "Machine-op-inspct",
          "Transport-moving",
          "Craft-repair",
          "Adm-clerical",
          "Armed-Forces",
          "Protective-serv",
          "Sales",
          "Tech-support",
          "Prof-specialty",
          "Exec-managerial",
          "Priv-house-serv",
          "Other-service",
          "Handlers-cleaners",
          "Farming-fishing",
          "Machine-op-inspct",
          "Transport-moving",
          "Craft-repair",
          "Adm-clerical",
          "Armed-Forces",
          "Protective-serv",
          "Sales",
          "Tech-support",
          "Prof-specialty",
          "Exec-managerial"
         ],
         "y": [
          0,
          0.05662921348314607,
          0.07150715071507151,
          0.12186379928315412,
          0.1550946798917944,
          0.21005385996409337,
          0.22402545743834526,
          0.249185667752443,
          0.3333333333333333,
          0.3403019744483159,
          0.3770030924936744,
          0.3993212669683258,
          0.5093028468953149,
          0.5258923045182587
         ]
        },
        {
         "base": [
          0,
          0.05662921348314607,
          0.07150715071507151,
          0.12186379928315412,
          0.1550946798917944,
          0.21005385996409337,
          0.22402545743834526,
          0.249185667752443,
          0.3333333333333333,
          0.3403019744483159,
          0.3770030924936744,
          0.3993212669683258,
          0.5093028468953149,
          0.5258923045182587
         ],
         "name": "Male Income At or Under 50K",
         "offsetgroup": "0",
         "type": "bar",
         "x": [
          "Priv-house-serv",
          "Other-service",
          "Handlers-cleaners",
          "Farming-fishing",
          "Machine-op-inspct",
          "Transport-moving",
          "Craft-repair",
          "Adm-clerical",
          "Armed-Forces",
          "Protective-serv",
          "Sales",
          "Tech-support",
          "Prof-specialty",
          "Exec-managerial",
          "Priv-house-serv",
          "Other-service",
          "Handlers-cleaners",
          "Farming-fishing",
          "Machine-op-inspct",
          "Transport-moving",
          "Craft-repair",
          "Adm-clerical",
          "Armed-Forces",
          "Protective-serv",
          "Sales",
          "Tech-support",
          "Prof-specialty",
          "Exec-managerial"
         ],
         "y": [
          1,
          0.9433707865168539,
          0.9284928492849285,
          0.8781362007168458,
          0.8449053201082056,
          0.7899461400359067,
          0.7759745425616548,
          0.750814332247557,
          0.6666666666666666,
          0.6596980255516841,
          0.6229969075063255,
          0.6006787330316742,
          0.49069715310468504,
          0.4741076954817413
         ]
        },
        {
         "name": "Female Income Over 50K",
         "offsetgroup": "1",
         "type": "bar",
         "x": [
          "Priv-house-serv",
          "Other-service",
          "Handlers-cleaners",
          "Farming-fishing",
          "Machine-op-inspct",
          "Sales",
          "Craft-repair",
          "Adm-clerical",
          "Transport-moving",
          "Tech-support",
          "Protective-serv",
          "Exec-managerial",
          "Prof-specialty",
          "Priv-house-serv",
          "Other-service",
          "Handlers-cleaners",
          "Farming-fishing",
          "Machine-op-inspct",
          "Sales",
          "Craft-repair",
          "Adm-clerical",
          "Transport-moving",
          "Tech-support",
          "Protective-serv",
          "Exec-managerial",
          "Prof-specialty"
         ],
         "y": [
          0.013157894736842105,
          0.028910303928836176,
          0.031496062992125984,
          0.031578947368421054,
          0.03482587064676617,
          0.06882383153569595,
          0.07307692307692308,
          0.08198461130273282,
          0.10236220472440945,
          0.11921708185053381,
          0.12295081967213115,
          0.20981308411214952,
          0.22693173293323332
         ]
        },
        {
         "base": [
          0.013157894736842105,
          0.028910303928836176,
          0.031496062992125984,
          0.031578947368421054,
          0.03482587064676617,
          0.06882383153569595,
          0.07307692307692308,
          0.08198461130273282,
          0.10236220472440945,
          0.11921708185053381,
          0.12295081967213115,
          0.20981308411214952,
          0.22693173293323332
         ],
         "name": "Female Income At or Under 50K",
         "offsetgroup": "1",
         "type": "bar",
         "x": [
          "Priv-house-serv",
          "Other-service",
          "Handlers-cleaners",
          "Farming-fishing",
          "Machine-op-inspct",
          "Sales",
          "Craft-repair",
          "Adm-clerical",
          "Transport-moving",
          "Tech-support",
          "Protective-serv",
          "Exec-managerial",
          "Prof-specialty",
          "Priv-house-serv",
          "Other-service",
          "Handlers-cleaners",
          "Farming-fishing",
          "Machine-op-inspct",
          "Sales",
          "Craft-repair",
          "Adm-clerical",
          "Transport-moving",
          "Tech-support",
          "Protective-serv",
          "Exec-managerial",
          "Prof-specialty"
         ],
         "y": [
          0.9868421052631579,
          0.9710896960711638,
          0.968503937007874,
          0.968421052631579,
          0.9651741293532339,
          0.9311761684643041,
          0.926923076923077,
          0.9180153886972672,
          0.8976377952755905,
          0.8807829181494662,
          0.8770491803278688,
          0.7901869158878505,
          0.7730682670667667
         ]
        }
       ],
       "layout": {
        "template": {
         "data": {
          "bar": [
           {
            "error_x": {
             "color": "#2a3f5f"
            },
            "error_y": {
             "color": "#2a3f5f"
            },
            "marker": {
             "line": {
              "color": "#E5ECF6",
              "width": 0.5
             },
             "pattern": {
              "fillmode": "overlay",
              "size": 10,
              "solidity": 0.2
             }
            },
            "type": "bar"
           }
          ],
          "barpolar": [
           {
            "marker": {
             "line": {
              "color": "#E5ECF6",
              "width": 0.5
             },
             "pattern": {
              "fillmode": "overlay",
              "size": 10,
              "solidity": 0.2
             }
            },
            "type": "barpolar"
           }
          ],
          "carpet": [
           {
            "aaxis": {
             "endlinecolor": "#2a3f5f",
             "gridcolor": "white",
             "linecolor": "white",
             "minorgridcolor": "white",
             "startlinecolor": "#2a3f5f"
            },
            "baxis": {
             "endlinecolor": "#2a3f5f",
             "gridcolor": "white",
             "linecolor": "white",
             "minorgridcolor": "white",
             "startlinecolor": "#2a3f5f"
            },
            "type": "carpet"
           }
          ],
          "choropleth": [
           {
            "colorbar": {
             "outlinewidth": 0,
             "ticks": ""
            },
            "type": "choropleth"
           }
          ],
          "contour": [
           {
            "colorbar": {
             "outlinewidth": 0,
             "ticks": ""
            },
            "colorscale": [
             [
              0,
              "#0d0887"
             ],
             [
              0.1111111111111111,
              "#46039f"
             ],
             [
              0.2222222222222222,
              "#7201a8"
             ],
             [
              0.3333333333333333,
              "#9c179e"
             ],
             [
              0.4444444444444444,
              "#bd3786"
             ],
             [
              0.5555555555555556,
              "#d8576b"
             ],
             [
              0.6666666666666666,
              "#ed7953"
             ],
             [
              0.7777777777777778,
              "#fb9f3a"
             ],
             [
              0.8888888888888888,
              "#fdca26"
             ],
             [
              1,
              "#f0f921"
             ]
            ],
            "type": "contour"
           }
          ],
          "contourcarpet": [
           {
            "colorbar": {
             "outlinewidth": 0,
             "ticks": ""
            },
            "type": "contourcarpet"
           }
          ],
          "heatmap": [
           {
            "colorbar": {
             "outlinewidth": 0,
             "ticks": ""
            },
            "colorscale": [
             [
              0,
              "#0d0887"
             ],
             [
              0.1111111111111111,
              "#46039f"
             ],
             [
              0.2222222222222222,
              "#7201a8"
             ],
             [
              0.3333333333333333,
              "#9c179e"
             ],
             [
              0.4444444444444444,
              "#bd3786"
             ],
             [
              0.5555555555555556,
              "#d8576b"
             ],
             [
              0.6666666666666666,
              "#ed7953"
             ],
             [
              0.7777777777777778,
              "#fb9f3a"
             ],
             [
              0.8888888888888888,
              "#fdca26"
             ],
             [
              1,
              "#f0f921"
             ]
            ],
            "type": "heatmap"
           }
          ],
          "heatmapgl": [
           {
            "colorbar": {
             "outlinewidth": 0,
             "ticks": ""
            },
            "colorscale": [
             [
              0,
              "#0d0887"
             ],
             [
              0.1111111111111111,
              "#46039f"
             ],
             [
              0.2222222222222222,
              "#7201a8"
             ],
             [
              0.3333333333333333,
              "#9c179e"
             ],
             [
              0.4444444444444444,
              "#bd3786"
             ],
             [
              0.5555555555555556,
              "#d8576b"
             ],
             [
              0.6666666666666666,
              "#ed7953"
             ],
             [
              0.7777777777777778,
              "#fb9f3a"
             ],
             [
              0.8888888888888888,
              "#fdca26"
             ],
             [
              1,
              "#f0f921"
             ]
            ],
            "type": "heatmapgl"
           }
          ],
          "histogram": [
           {
            "marker": {
             "pattern": {
              "fillmode": "overlay",
              "size": 10,
              "solidity": 0.2
             }
            },
            "type": "histogram"
           }
          ],
          "histogram2d": [
           {
            "colorbar": {
             "outlinewidth": 0,
             "ticks": ""
            },
            "colorscale": [
             [
              0,
              "#0d0887"
             ],
             [
              0.1111111111111111,
              "#46039f"
             ],
             [
              0.2222222222222222,
              "#7201a8"
             ],
             [
              0.3333333333333333,
              "#9c179e"
             ],
             [
              0.4444444444444444,
              "#bd3786"
             ],
             [
              0.5555555555555556,
              "#d8576b"
             ],
             [
              0.6666666666666666,
              "#ed7953"
             ],
             [
              0.7777777777777778,
              "#fb9f3a"
             ],
             [
              0.8888888888888888,
              "#fdca26"
             ],
             [
              1,
              "#f0f921"
             ]
            ],
            "type": "histogram2d"
           }
          ],
          "histogram2dcontour": [
           {
            "colorbar": {
             "outlinewidth": 0,
             "ticks": ""
            },
            "colorscale": [
             [
              0,
              "#0d0887"
             ],
             [
              0.1111111111111111,
              "#46039f"
             ],
             [
              0.2222222222222222,
              "#7201a8"
             ],
             [
              0.3333333333333333,
              "#9c179e"
             ],
             [
              0.4444444444444444,
              "#bd3786"
             ],
             [
              0.5555555555555556,
              "#d8576b"
             ],
             [
              0.6666666666666666,
              "#ed7953"
             ],
             [
              0.7777777777777778,
              "#fb9f3a"
             ],
             [
              0.8888888888888888,
              "#fdca26"
             ],
             [
              1,
              "#f0f921"
             ]
            ],
            "type": "histogram2dcontour"
           }
          ],
          "mesh3d": [
           {
            "colorbar": {
             "outlinewidth": 0,
             "ticks": ""
            },
            "type": "mesh3d"
           }
          ],
          "parcoords": [
           {
            "line": {
             "colorbar": {
              "outlinewidth": 0,
              "ticks": ""
             }
            },
            "type": "parcoords"
           }
          ],
          "pie": [
           {
            "automargin": true,
            "type": "pie"
           }
          ],
          "scatter": [
           {
            "fillpattern": {
             "fillmode": "overlay",
             "size": 10,
             "solidity": 0.2
            },
            "type": "scatter"
           }
          ],
          "scatter3d": [
           {
            "line": {
             "colorbar": {
              "outlinewidth": 0,
              "ticks": ""
             }
            },
            "marker": {
             "colorbar": {
              "outlinewidth": 0,
              "ticks": ""
             }
            },
            "type": "scatter3d"
           }
          ],
          "scattercarpet": [
           {
            "marker": {
             "colorbar": {
              "outlinewidth": 0,
              "ticks": ""
             }
            },
            "type": "scattercarpet"
           }
          ],
          "scattergeo": [
           {
            "marker": {
             "colorbar": {
              "outlinewidth": 0,
              "ticks": ""
             }
            },
            "type": "scattergeo"
           }
          ],
          "scattergl": [
           {
            "marker": {
             "colorbar": {
              "outlinewidth": 0,
              "ticks": ""
             }
            },
            "type": "scattergl"
           }
          ],
          "scattermapbox": [
           {
            "marker": {
             "colorbar": {
              "outlinewidth": 0,
              "ticks": ""
             }
            },
            "type": "scattermapbox"
           }
          ],
          "scatterpolar": [
           {
            "marker": {
             "colorbar": {
              "outlinewidth": 0,
              "ticks": ""
             }
            },
            "type": "scatterpolar"
           }
          ],
          "scatterpolargl": [
           {
            "marker": {
             "colorbar": {
              "outlinewidth": 0,
              "ticks": ""
             }
            },
            "type": "scatterpolargl"
           }
          ],
          "scatterternary": [
           {
            "marker": {
             "colorbar": {
              "outlinewidth": 0,
              "ticks": ""
             }
            },
            "type": "scatterternary"
           }
          ],
          "surface": [
           {
            "colorbar": {
             "outlinewidth": 0,
             "ticks": ""
            },
            "colorscale": [
             [
              0,
              "#0d0887"
             ],
             [
              0.1111111111111111,
              "#46039f"
             ],
             [
              0.2222222222222222,
              "#7201a8"
             ],
             [
              0.3333333333333333,
              "#9c179e"
             ],
             [
              0.4444444444444444,
              "#bd3786"
             ],
             [
              0.5555555555555556,
              "#d8576b"
             ],
             [
              0.6666666666666666,
              "#ed7953"
             ],
             [
              0.7777777777777778,
              "#fb9f3a"
             ],
             [
              0.8888888888888888,
              "#fdca26"
             ],
             [
              1,
              "#f0f921"
             ]
            ],
            "type": "surface"
           }
          ],
          "table": [
           {
            "cells": {
             "fill": {
              "color": "#EBF0F8"
             },
             "line": {
              "color": "white"
             }
            },
            "header": {
             "fill": {
              "color": "#C8D4E3"
             },
             "line": {
              "color": "white"
             }
            },
            "type": "table"
           }
          ]
         },
         "layout": {
          "annotationdefaults": {
           "arrowcolor": "#2a3f5f",
           "arrowhead": 0,
           "arrowwidth": 1
          },
          "autotypenumbers": "strict",
          "coloraxis": {
           "colorbar": {
            "outlinewidth": 0,
            "ticks": ""
           }
          },
          "colorscale": {
           "diverging": [
            [
             0,
             "#8e0152"
            ],
            [
             0.1,
             "#c51b7d"
            ],
            [
             0.2,
             "#de77ae"
            ],
            [
             0.3,
             "#f1b6da"
            ],
            [
             0.4,
             "#fde0ef"
            ],
            [
             0.5,
             "#f7f7f7"
            ],
            [
             0.6,
             "#e6f5d0"
            ],
            [
             0.7,
             "#b8e186"
            ],
            [
             0.8,
             "#7fbc41"
            ],
            [
             0.9,
             "#4d9221"
            ],
            [
             1,
             "#276419"
            ]
           ],
           "sequential": [
            [
             0,
             "#0d0887"
            ],
            [
             0.1111111111111111,
             "#46039f"
            ],
            [
             0.2222222222222222,
             "#7201a8"
            ],
            [
             0.3333333333333333,
             "#9c179e"
            ],
            [
             0.4444444444444444,
             "#bd3786"
            ],
            [
             0.5555555555555556,
             "#d8576b"
            ],
            [
             0.6666666666666666,
             "#ed7953"
            ],
            [
             0.7777777777777778,
             "#fb9f3a"
            ],
            [
             0.8888888888888888,
             "#fdca26"
            ],
            [
             1,
             "#f0f921"
            ]
           ],
           "sequentialminus": [
            [
             0,
             "#0d0887"
            ],
            [
             0.1111111111111111,
             "#46039f"
            ],
            [
             0.2222222222222222,
             "#7201a8"
            ],
            [
             0.3333333333333333,
             "#9c179e"
            ],
            [
             0.4444444444444444,
             "#bd3786"
            ],
            [
             0.5555555555555556,
             "#d8576b"
            ],
            [
             0.6666666666666666,
             "#ed7953"
            ],
            [
             0.7777777777777778,
             "#fb9f3a"
            ],
            [
             0.8888888888888888,
             "#fdca26"
            ],
            [
             1,
             "#f0f921"
            ]
           ]
          },
          "colorway": [
           "#636efa",
           "#EF553B",
           "#00cc96",
           "#ab63fa",
           "#FFA15A",
           "#19d3f3",
           "#FF6692",
           "#B6E880",
           "#FF97FF",
           "#FECB52"
          ],
          "font": {
           "color": "#2a3f5f"
          },
          "geo": {
           "bgcolor": "white",
           "lakecolor": "white",
           "landcolor": "#E5ECF6",
           "showlakes": true,
           "showland": true,
           "subunitcolor": "white"
          },
          "hoverlabel": {
           "align": "left"
          },
          "hovermode": "closest",
          "mapbox": {
           "style": "light"
          },
          "paper_bgcolor": "white",
          "plot_bgcolor": "#E5ECF6",
          "polar": {
           "angularaxis": {
            "gridcolor": "white",
            "linecolor": "white",
            "ticks": ""
           },
           "bgcolor": "#E5ECF6",
           "radialaxis": {
            "gridcolor": "white",
            "linecolor": "white",
            "ticks": ""
           }
          },
          "scene": {
           "xaxis": {
            "backgroundcolor": "#E5ECF6",
            "gridcolor": "white",
            "gridwidth": 2,
            "linecolor": "white",
            "showbackground": true,
            "ticks": "",
            "zerolinecolor": "white"
           },
           "yaxis": {
            "backgroundcolor": "#E5ECF6",
            "gridcolor": "white",
            "gridwidth": 2,
            "linecolor": "white",
            "showbackground": true,
            "ticks": "",
            "zerolinecolor": "white"
           },
           "zaxis": {
            "backgroundcolor": "#E5ECF6",
            "gridcolor": "white",
            "gridwidth": 2,
            "linecolor": "white",
            "showbackground": true,
            "ticks": "",
            "zerolinecolor": "white"
           }
          },
          "shapedefaults": {
           "line": {
            "color": "#2a3f5f"
           }
          },
          "ternary": {
           "aaxis": {
            "gridcolor": "white",
            "linecolor": "white",
            "ticks": ""
           },
           "baxis": {
            "gridcolor": "white",
            "linecolor": "white",
            "ticks": ""
           },
           "bgcolor": "#E5ECF6",
           "caxis": {
            "gridcolor": "white",
            "linecolor": "white",
            "ticks": ""
           }
          },
          "title": {
           "x": 0.05
          },
          "xaxis": {
           "automargin": true,
           "gridcolor": "white",
           "linecolor": "white",
           "ticks": "",
           "title": {
            "standoff": 15
           },
           "zerolinecolor": "white",
           "zerolinewidth": 2
          },
          "yaxis": {
           "automargin": true,
           "gridcolor": "white",
           "linecolor": "white",
           "ticks": "",
           "title": {
            "standoff": 15
           },
           "zerolinecolor": "white",
           "zerolinewidth": 2
          }
         }
        },
        "title": {
         "text": "Percent Success Rate by Occupation"
        },
        "yaxis": {
         "title": {
          "text": "%"
         }
        }
       }
      }
     },
     "metadata": {},
     "output_type": "display_data"
    }
   ],
   "source": [
    "fig = go.Figure(\n",
    "    data=[\n",
    "        go.Bar(\n",
    "            name=\"Male Income Over 50K\",\n",
    "            x=df_male_normalized[\"occupation\"],\n",
    "            y=df_male_normalized[df_male_normalized['income'] == '>50K'][0],\n",
    "            offsetgroup=0,\n",
    "        ),\n",
    "        go.Bar(\n",
    "            name=\"Male Income At or Under 50K\",\n",
    "            x=df_male_normalized[\"occupation\"],\n",
    "            y=df_male_normalized[df_male_normalized['income'] == '<=50K'][0],\n",
    "            offsetgroup=0,\n",
    "            base=df_male_normalized[df_male_normalized['income'] == '>50K'][0]\n",
    "        ),\n",
    "        go.Bar(\n",
    "            name=\"Female Income Over 50K\",\n",
    "            x=df_female_normalized[\"occupation\"],\n",
    "            y=df_female_normalized[df_female_normalized['income'] == '>50K'][0],\n",
    "            offsetgroup=1,\n",
    "        ),\n",
    "        go.Bar(\n",
    "            name=\"Female Income At or Under 50K\",\n",
    "            x=df_female_normalized[\"occupation\"],\n",
    "            y=df_female_normalized[df_female_normalized['income'] == '<=50K'][0],\n",
    "            offsetgroup=1,\n",
    "            base=df_female_normalized[df_female_normalized['income'] == '>50K'][0],\n",
    "        )\n",
    "    ],\n",
    "    layout=go.Layout(\n",
    "        title=\"Percent Success Rate by Occupation\",\n",
    "        yaxis_title=\"%\"\n",
    "    )\n",
    ")\n",
    "fig.show()"
   ]
  },
  {
   "cell_type": "markdown",
   "metadata": {},
   "source": [
    "The occupation doesn't seem to have as much of an effect as I would have thought.  I could Imagine being an executive/manager or a specialized professional would increase the odds of making top dollar but having only an approx 1:1 ratio for both of them seems to me to be odd.  And women still appear to be heavily disadvantaged. with a reason becoming less and less clear with every visualization."
   ]
  },
  {
   "cell_type": "code",
   "execution_count": null,
   "metadata": {},
   "outputs": [],
   "source": []
  },
  {
   "cell_type": "code",
   "execution_count": 217,
   "metadata": {},
   "outputs": [
    {
     "data": {
      "image/png": "[encoded data removed]",
      "text/plain": [
       "<Figure size 640x480 with 1 Axes>"
      ]
     },
     "metadata": {},
     "output_type": "display_data"
    }
   ],
   "source": [
    "ax = sns.barplot(data=pd.DataFrame(df[['marital-status', 'income']].value_counts(normalize=True)).reset_index(),\n",
    "                 x='marital-status',\n",
    "                 y=0,\n",
    "                 hue='income',\n",
    "                 errorbar=('ci', False))\n",
    "plt.ylabel('Percentage')\n",
    "plt.xlabel('Income')\n",
    "plt.xticks(rotation=270)\n",
    "plt.title('Sample Income Percentages Based Upon Marital Status')\n",
    "plt.show()"
   ]
  },
  {
   "cell_type": "markdown",
   "metadata": {},
   "source": [
    "Well this is interesting.  This first one where we have a clear winner for success.  Marriage has a substantially greater chance for increasing income over 50K than any combination of the other marital-status'!"
   ]
  },
  {
   "cell_type": "markdown",
   "metadata": {},
   "source": [
    "For the sake of brevity I haven't included any visualization that factor in race however that very well could be feature, particularly by its included cultural features.\n",
    "\n",
    "However, rather than lamenting what data features I wished I had I will explain what is happening here.\n",
    "\n",
    "The greatest factors in succeeding in life, with success defined as earning above 50K annually,  Are first: education, second: marital-status, and third: occupation.  If I were to model a predictive model, I would also include factors such as gender, and race.\n",
    "\n",
    "It is disconcerting to see how, in the case of this analysis, women seem to be aversely affected. Though these factors improve women's chances for success, it isn't near to the degree as it is for men.  I find this disturbing particularly since in the United States, where the majority of this data derives, it is flagrantly illegal to pay someone less based upon their gender, yet with this data set that seems to be the case.\n",
    "\n",
    "However, if this were objectively true, then businesses would only hire women for the sake of being able to get away with paying a lower wage/salary range.  Also if this were objectively true then all women employees should start suing for better pay.\n",
    "\n",
    "This leads me to believe that there is likely another factor at play which isn't present in this dataset.  I would like to take a regionalized approach, I would like to get sample data by state in the US, an not only select census income data but also where legally possible to do so I would pull information from employers on a state by state basis, and perform this analysis again to see if I see the same disparate data; If so, with the more refined features available: demographical, economical, financial and company benefits info, I would be able to make a more accurate analysis and ascertain what is the underlying cause of this apparent pay gap."
   ]
  }
 ],
 "metadata": {
  "kernelspec": {
   "display_name": "base",
   "language": "python",
   "name": "python3"
  },
  "language_info": {
   "codemirror_mode": {
    "name": "ipython",
    "version": 3
   },
   "file_extension": ".py",
   "mimetype": "text/x-python",
   "name": "python",
   "nbconvert_exporter": "python",
   "pygments_lexer": "ipython3",
   "version": "3.10.9"
  }
 },
 "nbformat": 4,
 "nbformat_minor": 2
}
