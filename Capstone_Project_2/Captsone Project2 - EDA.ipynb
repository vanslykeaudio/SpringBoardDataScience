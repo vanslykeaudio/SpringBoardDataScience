{
 "cells": [
  {
   "cell_type": "markdown",
   "metadata": {},
   "source": [
    "# CAPSTONE PROJECT 2: A COMPUTER VISION MODEL WHICH DETECTS BONE FRACTURES IN THE UPPER EXTREMITIES NAMELY: WRISTS, FOREARMS, UPPER ARM, & SHOULDER FRACTURES\n",
    "#### Exploratory Data Analysis\n"
   ]
  },
  {
   "cell_type": "markdown",
   "metadata": {},
   "source": [
    "***\n",
    "Goal: Explore the data relationships of all your features and understand how the\n",
    "features compare to the response variable. <br>\n",
    "- Build data profiles and tables\n",
    "    - Inferential statistics\n",
    "- Explore data relationships\n",
    "    - Data visualization\n",
    "- Feature Selection and Engineering <br>\n",
    "Inferential Statistics Hint: do any particular results in your data strike you as abnormal?<br>\n",
    "What hypotheses can you form (Null and Alternative hypotheses) which you could go on\n",
    "to test? <br>Take some time to recall your statistical concepts, such as that the p-value of an\n",
    "observation is the probability of seeing data at least as extreme as that observation, on\n",
    "the assumption of the null hypothesis.\n",
    "Data Visualization Hint: recall your matplotlib and seaborn functions for data\n",
    "visualization: <br> matplotlib:\n",
    "- plt.plot()\n",
    "- plt.xlabel()\n",
    "- plt.show()\n",
    "- plt.hist(), <br>\n",
    "Seaborn: <br>\n",
    "- sns.relplot()\n",
    "- sns.lmplot()\n",
    "- sns.catplot().\n",
    "Remember to always start with an idea of what you want to achieve, and use these\n",
    "libraries and their functions as your toolkit to make that idea a reality.\n",
    "Feature Selection and Engineering Hint: feature selection is where data storytelling starts:\n",
    "we tell a story as soon as we include certain features and omit others. But how we\n",
    "manipulate - or engineer - those fields is just as important. <br>Recall the crucial elements to\n",
    "feature engineering:\n",
    "- If you have categorical features, you might need to one-hot encode them\n",
    "- You may need to binarize your columns and bin your values.\n",
    "- To handle missing data, think about how appropriate the methods of listwise\n",
    "deletion, data imputation, replacing missing values with constants or simply\n",
    "attempting to find the missing values are for your data.\n",
    "- Think about whether you need to standardize, log-transform or normalize your\n",
    "data, as well as statistically valid ways to remove outliers.<br>\n",
    "Consider the following questions and use your understanding of your dataset to answer\n",
    "them:<br>\n",
    "- Are there variables that are particularly significant in terms of explaining the \n",
    "answer to your project question?\n",
    "- Are there significant differences between subgroups in your data that may be\n",
    "relevant to your project aim?\n",
    "- Are there strong correlations between pairs of independent variables or between\n",
    "an independent and a dependent variable?\n",
    "- What are the most appropriate tests to use to analyze these relationships?\n",
    "***"
   ]
  },
  {
   "cell_type": "code",
   "execution_count": 15,
   "metadata": {},
   "outputs": [],
   "source": [
    "# Import modules:\n",
    "import pandas as pd\n",
    "import numpy as np\n",
    "import matplotlib.pyplot as plt\n",
    "import seaborn as sns\n",
    "import os\n",
    "\n",
    "# Import any other relevent modules as they become necesary throughout the project.\n",
    "import sklearn as skl\n",
    "import skimage as ski"
   ]
  },
  {
   "cell_type": "code",
   "execution_count": 6,
   "metadata": {},
   "outputs": [],
   "source": [
    "#Import the data as Pandas DataFrames: df_test, df_train, df_val\n",
    "data_links = [r'C:\\Users\\micha\\OneDrive\\Documents\\GitHub\\SpringBoardDataScience\\Capstone_Project_2\\Data\\df_test.csv', \n",
    "              r'C:\\Users\\micha\\OneDrive\\Documents\\GitHub\\SpringBoardDataScience\\Capstone_Project_2\\Data\\df_train.csv', \n",
    "              r'C:\\Users\\micha\\OneDrive\\Documents\\GitHub\\SpringBoardDataScience\\Capstone_Project_2\\Data\\df_val.csv']\n",
    "\n",
    "def multi_df(list):\n",
    "    temp_list = []\n",
    "    for i in list:\n",
    "        temp_list.append(pd.read_csv(i))\n",
    "    return temp_list\n",
    "    \n",
    "df_test, df_train, df_val = multi_df(data_links)\n",
    "    \n",
    "    "
   ]
  },
  {
   "cell_type": "code",
   "execution_count": 14,
   "metadata": {},
   "outputs": [],
   "source": [
    "# GLOBALS\n",
    "\n",
    "# Project Main Directory path\n",
    "dir_path = r\"C:\\Users\\micha\\OneDrive\\Documents\\GitHub\\SpringBoardDataScience\\Capstone_Project_2\"\n",
    "\n",
    "# Data Paths\n",
    "train_dir_path = r\"C:\\Users\\micha\\OneDrive\\Documents\\GitHub\\SpringBoardDataScience\\Capstone_Project_2\\Data\\train\"\n",
    "val_dir_path = r\"C:\\Users\\micha\\OneDrive\\Documents\\GitHub\\SpringBoardDataScience\\Capstone_Project_2\\Data\\valid\"\n",
    "test_dir_path = r\"C:\\Users\\micha\\OneDrive\\Documents\\GitHub\\SpringBoardDataScience\\Capstone_Project_2\\Data\\test\"\n"
   ]
  },
  {
   "cell_type": "code",
   "execution_count": 7,
   "metadata": {},
   "outputs": [
    {
     "data": {
      "text/html": [
       "<div>\n",
       "<style scoped>\n",
       "    .dataframe tbody tr th:only-of-type {\n",
       "        vertical-align: middle;\n",
       "    }\n",
       "\n",
       "    .dataframe tbody tr th {\n",
       "        vertical-align: top;\n",
       "    }\n",
       "\n",
       "    .dataframe thead th {\n",
       "        text-align: right;\n",
       "    }\n",
       "</style>\n",
       "<table border=\"1\" class=\"dataframe\">\n",
       "  <thead>\n",
       "    <tr style=\"text-align: right;\">\n",
       "      <th></th>\n",
       "      <th>Unnamed: 0</th>\n",
       "      <th>images</th>\n",
       "      <th>labels</th>\n",
       "      <th>classes</th>\n",
       "      <th>class-num</th>\n",
       "    </tr>\n",
       "  </thead>\n",
       "  <tbody>\n",
       "    <tr>\n",
       "      <th>0</th>\n",
       "      <td>0</td>\n",
       "      <td>distal-humerus-fracture-1_jpg.rf.831cb137cfcbd...</td>\n",
       "      <td>distal-humerus-fracture-1_jpg.rf.831cb137cfcbd...</td>\n",
       "      <td>humerus</td>\n",
       "      <td>4</td>\n",
       "    </tr>\n",
       "    <tr>\n",
       "      <th>1</th>\n",
       "      <td>1</td>\n",
       "      <td>image1_0_png.rf.99862308d714bff3f9c410adf5ca93...</td>\n",
       "      <td>image1_0_png.rf.99862308d714bff3f9c410adf5ca93...</td>\n",
       "      <td>humerus</td>\n",
       "      <td>4</td>\n",
       "    </tr>\n",
       "    <tr>\n",
       "      <th>2</th>\n",
       "      <td>2</td>\n",
       "      <td>image1_1000_png.rf.a53c5e186c03961bf88075c6e3e...</td>\n",
       "      <td>image1_1000_png.rf.a53c5e186c03961bf88075c6e3e...</td>\n",
       "      <td>humerus</td>\n",
       "      <td>4</td>\n",
       "    </tr>\n",
       "    <tr>\n",
       "      <th>3</th>\n",
       "      <td>3</td>\n",
       "      <td>image1_1015_png.rf.3b7320c3c40771fa5532bf713a7...</td>\n",
       "      <td>image1_1015_png.rf.3b7320c3c40771fa5532bf713a7...</td>\n",
       "      <td>humerus</td>\n",
       "      <td>4</td>\n",
       "    </tr>\n",
       "    <tr>\n",
       "      <th>4</th>\n",
       "      <td>4</td>\n",
       "      <td>image1_1015_png.rf.9181f8eb07451331e22381bacb3...</td>\n",
       "      <td>image1_1015_png.rf.9181f8eb07451331e22381bacb3...</td>\n",
       "      <td>humerus</td>\n",
       "      <td>4</td>\n",
       "    </tr>\n",
       "  </tbody>\n",
       "</table>\n",
       "</div>"
      ],
      "text/plain": [
       "   Unnamed: 0                                             images  \\\n",
       "0           0  distal-humerus-fracture-1_jpg.rf.831cb137cfcbd...   \n",
       "1           1  image1_0_png.rf.99862308d714bff3f9c410adf5ca93...   \n",
       "2           2  image1_1000_png.rf.a53c5e186c03961bf88075c6e3e...   \n",
       "3           3  image1_1015_png.rf.3b7320c3c40771fa5532bf713a7...   \n",
       "4           4  image1_1015_png.rf.9181f8eb07451331e22381bacb3...   \n",
       "\n",
       "                                              labels  classes  class-num  \n",
       "0  distal-humerus-fracture-1_jpg.rf.831cb137cfcbd...  humerus          4  \n",
       "1  image1_0_png.rf.99862308d714bff3f9c410adf5ca93...  humerus          4  \n",
       "2  image1_1000_png.rf.a53c5e186c03961bf88075c6e3e...  humerus          4  \n",
       "3  image1_1015_png.rf.3b7320c3c40771fa5532bf713a7...  humerus          4  \n",
       "4  image1_1015_png.rf.9181f8eb07451331e22381bacb3...  humerus          4  "
      ]
     },
     "execution_count": 7,
     "metadata": {},
     "output_type": "execute_result"
    }
   ],
   "source": [
    "df_test.head()"
   ]
  },
  {
   "cell_type": "code",
   "execution_count": 8,
   "metadata": {},
   "outputs": [
    {
     "data": {
      "text/html": [
       "<div>\n",
       "<style scoped>\n",
       "    .dataframe tbody tr th:only-of-type {\n",
       "        vertical-align: middle;\n",
       "    }\n",
       "\n",
       "    .dataframe tbody tr th {\n",
       "        vertical-align: top;\n",
       "    }\n",
       "\n",
       "    .dataframe thead th {\n",
       "        text-align: right;\n",
       "    }\n",
       "</style>\n",
       "<table border=\"1\" class=\"dataframe\">\n",
       "  <thead>\n",
       "    <tr style=\"text-align: right;\">\n",
       "      <th></th>\n",
       "      <th>Unnamed: 0</th>\n",
       "      <th>images</th>\n",
       "      <th>labels</th>\n",
       "      <th>classes</th>\n",
       "      <th>class-num</th>\n",
       "    </tr>\n",
       "  </thead>\n",
       "  <tbody>\n",
       "    <tr>\n",
       "      <th>0</th>\n",
       "      <td>0</td>\n",
       "      <td>distal-humeral-fractures-2-_JPEG.rf.39ba3f5304...</td>\n",
       "      <td>distal-humeral-fractures-2-_JPEG.rf.39ba3f5304...</td>\n",
       "      <td>elbow positive</td>\n",
       "      <td>0</td>\n",
       "    </tr>\n",
       "    <tr>\n",
       "      <th>1</th>\n",
       "      <td>1</td>\n",
       "      <td>distal-humeral-fractures-2-_JPEG.rf.525ce87678...</td>\n",
       "      <td>distal-humeral-fractures-2-_JPEG.rf.525ce87678...</td>\n",
       "      <td>elbow positive</td>\n",
       "      <td>0</td>\n",
       "    </tr>\n",
       "    <tr>\n",
       "      <th>2</th>\n",
       "      <td>2</td>\n",
       "      <td>distal-humeral-fractures-2-_JPEG.rf.f9442db05e...</td>\n",
       "      <td>distal-humeral-fractures-2-_JPEG.rf.f9442db05e...</td>\n",
       "      <td>elbow positive</td>\n",
       "      <td>0</td>\n",
       "    </tr>\n",
       "    <tr>\n",
       "      <th>3</th>\n",
       "      <td>3</td>\n",
       "      <td>elbow-dislocation-with-coronoid-process-fractu...</td>\n",
       "      <td>elbow-dislocation-with-coronoid-process-fractu...</td>\n",
       "      <td>elbow positive</td>\n",
       "      <td>0</td>\n",
       "    </tr>\n",
       "    <tr>\n",
       "      <th>4</th>\n",
       "      <td>4</td>\n",
       "      <td>elbow-dislocation-with-coronoid-process-fractu...</td>\n",
       "      <td>elbow-dislocation-with-coronoid-process-fractu...</td>\n",
       "      <td>elbow positive</td>\n",
       "      <td>0</td>\n",
       "    </tr>\n",
       "  </tbody>\n",
       "</table>\n",
       "</div>"
      ],
      "text/plain": [
       "   Unnamed: 0                                             images  \\\n",
       "0           0  distal-humeral-fractures-2-_JPEG.rf.39ba3f5304...   \n",
       "1           1  distal-humeral-fractures-2-_JPEG.rf.525ce87678...   \n",
       "2           2  distal-humeral-fractures-2-_JPEG.rf.f9442db05e...   \n",
       "3           3  elbow-dislocation-with-coronoid-process-fractu...   \n",
       "4           4  elbow-dislocation-with-coronoid-process-fractu...   \n",
       "\n",
       "                                              labels         classes  \\\n",
       "0  distal-humeral-fractures-2-_JPEG.rf.39ba3f5304...  elbow positive   \n",
       "1  distal-humeral-fractures-2-_JPEG.rf.525ce87678...  elbow positive   \n",
       "2  distal-humeral-fractures-2-_JPEG.rf.f9442db05e...  elbow positive   \n",
       "3  elbow-dislocation-with-coronoid-process-fractu...  elbow positive   \n",
       "4  elbow-dislocation-with-coronoid-process-fractu...  elbow positive   \n",
       "\n",
       "   class-num  \n",
       "0          0  \n",
       "1          0  \n",
       "2          0  \n",
       "3          0  \n",
       "4          0  "
      ]
     },
     "execution_count": 8,
     "metadata": {},
     "output_type": "execute_result"
    }
   ],
   "source": [
    "df_train.head()"
   ]
  },
  {
   "cell_type": "code",
   "execution_count": 9,
   "metadata": {},
   "outputs": [
    {
     "data": {
      "text/html": [
       "<div>\n",
       "<style scoped>\n",
       "    .dataframe tbody tr th:only-of-type {\n",
       "        vertical-align: middle;\n",
       "    }\n",
       "\n",
       "    .dataframe tbody tr th {\n",
       "        vertical-align: top;\n",
       "    }\n",
       "\n",
       "    .dataframe thead th {\n",
       "        text-align: right;\n",
       "    }\n",
       "</style>\n",
       "<table border=\"1\" class=\"dataframe\">\n",
       "  <thead>\n",
       "    <tr style=\"text-align: right;\">\n",
       "      <th></th>\n",
       "      <th>Unnamed: 0</th>\n",
       "      <th>images</th>\n",
       "      <th>labels</th>\n",
       "      <th>classes</th>\n",
       "      <th>class-num</th>\n",
       "    </tr>\n",
       "  </thead>\n",
       "  <tbody>\n",
       "    <tr>\n",
       "      <th>0</th>\n",
       "      <td>0</td>\n",
       "      <td>coronoid-process-fracture_jpg.rf.71650459c69a9...</td>\n",
       "      <td>coronoid-process-fracture_jpg.rf.71650459c69a9...</td>\n",
       "      <td>elbow positive</td>\n",
       "      <td>0</td>\n",
       "    </tr>\n",
       "    <tr>\n",
       "      <th>1</th>\n",
       "      <td>1</td>\n",
       "      <td>image1_0_png.rf.d29cab92b154a83ca5bf7e40083673...</td>\n",
       "      <td>image1_0_png.rf.d29cab92b154a83ca5bf7e40083673...</td>\n",
       "      <td>fingers positive</td>\n",
       "      <td>1</td>\n",
       "    </tr>\n",
       "    <tr>\n",
       "      <th>2</th>\n",
       "      <td>2</td>\n",
       "      <td>image1_1000_png.rf.7eebc2918f75be5baf4c32a091e...</td>\n",
       "      <td>image1_1000_png.rf.7eebc2918f75be5baf4c32a091e...</td>\n",
       "      <td>fingers positive</td>\n",
       "      <td>1</td>\n",
       "    </tr>\n",
       "    <tr>\n",
       "      <th>3</th>\n",
       "      <td>3</td>\n",
       "      <td>image1_1026_png.rf.e9dc3004de762ddd0f75d8f17fb...</td>\n",
       "      <td>image1_1026_png.rf.e9dc3004de762ddd0f75d8f17fb...</td>\n",
       "      <td>fingers positive</td>\n",
       "      <td>1</td>\n",
       "    </tr>\n",
       "    <tr>\n",
       "      <th>4</th>\n",
       "      <td>4</td>\n",
       "      <td>image1_1029_png.rf.8f1dfb1982511a9b38867fa9444...</td>\n",
       "      <td>image1_1029_png.rf.8f1dfb1982511a9b38867fa9444...</td>\n",
       "      <td>fingers positive</td>\n",
       "      <td>1</td>\n",
       "    </tr>\n",
       "  </tbody>\n",
       "</table>\n",
       "</div>"
      ],
      "text/plain": [
       "   Unnamed: 0                                             images  \\\n",
       "0           0  coronoid-process-fracture_jpg.rf.71650459c69a9...   \n",
       "1           1  image1_0_png.rf.d29cab92b154a83ca5bf7e40083673...   \n",
       "2           2  image1_1000_png.rf.7eebc2918f75be5baf4c32a091e...   \n",
       "3           3  image1_1026_png.rf.e9dc3004de762ddd0f75d8f17fb...   \n",
       "4           4  image1_1029_png.rf.8f1dfb1982511a9b38867fa9444...   \n",
       "\n",
       "                                              labels           classes  \\\n",
       "0  coronoid-process-fracture_jpg.rf.71650459c69a9...    elbow positive   \n",
       "1  image1_0_png.rf.d29cab92b154a83ca5bf7e40083673...  fingers positive   \n",
       "2  image1_1000_png.rf.7eebc2918f75be5baf4c32a091e...  fingers positive   \n",
       "3  image1_1026_png.rf.e9dc3004de762ddd0f75d8f17fb...  fingers positive   \n",
       "4  image1_1029_png.rf.8f1dfb1982511a9b38867fa9444...  fingers positive   \n",
       "\n",
       "   class-num  \n",
       "0          0  \n",
       "1          1  \n",
       "2          1  \n",
       "3          1  \n",
       "4          1  "
      ]
     },
     "execution_count": 9,
     "metadata": {},
     "output_type": "execute_result"
    }
   ],
   "source": [
    "df_val.head()"
   ]
  },
  {
   "cell_type": "markdown",
   "metadata": {},
   "source": [
    "These csv files double importet their indices so we will appropriately trim them."
   ]
  },
  {
   "cell_type": "code",
   "execution_count": 12,
   "metadata": {},
   "outputs": [],
   "source": [
    "df_train.drop(columns='Unnamed: 0', inplace=True)\n",
    "df_test.drop(columns='Unnamed: 0', inplace=True)\n",
    "df_val.drop(columns='Unnamed: 0', inplace=True)"
   ]
  },
  {
   "cell_type": "markdown",
   "metadata": {},
   "source": [
    "Also just to make sure, we will import an image and superimpose it's respective label to make sure we can still use this data from the data wrangling portion of the project."
   ]
  },
  {
   "cell_type": "code",
   "execution_count": 16,
   "metadata": {},
   "outputs": [],
   "source": [
    "# a function for displaying an image for EDA (Borrowed from DataCamp Course: Make Images Come Alive with SciKit-Image)\n",
    "def show_image(image, title='Image', cmap_type='gray'):\n",
    "    plt.imshow(image, cmap=cmap_type)\n",
    "    plt.title(title)\n",
    "    plt.axis('off')\n",
    "    plt.show()"
   ]
  },
  {
   "cell_type": "code",
   "execution_count": 32,
   "metadata": {},
   "outputs": [],
   "source": [
    "# access image file path and store in image variable\n",
    "i_file = rf\"{train_dir_path}\\images\\{df_train['images'].iloc[0]}\"\n",
    "image = ski.io.imread(i_file)\n"
   ]
  },
  {
   "cell_type": "code",
   "execution_count": null,
   "metadata": {},
   "outputs": [],
   "source": [
    "# access label data and superimpose on the image file.\n",
    "os.read()"
   ]
  },
  {
   "cell_type": "code",
   "execution_count": 36,
   "metadata": {},
   "outputs": [
    {
     "data": {
      "image/png": "[encoded data removed]",
      "text/plain": [
       "<Figure size 640x480 with 1 Axes>"
      ]
     },
     "metadata": {},
     "output_type": "display_data"
    }
   ],
   "source": [
    "show_image(image, title=\"Test Image\")"
   ]
  }
 ],
 "metadata": {
  "kernelspec": {
   "display_name": "base",
   "language": "python",
   "name": "python3"
  },
  "language_info": {
   "codemirror_mode": {
    "name": "ipython",
    "version": 3
   },
   "file_extension": ".py",
   "mimetype": "text/x-python",
   "name": "python",
   "nbconvert_exporter": "python",
   "pygments_lexer": "ipython3",
   "version": "3.10.9"
  }
 },
 "nbformat": 4,
 "nbformat_minor": 2
}
