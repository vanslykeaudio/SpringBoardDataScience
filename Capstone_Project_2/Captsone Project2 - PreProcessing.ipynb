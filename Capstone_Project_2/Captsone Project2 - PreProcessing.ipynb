{
 "cells": [
  {
   "cell_type": "markdown",
   "metadata": {},
   "source": [
    "# CAPSTONE PROJECT 2: A COMPUTER VISION MODEL WHICH DETECTS BONE FRACTURES IN THE UPPER EXTREMITIES NAMELY: WRISTS, FOREARMS, UPPER ARM, & SHOULDER FRACTURES\n",
    "#### Data Pre-Processing\n",
    "\n"
   ]
  },
  {
   "cell_type": "markdown",
   "metadata": {},
   "source": [
    "***\n",
    "Goal: Explore the data relationships of all your features and understand how the\n",
    "features compare to the response variable. <br>\n",
    "- Build data profiles and tables\n",
    "    - Inferential statistics\n",
    "- Explore data relationships\n",
    "    - Data visualization\n",
    "- Feature Selection and Engineering <br>\n",
    "Inferential Statistics Hint: do any particular results in your data strike you as abnormal?<br>\n",
    "What hypotheses can you form (Null and Alternative hypotheses) which you could go on\n",
    "to test? <br>Take some time to recall your statistical concepts, such as that the p-value of an\n",
    "observation is the probability of seeing data at least as extreme as that observation, on\n",
    "the assumption of the null hypothesis.\n",
    "Data Visualization Hint: recall your matplotlib and seaborn functions for data\n",
    "visualization: <br> matplotlib:\n",
    "- plt.plot()\n",
    "- plt.xlabel()\n",
    "- plt.show()\n",
    "- plt.hist(), <br>\n",
    "Seaborn: <br>\n",
    "- sns.relplot()\n",
    "- sns.lmplot()\n",
    "- sns.catplot().\n",
    "Remember to always start with an idea of what you want to achieve, and use these\n",
    "libraries and their functions as your toolkit to make that idea a reality.\n",
    "Feature Selection and Engineering Hint: feature selection is where data storytelling starts:\n",
    "we tell a story as soon as we include certain features and omit others. But how we\n",
    "manipulate - or engineer - those fields is just as important. <br>Recall the crucial elements to\n",
    "feature engineering:\n",
    "- If you have categorical features, you might need to one-hot encode them\n",
    "- You may need to binarize your columns and bin your values.\n",
    "- To handle missing data, think about how appropriate the methods of listwise\n",
    "deletion, data imputation, replacing missing values with constants or simply\n",
    "attempting to find the missing values are for your data.\n",
    "- Think about whether you need to standardize, log-transform or normalize your\n",
    "data, as well as statistically valid ways to remove outliers.<br>\n",
    "Consider the following questions and use your understanding of your dataset to answer\n",
    "them:<br>\n",
    "- Are there variables that are particularly significant in terms of explaining the \n",
    "answer to your project question?\n",
    "- Are there significant differences between subgroups in your data that may be\n",
    "relevant to your project aim?\n",
    "- Are there strong correlations between pairs of independent variables or between\n",
    "an independent and a dependent variable?\n",
    "- What are the most appropriate tests to use to analyze these relationships?\n",
    "***"
   ]
  }
 ],
 "metadata": {
  "language_info": {
   "name": "python"
  }
 },
 "nbformat": 4,
 "nbformat_minor": 2
}
