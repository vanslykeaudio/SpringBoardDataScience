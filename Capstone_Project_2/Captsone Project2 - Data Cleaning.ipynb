{
 "cells": [
  {
   "cell_type": "markdown",
   "metadata": {},
   "source": [
    "# CAPSTONE PROJECT 2: A COMPUTER VISION MODEL WHICH DETECTS BONE FRACTURES IN THE UPPER EXTREMITIES NAMELY: WRISTS, FOREARMS, UPPER ARM, & SHOULDER FRACTURES\n",
    "#### DATA WRANGLING"
   ]
  },
  {
   "cell_type": "code",
   "execution_count": 27,
   "metadata": {},
   "outputs": [],
   "source": [
    "# import necessary modules for Data Wrangling, namely Pandas, numpy, & motplotlib.\n",
    "import pandas as pd\n",
    "import numpy as np\n",
    "import matplotlib.pyplot as plt\n",
    "\n",
    "# import extra modules as needed here:\n",
    "import yaml\n",
    "import os"
   ]
  },
  {
   "cell_type": "code",
   "execution_count": 28,
   "metadata": {},
   "outputs": [
    {
     "data": {
      "text/html": [
       "<div>\n",
       "<style scoped>\n",
       "    .dataframe tbody tr th:only-of-type {\n",
       "        vertical-align: middle;\n",
       "    }\n",
       "\n",
       "    .dataframe tbody tr th {\n",
       "        vertical-align: top;\n",
       "    }\n",
       "\n",
       "    .dataframe thead th {\n",
       "        text-align: right;\n",
       "    }\n",
       "</style>\n",
       "<table border=\"1\" class=\"dataframe\">\n",
       "  <thead>\n",
       "    <tr style=\"text-align: right;\">\n",
       "      <th></th>\n",
       "      <th>train</th>\n",
       "      <th>val</th>\n",
       "      <th>test</th>\n",
       "      <th>nc</th>\n",
       "      <th>names</th>\n",
       "      <th>roboflow.workspace</th>\n",
       "      <th>roboflow.project</th>\n",
       "      <th>roboflow.version</th>\n",
       "      <th>roboflow.license</th>\n",
       "      <th>roboflow.url</th>\n",
       "    </tr>\n",
       "  </thead>\n",
       "  <tbody>\n",
       "    <tr>\n",
       "      <th>0</th>\n",
       "      <td>C:\\Users\\micha\\OneDrive\\Documents\\GitHub\\Sprin...</td>\n",
       "      <td>C:\\Users\\micha\\OneDrive\\Documents\\GitHub\\Sprin...</td>\n",
       "      <td>C:\\Users\\micha\\OneDrive\\Documents\\GitHub\\Sprin...</td>\n",
       "      <td>7</td>\n",
       "      <td>[elbow positive, fingers positive, forearm fra...</td>\n",
       "      <td>veda</td>\n",
       "      <td>bone-fracture-detection-daoon</td>\n",
       "      <td>4</td>\n",
       "      <td>CC BY 4.0</td>\n",
       "      <td>https://universe.roboflow.com/veda/bone-fractu...</td>\n",
       "    </tr>\n",
       "  </tbody>\n",
       "</table>\n",
       "</div>"
      ],
      "text/plain": [
       "                                               train  \\\n",
       "0  C:\\Users\\micha\\OneDrive\\Documents\\GitHub\\Sprin...   \n",
       "\n",
       "                                                 val  \\\n",
       "0  C:\\Users\\micha\\OneDrive\\Documents\\GitHub\\Sprin...   \n",
       "\n",
       "                                                test  nc  \\\n",
       "0  C:\\Users\\micha\\OneDrive\\Documents\\GitHub\\Sprin...   7   \n",
       "\n",
       "                                               names roboflow.workspace  \\\n",
       "0  [elbow positive, fingers positive, forearm fra...               veda   \n",
       "\n",
       "                roboflow.project  roboflow.version roboflow.license  \\\n",
       "0  bone-fracture-detection-daoon                 4        CC BY 4.0   \n",
       "\n",
       "                                        roboflow.url  \n",
       "0  https://universe.roboflow.com/veda/bone-fractu...  "
      ]
     },
     "execution_count": 28,
     "metadata": {},
     "output_type": "execute_result"
    }
   ],
   "source": [
    "# Import the data via the .yaml file found in ./data/data.yaml\n",
    "\n",
    "# Load the YAML file as a DataFrame\n",
    "with open(r'C:\\Users\\micha\\OneDrive\\Documents\\GitHub\\SpringBoardDataScience\\Capstone_Project_2\\Data\\data.yaml', 'r') as file:\n",
    "    df = pd.json_normalize(yaml.load(file, Loader=yaml.FullLoader))\n",
    "\n",
    "# Print the result\n",
    "df.head()"
   ]
  },
  {
   "cell_type": "code",
   "execution_count": 29,
   "metadata": {},
   "outputs": [],
   "source": [
    "# remove unnecessary columns from the DataFrame\n",
    "df.drop(columns=['nc', 'roboflow.workspace', 'roboflow.project', 'roboflow.version', 'roboflow.license', 'roboflow.url'], inplace=True)"
   ]
  },
  {
   "cell_type": "code",
   "execution_count": 31,
   "metadata": {},
   "outputs": [
    {
     "data": {
      "text/plain": [
       "['elbow positive',\n",
       " 'fingers positive',\n",
       " 'forearm fracture',\n",
       " 'humerus fracture',\n",
       " 'humerus',\n",
       " 'shoulder fracture',\n",
       " 'wrist positive']"
      ]
     },
     "execution_count": 31,
     "metadata": {},
     "output_type": "execute_result"
    }
   ],
   "source": [
    "df.iloc[0,3]"
   ]
  }
 ],
 "metadata": {
  "kernelspec": {
   "display_name": "base",
   "language": "python",
   "name": "python3"
  },
  "language_info": {
   "codemirror_mode": {
    "name": "ipython",
    "version": 3
   },
   "file_extension": ".py",
   "mimetype": "text/x-python",
   "name": "python",
   "nbconvert_exporter": "python",
   "pygments_lexer": "ipython3",
   "version": "3.10.9"
  }
 },
 "nbformat": 4,
 "nbformat_minor": 2
}
