{
 "cells": [
  {
   "cell_type": "markdown",
   "metadata": {},
   "source": [
    "# CAPSTONE PROJECT 2: A COMPUTER VISION MODEL WHICH DETECTS BONE FRACTURES IN THE UPPER EXTREMITIES NAMELY: WRISTS, FOREARMS, UPPER ARM, & SHOULDER FRACTURES\n",
    "#### DATA WRANGLING"
   ]
  },
  {
   "cell_type": "code",
   "execution_count": 2,
   "metadata": {},
   "outputs": [],
   "source": [
    "# import necessary modules for Data Wrangling, namely Pandas, numpy, & motplotlib.\n",
    "import pandas as pd\n",
    "import numpy as np\n",
    "import matplotlib.pyplot as plt\n",
    "\n",
    "# import extra modules as needed here:\n",
    "import yaml\n",
    "import os\n",
    "import torch\n",
    "from torch import nn\n",
    "import albumentations as A\n",
    "import cv2\n",
    "import matplotlib.pyplot as plt\n",
    "import seaborn as sns\n",
    "from tqdm import tqdm\n",
    "import random"
   ]
  },
  {
   "cell_type": "code",
   "execution_count": 3,
   "metadata": {},
   "outputs": [],
   "source": [
    "torch.cuda.empty_cache()\n",
    "\n",
    "BS = 16\n",
    "LR = 0.00005\n",
    "epochs = 20\n",
    "IS = 256\n",
    "D = 'cuda' if torch.cuda.is_available() else 'cpu'\n",
    "\n",
    "num_classes = 7\n",
    "classes = ['elbow positive', 'fingers positive', 'forearm fracture', 'humerus fracture', 'humerus', 'shoulder fracture', 'wrist positive']\n",
    "c2l = {k:v for k,v in list(zip(classes,list(range(num_classes))))}\n",
    "l2c = {v:k for k,v in c2l.items()}\n",
    "\n",
    "dir_path = r\"C:\\Users\\micha\\OneDrive\\Documents\\GitHub\\SpringBoardDataScience\\Capstone_Project_2\"\n",
    "\n",
    "train_dir_path = r\"C:\\Users\\micha\\OneDrive\\Documents\\GitHub\\SpringBoardDataScience\\Capstone_Project_2\\Data\\train\"\n",
    "train_img_paths = sorted(os.listdir(r\"C:\\Users\\micha\\OneDrive\\Documents\\GitHub\\SpringBoardDataScience\\Capstone_Project_2\\Data\\train\\images\"))\n",
    "train_target_paths = sorted(os.listdir(r\"C:\\Users\\micha\\OneDrive\\Documents\\GitHub\\SpringBoardDataScience\\Capstone_Project_2\\Data\\train\\labels\"))\n",
    "\n",
    "val_dir_path = r\"C:\\Users\\micha\\OneDrive\\Documents\\GitHub\\SpringBoardDataScience\\Capstone_Project_2\\Data\\valid\"\n",
    "val_img_paths = sorted(os.listdir(r\"C:\\Users\\micha\\OneDrive\\Documents\\GitHub\\SpringBoardDataScience\\Capstone_Project_2\\Data\\valid\\images\"))\n",
    "val_target_paths = sorted(os.listdir(r\"C:\\Users\\micha\\OneDrive\\Documents\\GitHub\\SpringBoardDataScience\\Capstone_Project_2\\Data\\valid\\labels\"))\n",
    "\n",
    "test_dir_path = r\"C:\\Users\\micha\\OneDrive\\Documents\\GitHub\\SpringBoardDataScience\\Capstone_Project_2\\Data\\test\"\n",
    "test_img_paths = sorted(os.listdir(r\"C:\\Users\\micha\\OneDrive\\Documents\\GitHub\\SpringBoardDataScience\\Capstone_Project_2\\Data\\test\\images\"))\n",
    "test_target_paths = sorted(os.listdir(r\"C:\\Users\\micha\\OneDrive\\Documents\\GitHub\\SpringBoardDataScience\\Capstone_Project_2\\Data\\test\\labels\"))"
   ]
  },
  {
   "cell_type": "code",
   "execution_count": 6,
   "metadata": {},
   "outputs": [
    {
     "data": {
      "text/plain": [
       "'C:\\\\Users\\\\micha\\\\OneDrive\\\\Documents\\\\GitHub\\\\SpringBoardDataScience\\\\Capstone_Project_2'"
      ]
     },
     "execution_count": 6,
     "metadata": {},
     "output_type": "execute_result"
    }
   ],
   "source": []
  }
 ],
 "metadata": {
  "kernelspec": {
   "display_name": "base",
   "language": "python",
   "name": "python3"
  },
  "language_info": {
   "codemirror_mode": {
    "name": "ipython",
    "version": 3
   },
   "file_extension": ".py",
   "mimetype": "text/x-python",
   "name": "python",
   "nbconvert_exporter": "python",
   "pygments_lexer": "ipython3",
   "version": "3.10.9"
  }
 },
 "nbformat": 4,
 "nbformat_minor": 2
}
