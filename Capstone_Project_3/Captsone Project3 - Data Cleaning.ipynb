{
 "cells": [
  {
   "cell_type": "markdown",
   "metadata": {},
   "source": [
    "# CAPTSTONE PROJECT 3:\n",
    "\n",
    "### DATA CLEANING\n",
    "\n",
    "***"
   ]
  },
  {
   "cell_type": "markdown",
   "metadata": {},
   "source": [
    "#### CLEAN DATA:\n",
    "* Import .csv file in local Data Folder as DataFrame: df\n",
    "* Examine the contents of DataFrame and address any issues regard NaN or others empty values\n",
    "* Save updated dataFrame as df_cleaned.csv"
   ]
  },
  {
   "cell_type": "code",
   "execution_count": 8,
   "metadata": {},
   "outputs": [],
   "source": [
    "# Import necessary modules for DataFrame cleaning\n",
    "import numpy as np\n",
    "import pandas as pd\n",
    "import matplotlib.pyplot as plt\n",
    "import seaborn as sns\n",
    "import os\n",
    "import finnhub\n",
    "import nasdaqdatalink\n",
    "from polygon import RESTClient\n",
    "from dotenv import load_dotenv\n",
    "import requests as r\n",
    "import json\n",
    "import collections as coll"
   ]
  },
  {
   "cell_type": "markdown",
   "metadata": {},
   "source": [
    "##### PULL DATA FROM API's and Import public table from S & P 500\n",
    "***"
   ]
  },
  {
   "cell_type": "code",
   "execution_count": 11,
   "metadata": {},
   "outputs": [
    {
     "name": "stdout",
     "output_type": "stream",
     "text": [
      "NASDAQ KEY: vCoBDwKmDFdadaYVMcoY\n",
      "MARKETSTACK KEY: a9c064b95f02774025539939980a0e41\n",
      "FINNHUB KEY: co5fa69r01qrjq1g0bp0co5fa69r01qrjq1g0bpg\n",
      "POLYGON KEY: yQ2lQqUwhSnsCSvrNKpP7B2Z1hB3qX3b\n"
     ]
    }
   ],
   "source": [
    "load_dotenv(\".env\")\n",
    "NASDAQ_DATA_LINK_API_KEY = os.getenv('NASDAQ_DATA_LINK_API_KEY')\n",
    "MKTS_API_KEY = os.getenv('MARKETSTACK_API_KEY')\n",
    "FNH_API_KEY = os.getenv('FINNHUB_API_KEY')\n",
    "PLY_API_KEY = os.getenv('POLYGON_API_KEY')\n",
    "\n",
    "# print(f\"NASDAQ KEY: {NASDAQ_DATA_LINK_API_KEY}\")\n",
    "# print(f\"MARKETSTACK KEY: {MKTS_API_KEY}\")\n",
    "# print(f\"FINNHUB KEY: {FNH_API_KEY}\")\n",
    "# print(f\"POLYGON KEY: {PLY_API_KEY}\")"
   ]
  },
  {
   "cell_type": "code",
   "execution_count": 14,
   "metadata": {},
   "outputs": [],
   "source": [
    "# Pull data from NASDAQ\n",
    "nasdaqdatalink.read_key('.env')\n"
   ]
  }
 ],
 "metadata": {
  "kernelspec": {
   "display_name": "base",
   "language": "python",
   "name": "python3"
  },
  "language_info": {
   "codemirror_mode": {
    "name": "ipython",
    "version": 3
   },
   "file_extension": ".py",
   "mimetype": "text/x-python",
   "name": "python",
   "nbconvert_exporter": "python",
   "pygments_lexer": "ipython3",
   "version": "3.10.9"
  }
 },
 "nbformat": 4,
 "nbformat_minor": 2
}
