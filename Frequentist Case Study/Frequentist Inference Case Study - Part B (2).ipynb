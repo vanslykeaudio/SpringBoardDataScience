{
 "cells": [
  {
   "cell_type": "markdown",
   "metadata": {},
   "source": [
    "# Frequentist Inference Case Study - Part B"
   ]
  },
  {
   "cell_type": "markdown",
   "metadata": {},
   "source": [
    "## Learning objectives"
   ]
  },
  {
   "cell_type": "markdown",
   "metadata": {},
   "source": [
    "Welcome to Part B of the Frequentist inference case study! The purpose of this case study is to help you apply the concepts associated with Frequentist inference in Python. In particular, you'll practice writing Python code to apply the following statistical concepts: \n",
    "* the _z_-statistic\n",
    "* the _t_-statistic\n",
    "* the difference and relationship between the two\n",
    "* the Central Limit Theorem, including its assumptions and consequences\n",
    "* how to estimate the population mean and standard deviation from a sample\n",
    "* the concept of a sampling distribution of a test statistic, particularly for the mean\n",
    "* how to combine these concepts to calculate a confidence interval"
   ]
  },
  {
   "cell_type": "markdown",
   "metadata": {},
   "source": [
    "In the previous notebook, we used only data from a known normal distribution. **You'll now tackle real data, rather than simulated data, and answer some relevant real-world business problems using the data.**"
   ]
  },
  {
   "cell_type": "markdown",
   "metadata": {},
   "source": [
    "## Hospital medical charges"
   ]
  },
  {
   "cell_type": "markdown",
   "metadata": {},
   "source": [
    "Imagine that a hospital has hired you as their data scientist. An administrator is working on the hospital's business operations plan and needs you to help them answer some business questions. \n",
    "\n",
    "In this assignment notebook, you're going to use frequentist statistical inference on a data sample to answer the questions:\n",
    "* has the hospital's revenue stream fallen below a key threshold?\n",
    "* are patients with insurance really charged different amounts than those without?\n",
    "\n",
    "Answering that last question with a frequentist approach makes some assumptions, and requires some knowledge, about the two groups."
   ]
  },
  {
   "cell_type": "markdown",
   "metadata": {},
   "source": [
    "We are going to use some data on medical charges obtained from [Kaggle](https://www.kaggle.com/easonlai/sample-insurance-claim-prediction-dataset). \n",
    "\n",
    "For the purposes of this exercise, assume the observations are the result of random sampling from our single hospital. Recall that in the previous assignment, we introduced the Central Limit Theorem (CLT), and its consequence that the distributions of sample statistics approach a normal distribution as $n$ increases. The amazing thing about this is that it applies to the sampling distributions of statistics that have been calculated from even highly non-normal distributions of data! Recall, also, that hypothesis testing is very much based on making inferences about such sample statistics. You're going to rely heavily on the CLT to apply frequentist (parametric) tests to answer the questions in this notebook."
   ]
  },
  {
   "cell_type": "code",
   "execution_count": 49,
   "metadata": {},
   "outputs": [],
   "source": [
    "import pandas as pd\n",
    "import numpy as np\n",
    "import matplotlib.pyplot as plt\n",
    "from scipy.stats import t\n",
    "from numpy.random import seed\n",
    "medical = pd.read_csv('./insurance2.csv')"
   ]
  },
  {
   "cell_type": "code",
   "execution_count": 50,
   "metadata": {},
   "outputs": [
    {
     "data": {
      "text/plain": [
       "(1338, 8)"
      ]
     },
     "execution_count": 50,
     "metadata": {},
     "output_type": "execute_result"
    }
   ],
   "source": [
    "medical.shape"
   ]
  },
  {
   "cell_type": "code",
   "execution_count": 51,
   "metadata": {},
   "outputs": [
    {
     "data": {
      "text/html": [
       "<div>\n",
       "<style scoped>\n",
       "    .dataframe tbody tr th:only-of-type {\n",
       "        vertical-align: middle;\n",
       "    }\n",
       "\n",
       "    .dataframe tbody tr th {\n",
       "        vertical-align: top;\n",
       "    }\n",
       "\n",
       "    .dataframe thead th {\n",
       "        text-align: right;\n",
       "    }\n",
       "</style>\n",
       "<table border=\"1\" class=\"dataframe\">\n",
       "  <thead>\n",
       "    <tr style=\"text-align: right;\">\n",
       "      <th></th>\n",
       "      <th>age</th>\n",
       "      <th>sex</th>\n",
       "      <th>bmi</th>\n",
       "      <th>children</th>\n",
       "      <th>smoker</th>\n",
       "      <th>region</th>\n",
       "      <th>charges</th>\n",
       "      <th>insuranceclaim</th>\n",
       "    </tr>\n",
       "  </thead>\n",
       "  <tbody>\n",
       "    <tr>\n",
       "      <th>0</th>\n",
       "      <td>19</td>\n",
       "      <td>0</td>\n",
       "      <td>27.900</td>\n",
       "      <td>0</td>\n",
       "      <td>1</td>\n",
       "      <td>3</td>\n",
       "      <td>16884.92400</td>\n",
       "      <td>1</td>\n",
       "    </tr>\n",
       "    <tr>\n",
       "      <th>1</th>\n",
       "      <td>18</td>\n",
       "      <td>1</td>\n",
       "      <td>33.770</td>\n",
       "      <td>1</td>\n",
       "      <td>0</td>\n",
       "      <td>2</td>\n",
       "      <td>1725.55230</td>\n",
       "      <td>1</td>\n",
       "    </tr>\n",
       "    <tr>\n",
       "      <th>2</th>\n",
       "      <td>28</td>\n",
       "      <td>1</td>\n",
       "      <td>33.000</td>\n",
       "      <td>3</td>\n",
       "      <td>0</td>\n",
       "      <td>2</td>\n",
       "      <td>4449.46200</td>\n",
       "      <td>0</td>\n",
       "    </tr>\n",
       "    <tr>\n",
       "      <th>3</th>\n",
       "      <td>33</td>\n",
       "      <td>1</td>\n",
       "      <td>22.705</td>\n",
       "      <td>0</td>\n",
       "      <td>0</td>\n",
       "      <td>1</td>\n",
       "      <td>21984.47061</td>\n",
       "      <td>0</td>\n",
       "    </tr>\n",
       "    <tr>\n",
       "      <th>4</th>\n",
       "      <td>32</td>\n",
       "      <td>1</td>\n",
       "      <td>28.880</td>\n",
       "      <td>0</td>\n",
       "      <td>0</td>\n",
       "      <td>1</td>\n",
       "      <td>3866.85520</td>\n",
       "      <td>1</td>\n",
       "    </tr>\n",
       "  </tbody>\n",
       "</table>\n",
       "</div>"
      ],
      "text/plain": [
       "   age  sex     bmi  children  smoker  region      charges  insuranceclaim\n",
       "0   19    0  27.900         0       1       3  16884.92400               1\n",
       "1   18    1  33.770         1       0       2   1725.55230               1\n",
       "2   28    1  33.000         3       0       2   4449.46200               0\n",
       "3   33    1  22.705         0       0       1  21984.47061               0\n",
       "4   32    1  28.880         0       0       1   3866.85520               1"
      ]
     },
     "execution_count": 51,
     "metadata": {},
     "output_type": "execute_result"
    }
   ],
   "source": [
    "medical.head()"
   ]
  },
  {
   "cell_type": "markdown",
   "metadata": {},
   "source": [
    "__Q1:__ Plot the histogram of charges and calculate the mean and standard deviation. Comment on the appropriateness of these statistics for the data."
   ]
  },
  {
   "cell_type": "markdown",
   "metadata": {},
   "source": [
    "__A:__"
   ]
  },
  {
   "cell_type": "code",
   "execution_count": 52,
   "metadata": {},
   "outputs": [
    {
     "name": "stdout",
     "output_type": "stream",
     "text": [
      "Mean: 13270.42\n",
      "Std Dev: 12110.01\n"
     ]
    },
    {
     "data": {
      "text/plain": [
       "[]"
      ]
     },
     "execution_count": 52,
     "metadata": {},
     "output_type": "execute_result"
    },
    {
     "data": {
      "image/png": "[encoded data removed]",
      "text/plain": [
       "<Figure size 640x480 with 1 Axes>"
      ]
     },
     "metadata": {},
     "output_type": "display_data"
    }
   ],
   "source": [
    "charges_mean = medical['charges'].mean()\n",
    "charges_std = medical['charges'].std()\n",
    "\n",
    "print(f'Mean: {round(charges_mean, 2)}')\n",
    "print(f'Std Dev: {round(charges_std, 2)}')\n",
    "\n",
    "ax = medical.hist('charges', bins = 15)\n",
    "plt.grid(visible=None)\n",
    "plt.xlabel(\"Amount in dollars\")\n",
    "plt.ylabel(\"counts of charges\")\n",
    "plt.title(\"Histogram of charges\")\n",
    "plt.arrow(x=charges_mean, y=300, dx=charges_std, dy=0, color='g', ls='-.')\n",
    "plt.text(x=charges_mean + 500, y= 310, s='stdrd dev:\\n' + '$' + str(round(charges_std, 2)), color='g')\n",
    "plt.axvline(charges_mean, color='r')\n",
    "plt.text(charges_mean + 500, 100, 'charges mean: ' + '$' + str(round(charges_mean, 2)), rotation=90, color = 'r')\n",
    "plt.axvline(charges_mean + charges_std, color='r', linestyle='--')\n",
    "plt.text(charges_mean + charges_std + 500, 100, '1 standard deviation above the mean', rotation=90, color = 'r')\n",
    "plt.axvline(charges_mean - charges_std, color='r', linestyle='--')\n",
    "plt.text(charges_mean - charges_std + 500, 100, '1 standard deviation below the mean', rotation=90, color = 'r')\n",
    "plt.plot()"
   ]
  },
  {
   "cell_type": "code",
   "execution_count": 53,
   "metadata": {},
   "outputs": [
    {
     "name": "stdout",
     "output_type": "stream",
     "text": [
      "Median: 9382.03\n",
      "Std Dev: 12110.01\n"
     ]
    },
    {
     "data": {
      "text/plain": [
       "[]"
      ]
     },
     "execution_count": 53,
     "metadata": {},
     "output_type": "execute_result"
    },
    {
     "data": {
      "image/png": "[encoded data removed]",
      "text/plain": [
       "<Figure size 640x480 with 1 Axes>"
      ]
     },
     "metadata": {},
     "output_type": "display_data"
    }
   ],
   "source": [
    "charges_median = medical['charges'].median()\n",
    "charges_std = medical['charges'].std()\n",
    "\n",
    "print(f'Median: {round(charges_median, 2)}')\n",
    "print(f'Std Dev: {round(charges_std, 2)}')\n",
    "\n",
    "ax = medical.hist('charges', bins = 15)\n",
    "plt.grid(visible=None)\n",
    "plt.xlabel(\"Amount in dollars\")\n",
    "plt.ylabel(\"counts of charges\")\n",
    "plt.title(\"Histogram of charges\")\n",
    "plt.arrow(x=charges_median, y=300, dx=charges_std, dy=0, color='g', ls='-.')\n",
    "plt.text(x=charges_median + 500, y= 310, s='stdrd dev:\\n' + '$' + str(round(charges_std, 2)), color='g')\n",
    "plt.axvline(charges_median, color='r')\n",
    "plt.text(charges_median + 500, 100, 'charges mean: ' + '$' + str(round(charges_median, 2)), rotation=90, color = 'r')\n",
    "plt.axvline(charges_median + charges_std, color='r', linestyle='--')\n",
    "plt.text(charges_median + charges_std + 500, 100, '1 standard deviation above the mean', rotation=90, color = 'r')\n",
    "plt.axvline(charges_median - charges_std, color='r', linestyle='--')\n",
    "plt.text(charges_median - charges_std + 500, 100, '1 standard deviation below the mean', rotation=90, color = 'r')\n",
    "plt.plot()"
   ]
  },
  {
   "cell_type": "markdown",
   "metadata": {},
   "source": [
    "As per the histogram, using the mean is absolutely inappropriate given the the extreme values of some bills which heavily pulls the mean to the right, the median in terms of counts of bills would be a more accurate reflection of the data, the strength of the outliers has also increased the size of the the standard deviation such that when graphed 1 standard deviation below the mean results in the end or near end of the available values but 1 standard deviation above still has ample space to increase."
   ]
  },
  {
   "cell_type": "markdown",
   "metadata": {},
   "source": [
    "__Q2:__ The administrator is concerned that the actual average charge has fallen below 12,000, threatening the hospital's operational model. On the assumption that these data represent a random sample of charges, how would you justify that these data allow you to answer that question? And what would be the most appropriate frequentist test, of the ones discussed so far, to apply?"
   ]
  },
  {
   "cell_type": "markdown",
   "metadata": {},
   "source": [
    "__A:__\n",
    "That's a difficult question to answer: Firstly, the Mean or we could say perhaps conventional average is well respectably above 12,000. However the Median which would likely give the more accurate representation of the average given the right leaning data we have in the histogram, which sits currently at 9,382.03 in value.  With all of that said however there's a Standard Deviation of 12,110.01 which essentially indicates that the administrator's concerns about falling below the margin are likely to be valid.  This dataset should be enough to better validate that question, provided that the sampeling was random and accurate.\n"
   ]
  },
  {
   "cell_type": "markdown",
   "metadata": {},
   "source": [
    "__Q3:__ Given the nature of the administrator's concern, what is the appropriate confidence interval in this case? A ***one-sided*** or ***two-sided*** interval? (Refresh your understanding of this concept on p. 399 of the *AoS*). Calculate the critical value and the relevant 95% confidence interval for the mean, and comment on whether the administrator should be concerned."
   ]
  },
  {
   "cell_type": "markdown",
   "metadata": {},
   "source": [
    "__A:__"
   ]
  },
  {
   "cell_type": "code",
   "execution_count": 64,
   "metadata": {},
   "outputs": [
    {
     "name": "stdout",
     "output_type": "stream",
     "text": [
      "Percent below 12000: 0.69\n",
      "Percent above 12000: 0.31\n"
     ]
    }
   ],
   "source": [
    "below_12000 = medical[medical['charges'] <= charges_mean]['charges'].value_counts().sum()\n",
    "above_12000 = medical[medical['charges'] > charges_mean]['charges'].value_counts().sum()\n",
    "total = below_12000 + above_12000\n",
    "below_pct = below_12000 / total\n",
    "above_pct = 1 - below_pct\n",
    "\n",
    "print(f'Percent below 12000: {np.round(below_pct,2)}\\nPercent above 12000: {np.round(above_pct, 2)}')"
   ]
  },
  {
   "cell_type": "code",
   "execution_count": 75,
   "metadata": {},
   "outputs": [],
   "source": [
    "def sample(below, n=1000):\n",
    "    return pd.DataFrame({'Above_or_Below_12000': np.where(np.random.rand(n) < below, 'below', 'above')})"
   ]
  },
  {
   "cell_type": "code",
   "execution_count": 76,
   "metadata": {},
   "outputs": [],
   "source": [
    "bootstrap = sample(0.69)"
   ]
  },
  {
   "cell_type": "code",
   "execution_count": 77,
   "metadata": {},
   "outputs": [
    {
     "data": {
      "text/plain": [
       "Above_or_Below_12000\n",
       "below    0.699\n",
       "above    0.301\n",
       "Name: proportion, dtype: float64"
      ]
     },
     "execution_count": 77,
     "metadata": {},
     "output_type": "execute_result"
    }
   ],
   "source": [
    "bootstrap['Above_or_Below_12000'].value_counts(normalize=True)"
   ]
  },
  {
   "cell_type": "code",
   "execution_count": 78,
   "metadata": {},
   "outputs": [],
   "source": [
    "dist = pd.DataFrame([sample(0.69).Above_or_Below_12000.value_counts(normalize=True) for i in range(1000)])"
   ]
  },
  {
   "cell_type": "code",
   "execution_count": 79,
   "metadata": {},
   "outputs": [
    {
     "data": {
      "text/html": [
       "<div>\n",
       "<style scoped>\n",
       "    .dataframe tbody tr th:only-of-type {\n",
       "        vertical-align: middle;\n",
       "    }\n",
       "\n",
       "    .dataframe tbody tr th {\n",
       "        vertical-align: top;\n",
       "    }\n",
       "\n",
       "    .dataframe thead th {\n",
       "        text-align: right;\n",
       "    }\n",
       "</style>\n",
       "<table border=\"1\" class=\"dataframe\">\n",
       "  <thead>\n",
       "    <tr style=\"text-align: right;\">\n",
       "      <th>Above_or_Below_12000</th>\n",
       "      <th>below</th>\n",
       "      <th>above</th>\n",
       "    </tr>\n",
       "  </thead>\n",
       "  <tbody>\n",
       "    <tr>\n",
       "      <th>proportion</th>\n",
       "      <td>0.680</td>\n",
       "      <td>0.320</td>\n",
       "    </tr>\n",
       "    <tr>\n",
       "      <th>proportion</th>\n",
       "      <td>0.680</td>\n",
       "      <td>0.320</td>\n",
       "    </tr>\n",
       "    <tr>\n",
       "      <th>proportion</th>\n",
       "      <td>0.697</td>\n",
       "      <td>0.303</td>\n",
       "    </tr>\n",
       "    <tr>\n",
       "      <th>proportion</th>\n",
       "      <td>0.696</td>\n",
       "      <td>0.304</td>\n",
       "    </tr>\n",
       "    <tr>\n",
       "      <th>proportion</th>\n",
       "      <td>0.727</td>\n",
       "      <td>0.273</td>\n",
       "    </tr>\n",
       "  </tbody>\n",
       "</table>\n",
       "</div>"
      ],
      "text/plain": [
       "Above_or_Below_12000  below  above\n",
       "proportion            0.680  0.320\n",
       "proportion            0.680  0.320\n",
       "proportion            0.697  0.303\n",
       "proportion            0.696  0.304\n",
       "proportion            0.727  0.273"
      ]
     },
     "execution_count": 79,
     "metadata": {},
     "output_type": "execute_result"
    }
   ],
   "source": [
    "dist.head()"
   ]
  },
  {
   "cell_type": "code",
   "execution_count": 80,
   "metadata": {},
   "outputs": [
    {
     "data": {
      "text/plain": [
       "<Axes: >"
      ]
     },
     "execution_count": 80,
     "metadata": {},
     "output_type": "execute_result"
    },
    {
     "data": {
      "image/png": "[encoded data removed]",
      "text/plain": [
       "<Figure size 640x480 with 1 Axes>"
      ]
     },
     "metadata": {},
     "output_type": "display_data"
    }
   ],
   "source": [
    "dist.below.hist(histtype='step', bins= 20)"
   ]
  },
  {
   "cell_type": "code",
   "execution_count": 81,
   "metadata": {},
   "outputs": [],
   "source": [
    "def samplingdist(ratio, n=1000):\n",
    "    return pd.DataFrame([sample(ratio, n).Above_or_Below_12000.value_counts(normalize=True) for i in range(1000)])"
   ]
  },
  {
   "cell_type": "code",
   "execution_count": 82,
   "metadata": {},
   "outputs": [],
   "source": [
    "def quantiles(ratio, n=1000):\n",
    "    dist = samplingdist(ratio, n)\n",
    "    return dist.below.quantile(0.025), dist.below.quantile(0.05), dist.below.quantile(0.95), dist.below.quantile(0.975)"
   ]
  },
  {
   "cell_type": "code",
   "execution_count": 83,
   "metadata": {},
   "outputs": [
    {
     "data": {
      "text/plain": [
       "(0.6808974999999999, 0.6822, 0.6973, 0.6985025)"
      ]
     },
     "execution_count": 83,
     "metadata": {},
     "output_type": "execute_result"
    }
   ],
   "source": [
    "quantiles(0.69, n=10000)"
   ]
  },
  {
   "cell_type": "markdown",
   "metadata": {},
   "source": [
    "__A.__ The Appropriate confidence interval would be two-sided at %95 confidence, so from %2.5 to %97.5 of the mean of $13,270.42.  Since such a high percentage of the bills from the hospital are at this value or less, approx. %69 percent, this causes a very left leaning distribution which when calculating the two-sided confidence interval, leads to %69 +/- %0.88.  We took the average of the 2 convidence intervals as there was a distance of %0.91 on the left side of the mean of 69, and %0.85 on the right.  The cause for the disparity is the left leaning data which is expected due to the higher mean ratio at 69%.\n",
    "\n",
    "What all that numerical mumbo jumbo means is that approx %69 of the time, give or take a little less than a %, the hospitals charges are less than or equal to the mean $13,270.42, which means that the administrator needs to be very concerned."
   ]
  },
  {
   "cell_type": "markdown",
   "metadata": {},
   "source": [
    "The administrator then wants to know whether people with insurance really are charged a different amount to those without.\n",
    "\n",
    "__Q4:__ State the null and alternative hypothesis here. Use the _t_-test for the difference between means, where the pooled standard deviation of the two groups is given by:\n",
    "\\begin{equation}\n",
    "s_p = \\sqrt{\\frac{(n_0 - 1)s^2_0 + (n_1 - 1)s^2_1}{n_0 + n_1 - 2}}\n",
    "\\end{equation}\n",
    "\n",
    "and the *t*-test statistic is then given by:\n",
    "\n",
    "\\begin{equation}\n",
    "t = \\frac{\\bar{x}_0 - \\bar{x}_1}{s_p \\sqrt{1/n_0 + 1/n_1}}.\n",
    "\\end{equation}\n",
    "\n",
    "(If you need some reminding of the general definition of ***t-statistic***, check out the definition on p. 404 of *AoS*). \n",
    "\n",
    "What assumption about the variances of the two groups are we making here?"
   ]
  },
  {
   "cell_type": "markdown",
   "metadata": {},
   "source": [
    "__A:__\n",
    "- Null Hypothesis: There is no difference in the charges between patients with insurance and those without.\n",
    "- Alt. Hypothesis: There is a significant difference in the charges between patients with insurance and those without."
   ]
  },
  {
   "cell_type": "markdown",
   "metadata": {},
   "source": [
    "__Q5:__ Perform this hypothesis test both manually, using the above formulae, and then using the appropriate function from [scipy.stats](https://docs.scipy.org/doc/scipy/reference/stats.html#statistical-tests) (hint, you're looking for a function to perform a _t_-test on two independent samples). For the manual approach, calculate the value of the test statistic and then its probability (the p-value). Verify you get the same results from both."
   ]
  },
  {
   "cell_type": "markdown",
   "metadata": {},
   "source": [
    "__A:__ "
   ]
  },
  {
   "cell_type": "code",
   "execution_count": 104,
   "metadata": {},
   "outputs": [],
   "source": [
    "medicalwithinsurance = medical[medical['insuranceclaim'] == 1]\n",
    "medicalnoinsurance = medical[medical['insuranceclaim'] == 0]"
   ]
  },
  {
   "cell_type": "code",
   "execution_count": 109,
   "metadata": {},
   "outputs": [
    {
     "name": "stdout",
     "output_type": "stream",
     "text": [
      "Mean: 16423.93\n",
      "Std Dev: 14045.93\n",
      "Num of observations: 783\n"
     ]
    },
    {
     "data": {
      "text/plain": [
       "[]"
      ]
     },
     "execution_count": 109,
     "metadata": {},
     "output_type": "execute_result"
    },
    {
     "data": {
      "image/png": "[encoded data removed]",
      "text/plain": [
       "<Figure size 640x480 with 1 Axes>"
      ]
     },
     "metadata": {},
     "output_type": "display_data"
    }
   ],
   "source": [
    "wi_charges_mean = medicalwithinsurance['charges'].mean()\n",
    "wi_charges_std = medicalwithinsurance['charges'].std()\n",
    "\n",
    "print(f'Mean: {round(wi_charges_mean, 2)}')\n",
    "print(f'Std Dev: {round(wi_charges_std, 2)}')\n",
    "print(f'Num of observations: {len(medicalwithinsurance)}')\n",
    "\n",
    "ax = medicalwithinsurance.hist('charges', bins = 15)\n",
    "plt.grid(visible=None)\n",
    "plt.xlabel(\"Amount in dollars\")\n",
    "plt.ylabel(\"counts of charges\")\n",
    "plt.title(\"Histogram of charges (has insurance)\")\n",
    "plt.arrow(x=wi_charges_mean, y=300, dx=wi_charges_std, dy=0, color='g', ls='-.')\n",
    "plt.text(x=wi_charges_mean + 500, y=275, s='stdrd dev:\\n' + '$' + str(round(wi_charges_std, 2)), color='g')\n",
    "plt.axvline(wi_charges_mean, color='r')\n",
    "plt.text(wi_charges_mean + 500, 100, 'charges mean: ' + '$' + str(round(wi_charges_mean, 2)), rotation=90, color = 'r')\n",
    "plt.axvline(wi_charges_mean + wi_charges_std, color='r', linestyle='--')\n",
    "plt.text(wi_charges_mean + wi_charges_std + 500, 100, '1 standard deviation above the mean', rotation=90, color = 'r')\n",
    "plt.axvline(wi_charges_mean - wi_charges_std, color='r', linestyle='--')\n",
    "plt.text(wi_charges_mean - wi_charges_std + 500, 100, '1 standard deviation below the mean', rotation=90, color = 'r')\n",
    "plt.plot()"
   ]
  },
  {
   "cell_type": "code",
   "execution_count": 106,
   "metadata": {},
   "outputs": [
    {
     "name": "stdout",
     "output_type": "stream",
     "text": [
      "Mean: 8821.42\n",
      "Std Dev: 6446.51\n",
      "Num of observations: 555\n"
     ]
    },
    {
     "data": {
      "text/plain": [
       "[]"
      ]
     },
     "execution_count": 106,
     "metadata": {},
     "output_type": "execute_result"
    },
    {
     "data": {
      "image/png": "[encoded data removed]",
      "text/plain": [
       "<Figure size 640x480 with 1 Axes>"
      ]
     },
     "metadata": {},
     "output_type": "display_data"
    }
   ],
   "source": [
    "ni_charges_mean = medicalnoinsurance['charges'].mean()\n",
    "ni_charges_std = medicalnoinsurance['charges'].std()\n",
    "\n",
    "print(f'Mean: {round(ni_charges_mean, 2)}')\n",
    "print(f'Std Dev: {round(ni_charges_std, 2)}')\n",
    "print(f'Num of observations: {len(medicalnoinsurance)}')\n",
    "\n",
    "ax = medicalnoinsurance.hist('charges', bins = 15)\n",
    "plt.grid(visible=None)\n",
    "plt.xlabel(\"Amount in dollars\")\n",
    "plt.ylabel(\"counts of charges\")\n",
    "plt.title(\"Histogram of charges (No Insurance)\")\n",
    "plt.arrow(x=ni_charges_mean, y=300, dx=ni_charges_std, dy=0, color='g', ls='-.')\n",
    "plt.text(x=ni_charges_mean + 500, y= 270, s='stdrd dev:\\n' + '$' + str(round(ni_charges_std, 2)), color='g')\n",
    "plt.axvline(ni_charges_mean, color='r')\n",
    "plt.text(ni_charges_mean + 500, 100, 'charges mean: ' + '$' + str(round(ni_charges_mean, 2)), rotation=90, color = 'r')\n",
    "plt.axvline(ni_charges_mean + ni_charges_std, color='r', linestyle='--')\n",
    "plt.text(ni_charges_mean + ni_charges_std + 500, 100, '1 standard deviation above the mean', rotation=90, color = 'r')\n",
    "plt.axvline(ni_charges_mean - ni_charges_std, color='r', linestyle='--')\n",
    "plt.text(ni_charges_mean - ni_charges_std + 500, 100, '1 standard deviation below the mean', rotation=90, color = 'r')\n",
    "plt.plot()"
   ]
  },
  {
   "cell_type": "code",
   "execution_count": 107,
   "metadata": {},
   "outputs": [
    {
     "name": "stdout",
     "output_type": "stream",
     "text": [
      "11520.03\n"
     ]
    }
   ],
   "source": [
    "std_pooled = round(np.sqrt((((782 * (wi_charges_std ** 2)) + (554 * (ni_charges_std ** 2))) / (782 + 554))), 2)\n",
    "print(std_pooled)"
   ]
  },
  {
   "cell_type": "code",
   "execution_count": 108,
   "metadata": {},
   "outputs": [
    {
     "name": "stdout",
     "output_type": "stream",
     "text": [
      "11.893303437967722\n"
     ]
    }
   ],
   "source": [
    "t_stat = (wi_charges_mean - ni_charges_mean) / (std_pooled * np.sqrt(((1 / 783) + (1 / 555))))\n",
    "print(t_stat)"
   ]
  },
  {
   "cell_type": "code",
   "execution_count": 114,
   "metadata": {},
   "outputs": [
    {
     "data": {
      "text/plain": [
       "[16884.924,\n",
       " 1725.5523,\n",
       " 3866.8552,\n",
       " 8240.5896,\n",
       " 2721.3208,\n",
       " 27808.7251,\n",
       " 1826.843,\n",
       " 11090.7178,\n",
       " 39611.7577,\n",
       " 10797.3362,\n",
       " 10602.385,\n",
       " 36837.467,\n",
       " 13228.84695,\n",
       " 4149.736,\n",
       " 1137.011,\n",
       " 37701.8768,\n",
       " 14001.1338,\n",
       " 2775.19215,\n",
       " 38711.0,\n",
       " 35585.576,\n",
       " 2198.18985,\n",
       " 13770.0979,\n",
       " 51194.55914,\n",
       " 39774.2763,\n",
       " 48173.361,\n",
       " 3046.062,\n",
       " 20630.28351,\n",
       " 3556.9223,\n",
       " 38709.176,\n",
       " 2211.13075,\n",
       " 23568.272,\n",
       " 37742.5757,\n",
       " 47496.49445,\n",
       " 34303.1672,\n",
       " 23244.7902,\n",
       " 8606.2174,\n",
       " 14711.7438,\n",
       " 1743.214,\n",
       " 14235.072,\n",
       " 5920.1041,\n",
       " 16577.7795,\n",
       " 11741.726,\n",
       " 11946.6259,\n",
       " 7726.854,\n",
       " 11356.6609,\n",
       " 1532.4697,\n",
       " 2755.02095,\n",
       " 6571.02435,\n",
       " 7935.29115,\n",
       " 37165.1638,\n",
       " 39836.519,\n",
       " 21098.55405,\n",
       " 43578.9394,\n",
       " 11073.176,\n",
       " 8026.6666,\n",
       " 11082.5772,\n",
       " 2026.9741,\n",
       " 30184.9367,\n",
       " 47291.055,\n",
       " 10226.2842,\n",
       " 22412.6485,\n",
       " 15820.699,\n",
       " 6186.127,\n",
       " 21344.8467,\n",
       " 30942.1918,\n",
       " 17560.37975,\n",
       " 2867.1196,\n",
       " 47055.5321,\n",
       " 10825.2537,\n",
       " 11881.358,\n",
       " 4646.759,\n",
       " 2404.7338,\n",
       " 30259.99556,\n",
       " 11381.3254,\n",
       " 19107.7796,\n",
       " 8601.3293,\n",
       " 7740.337,\n",
       " 2257.47525,\n",
       " 39556.4945,\n",
       " 3385.39915,\n",
       " 17081.08,\n",
       " 9634.538,\n",
       " 12815.44495,\n",
       " 11163.568,\n",
       " 2457.21115,\n",
       " 2155.6815,\n",
       " 1261.442,\n",
       " 2166.732,\n",
       " 3490.5491,\n",
       " 40720.55105,\n",
       " 9877.6077,\n",
       " 10959.6947,\n",
       " 7789.635,\n",
       " 19964.7463,\n",
       " 6948.7008,\n",
       " 21223.6758,\n",
       " 15518.18025,\n",
       " 36950.2567,\n",
       " 19749.38338,\n",
       " 21348.706,\n",
       " 36149.4835,\n",
       " 10450.552,\n",
       " 5028.1466,\n",
       " 10407.08585,\n",
       " 2719.27975,\n",
       " 13405.3903,\n",
       " 8116.68,\n",
       " 1694.7964,\n",
       " 5246.047,\n",
       " 2855.43755,\n",
       " 48824.45,\n",
       " 8823.279,\n",
       " 11735.87905,\n",
       " 1631.8212,\n",
       " 7419.4779,\n",
       " 43753.33705,\n",
       " 6775.961,\n",
       " 12557.6053,\n",
       " 4883.866,\n",
       " 1137.4697,\n",
       " 1639.5631,\n",
       " 5649.715,\n",
       " 8516.829,\n",
       " 14901.5167,\n",
       " 2130.6759,\n",
       " 8871.1517,\n",
       " 37133.8982,\n",
       " 11743.299,\n",
       " 13880.949,\n",
       " 6610.1097,\n",
       " 1980.07,\n",
       " 7371.772,\n",
       " 10355.641,\n",
       " 5012.471,\n",
       " 10564.8845,\n",
       " 34779.615,\n",
       " 19515.5416,\n",
       " 2689.4954,\n",
       " 24227.33724,\n",
       " 7358.17565,\n",
       " 9225.2564,\n",
       " 7443.64305,\n",
       " 14001.2867,\n",
       " 1615.7667,\n",
       " 17352.6803,\n",
       " 7152.6714,\n",
       " 38511.6283,\n",
       " 29523.1656,\n",
       " 24476.47851,\n",
       " 12648.7034,\n",
       " 1986.9334,\n",
       " 47305.305,\n",
       " 44260.7499,\n",
       " 41097.16175,\n",
       " 13047.33235,\n",
       " 43921.1837,\n",
       " 5400.9805,\n",
       " 33750.2918,\n",
       " 17085.2676,\n",
       " 24869.8368,\n",
       " 36219.40545,\n",
       " 46151.1245,\n",
       " 17179.522,\n",
       " 7441.053,\n",
       " 42856.838,\n",
       " 7265.7025,\n",
       " 2523.1695,\n",
       " 9715.841,\n",
       " 22331.5668,\n",
       " 48549.17835,\n",
       " 11879.10405,\n",
       " 9625.92,\n",
       " 9432.9253,\n",
       " 14256.1928,\n",
       " 47896.79135,\n",
       " 25992.82104,\n",
       " 3172.018,\n",
       " 42112.2356,\n",
       " 2156.7518,\n",
       " 16297.846,\n",
       " 21978.6769,\n",
       " 38746.3551,\n",
       " 24873.3849,\n",
       " 12265.5069,\n",
       " 12646.207,\n",
       " 4151.0287,\n",
       " 11944.59435,\n",
       " 8444.474,\n",
       " 42124.5153,\n",
       " 8124.4084,\n",
       " 34838.873,\n",
       " 9722.7695,\n",
       " 8835.26495,\n",
       " 10435.06525,\n",
       " 7421.19455,\n",
       " 35491.64,\n",
       " 11566.30055,\n",
       " 2866.091,\n",
       " 6600.20595,\n",
       " 42760.5022,\n",
       " 47928.03,\n",
       " 9144.565,\n",
       " 48517.56315,\n",
       " 24393.6224,\n",
       " 13429.0354,\n",
       " 11658.37915,\n",
       " 19144.57652,\n",
       " 13822.803,\n",
       " 41919.097,\n",
       " 18955.22017,\n",
       " 13352.0998,\n",
       " 13217.0945,\n",
       " 13981.85035,\n",
       " 8334.45755,\n",
       " 1635.73365,\n",
       " 3554.203,\n",
       " 12404.8791,\n",
       " 14133.03775,\n",
       " 24603.04837,\n",
       " 9620.3307,\n",
       " 1837.2819,\n",
       " 13844.506,\n",
       " 9778.3472,\n",
       " 7639.41745,\n",
       " 36085.219,\n",
       " 1391.5287,\n",
       " 18033.9679,\n",
       " 38126.2465,\n",
       " 27000.98473,\n",
       " 42303.69215,\n",
       " 20781.48892,\n",
       " 1261.859,\n",
       " 11856.4115,\n",
       " 30284.64294,\n",
       " 2138.0707,\n",
       " 8964.06055,\n",
       " 9290.1395,\n",
       " 16586.49771,\n",
       " 14988.432,\n",
       " 1631.6683,\n",
       " 8083.9198,\n",
       " 14692.66935,\n",
       " 11396.9002,\n",
       " 1621.3402,\n",
       " 19594.80965,\n",
       " 2134.9015,\n",
       " 7345.7266,\n",
       " 9140.951,\n",
       " 14418.2804,\n",
       " 28950.4692,\n",
       " 46889.2612,\n",
       " 46599.1084,\n",
       " 39125.33225,\n",
       " 2727.3951,\n",
       " 7323.734819,\n",
       " 3167.45585,\n",
       " 23082.95533,\n",
       " 5969.723,\n",
       " 12638.195,\n",
       " 2254.7967,\n",
       " 12592.5345,\n",
       " 2897.3235,\n",
       " 4738.2682,\n",
       " 37079.372,\n",
       " 1149.3959,\n",
       " 28287.89766,\n",
       " 26109.32905,\n",
       " 7345.084,\n",
       " 12730.9996,\n",
       " 5910.944,\n",
       " 1769.53165,\n",
       " 4686.3887,\n",
       " 21797.0004,\n",
       " 11840.77505,\n",
       " 10601.412,\n",
       " 22144.032,\n",
       " 15230.32405,\n",
       " 19521.9682,\n",
       " 2497.0383,\n",
       " 2203.47185,\n",
       " 1744.465,\n",
       " 20878.78443,\n",
       " 25382.297,\n",
       " 28868.6639,\n",
       " 35147.52848,\n",
       " 2534.39375,\n",
       " 1534.3045,\n",
       " 1824.2854,\n",
       " 9304.7019,\n",
       " 1622.1885,\n",
       " 9880.068,\n",
       " 4347.02335,\n",
       " 1253.936,\n",
       " 48885.13561,\n",
       " 10461.9794,\n",
       " 1748.774,\n",
       " 12574.049,\n",
       " 1967.0227,\n",
       " 8027.968,\n",
       " 13470.86,\n",
       " 36197.699,\n",
       " 6837.3687,\n",
       " 22218.1149,\n",
       " 32548.3405,\n",
       " 2643.2685,\n",
       " 11455.28,\n",
       " 11763.0009,\n",
       " 2498.4144,\n",
       " 1256.299,\n",
       " 21082.16,\n",
       " 11362.755,\n",
       " 3857.75925,\n",
       " 25656.57526,\n",
       " 3994.1778,\n",
       " 9866.30485,\n",
       " 5397.6167,\n",
       " 38245.59327,\n",
       " 11482.63485,\n",
       " 8342.90875,\n",
       " 48675.5177,\n",
       " 14043.4767,\n",
       " 12925.886,\n",
       " 19214.70553,\n",
       " 13831.1152,\n",
       " 27346.04207,\n",
       " 13887.204,\n",
       " 63770.42801,\n",
       " 10231.4999,\n",
       " 23807.2406,\n",
       " 3268.84665,\n",
       " 11538.421,\n",
       " 3213.62205,\n",
       " 45863.205,\n",
       " 13390.559,\n",
       " 3972.9247,\n",
       " 17878.90068,\n",
       " 8334.5896,\n",
       " 3935.1799,\n",
       " 39983.42595,\n",
       " 1646.4297,\n",
       " 10923.9332,\n",
       " 2494.022,\n",
       " 9058.7303,\n",
       " 2128.43105,\n",
       " 6373.55735,\n",
       " 45702.02235,\n",
       " 3761.292,\n",
       " 31620.00106,\n",
       " 12222.8983,\n",
       " 1664.9996,\n",
       " 58571.07448,\n",
       " 9724.53,\n",
       " 1639.5631,\n",
       " 6356.2707,\n",
       " 43943.8761,\n",
       " 13635.6379,\n",
       " 11842.442,\n",
       " 15359.1045,\n",
       " 5709.1644,\n",
       " 8823.98575,\n",
       " 7640.3092,\n",
       " 5594.8455,\n",
       " 33471.97189,\n",
       " 1633.0444,\n",
       " 9174.13565,\n",
       " 17468.9839,\n",
       " 9283.562,\n",
       " 25678.77845,\n",
       " 39241.442,\n",
       " 2207.69745,\n",
       " 1880.07,\n",
       " 42969.8527,\n",
       " 11658.11505,\n",
       " 23306.547,\n",
       " 34439.8559,\n",
       " 10713.644,\n",
       " 3659.346,\n",
       " 40182.246,\n",
       " 34617.84065,\n",
       " 12129.61415,\n",
       " 3736.4647,\n",
       " 11326.71487,\n",
       " 11365.952,\n",
       " 42983.4585,\n",
       " 10085.846,\n",
       " 1977.815,\n",
       " 3366.6697,\n",
       " 9391.346,\n",
       " 14410.9321,\n",
       " 20149.3229,\n",
       " 13143.86485,\n",
       " 18806.14547,\n",
       " 1712.227,\n",
       " 12430.95335,\n",
       " 10579.711,\n",
       " 8280.6227,\n",
       " 8527.532,\n",
       " 12244.531,\n",
       " 24667.419,\n",
       " 3410.324,\n",
       " 26392.26029,\n",
       " 14394.39815,\n",
       " 6435.6237,\n",
       " 5148.5526,\n",
       " 1136.3994,\n",
       " 27037.9141,\n",
       " 42560.4304,\n",
       " 40003.33225,\n",
       " 45710.20785,\n",
       " 3943.5954,\n",
       " 4399.731,\n",
       " 6185.3208,\n",
       " 46200.9851,\n",
       " 46130.5265,\n",
       " 2585.269,\n",
       " 40103.89,\n",
       " 11244.3769,\n",
       " 7729.64575,\n",
       " 5438.7491,\n",
       " 34806.4677,\n",
       " 2104.1134,\n",
       " 8068.185,\n",
       " 2362.22905,\n",
       " 3577.999,\n",
       " 3201.24515,\n",
       " 40273.6455,\n",
       " 10976.24575,\n",
       " 2020.5523,\n",
       " 9541.69555,\n",
       " 9504.3103,\n",
       " 44400.4064,\n",
       " 10264.4421,\n",
       " 5469.0066,\n",
       " 1984.4533,\n",
       " 12146.971,\n",
       " 10848.1343,\n",
       " 12231.6136,\n",
       " 9875.6804,\n",
       " 12979.358,\n",
       " 1263.249,\n",
       " 40932.4295,\n",
       " 16657.71745,\n",
       " 2217.6012,\n",
       " 6781.3542,\n",
       " 9583.8933,\n",
       " 40419.0191,\n",
       " 36189.1017,\n",
       " 44585.45587,\n",
       " 18246.4955,\n",
       " 43254.41795,\n",
       " 3757.8448,\n",
       " 8827.2099,\n",
       " 9910.35985,\n",
       " 8556.907,\n",
       " 3062.50825,\n",
       " 19539.243,\n",
       " 1906.35825,\n",
       " 14210.53595,\n",
       " 23065.4207,\n",
       " 36307.7983,\n",
       " 19040.876,\n",
       " 3070.8087,\n",
       " 9095.06825,\n",
       " 11842.62375,\n",
       " 8062.764,\n",
       " 14319.031,\n",
       " 11150.78,\n",
       " 12797.20962,\n",
       " 17748.5062,\n",
       " 7448.40395,\n",
       " 9869.8102,\n",
       " 1146.7966,\n",
       " 9386.1613,\n",
       " 24520.264,\n",
       " 12741.16745,\n",
       " 1917.3184,\n",
       " 13457.9608,\n",
       " 5662.225,\n",
       " 1252.407,\n",
       " 21195.818,\n",
       " 18310.742,\n",
       " 11848.141,\n",
       " 17904.52705,\n",
       " 14313.8463,\n",
       " 38792.6856,\n",
       " 1815.8759,\n",
       " 7731.85785,\n",
       " 28476.73499,\n",
       " 2136.88225,\n",
       " 1131.5066,\n",
       " 1877.9294,\n",
       " 23401.30575,\n",
       " 55135.40209,\n",
       " 7445.918,\n",
       " 1621.8827,\n",
       " 8219.2039,\n",
       " 43813.8661,\n",
       " 20773.62775,\n",
       " 39597.4072,\n",
       " 13393.756,\n",
       " 11743.9341,\n",
       " 5377.4578,\n",
       " 7160.3303,\n",
       " 4402.233,\n",
       " 11657.7189,\n",
       " 12622.1795,\n",
       " 1526.312,\n",
       " 36021.0112,\n",
       " 27533.9129,\n",
       " 10072.05505,\n",
       " 45008.9555,\n",
       " 9872.701,\n",
       " 2438.0552,\n",
       " 10601.63225,\n",
       " 37270.1512,\n",
       " 42111.6647,\n",
       " 24106.91255,\n",
       " 1875.344,\n",
       " 40974.1649,\n",
       " 15817.9857,\n",
       " 18218.16139,\n",
       " 10965.446,\n",
       " 46113.511,\n",
       " 1141.4451,\n",
       " 11576.13,\n",
       " 8457.818,\n",
       " 6849.026,\n",
       " 2690.1138,\n",
       " 46255.1125,\n",
       " 19719.6947,\n",
       " 27218.43725,\n",
       " 5272.1758,\n",
       " 1682.597,\n",
       " 11945.1327,\n",
       " 29330.98315,\n",
       " 44202.6536,\n",
       " 13555.0049,\n",
       " 13063.883,\n",
       " 19798.05455,\n",
       " 1634.5734,\n",
       " 48673.5588,\n",
       " 8125.7845,\n",
       " 12644.589,\n",
       " 7633.7206,\n",
       " 17496.306,\n",
       " 33732.6867,\n",
       " 14382.70905,\n",
       " 2473.3341,\n",
       " 21774.32215,\n",
       " 35069.37452,\n",
       " 13041.921,\n",
       " 5245.2269,\n",
       " 13462.52,\n",
       " 4320.41085,\n",
       " 13470.8044,\n",
       " 6289.7549,\n",
       " 2927.0647,\n",
       " 6238.298,\n",
       " 10096.97,\n",
       " 7348.142,\n",
       " 12233.828,\n",
       " 32108.66282,\n",
       " 9487.6442,\n",
       " 9549.5651,\n",
       " 2217.46915,\n",
       " 12982.8747,\n",
       " 11674.13,\n",
       " 7160.094,\n",
       " 39047.285,\n",
       " 6358.77645,\n",
       " 47462.894,\n",
       " 38998.546,\n",
       " 20009.63365,\n",
       " 41999.52,\n",
       " 41034.2214,\n",
       " 28468.91901,\n",
       " 14474.675,\n",
       " 26467.09737,\n",
       " 23967.38305,\n",
       " 10702.6424,\n",
       " 1759.338,\n",
       " 2322.6218,\n",
       " 16138.76205,\n",
       " 7804.1605,\n",
       " 4889.0368,\n",
       " 4518.82625,\n",
       " 14571.8908,\n",
       " 13887.9685,\n",
       " 5267.81815,\n",
       " 34472.841,\n",
       " 21232.18226,\n",
       " 24915.22085,\n",
       " 18767.7377,\n",
       " 8765.249,\n",
       " 5383.536,\n",
       " 8798.593,\n",
       " 35595.5898,\n",
       " 42211.1382,\n",
       " 8569.8618,\n",
       " 2020.177,\n",
       " 16450.8947,\n",
       " 9850.432,\n",
       " 6877.9801,\n",
       " 21677.28345,\n",
       " 44423.803,\n",
       " 4137.5227,\n",
       " 13747.87235,\n",
       " 12950.0712,\n",
       " 37484.4493,\n",
       " 39725.51805,\n",
       " 2250.8352,\n",
       " 20234.85475,\n",
       " 33475.81715,\n",
       " 11394.06555,\n",
       " 21880.82,\n",
       " 44501.3982,\n",
       " 39727.614,\n",
       " 8023.13545,\n",
       " 14394.5579,\n",
       " 25309.489,\n",
       " 10594.50155,\n",
       " 8277.523,\n",
       " 17929.30337,\n",
       " 2480.9791,\n",
       " 4462.7218,\n",
       " 1981.5819,\n",
       " 48970.2476,\n",
       " 8978.1851,\n",
       " 5757.41345,\n",
       " 10928.849,\n",
       " 39871.7043,\n",
       " 13974.45555,\n",
       " 1909.52745,\n",
       " 12096.6512,\n",
       " 8551.347,\n",
       " 2102.2647,\n",
       " 34672.1472,\n",
       " 4076.497,\n",
       " 10796.35025,\n",
       " 11353.2276,\n",
       " 9748.9106,\n",
       " 41676.0811,\n",
       " 11286.5387,\n",
       " 33907.548,\n",
       " 44641.1974,\n",
       " 1674.6323,\n",
       " 23045.56616,\n",
       " 3227.1211,\n",
       " 11253.421,\n",
       " 11363.2832,\n",
       " 20420.60465,\n",
       " 10338.9316,\n",
       " 8988.15875,\n",
       " 10493.9458,\n",
       " 11512.405,\n",
       " 41949.2441,\n",
       " 24180.9335,\n",
       " 10807.4863,\n",
       " 9222.4026,\n",
       " 36124.5737,\n",
       " 38282.7495,\n",
       " 34166.273,\n",
       " 8347.1643,\n",
       " 46661.4424,\n",
       " 18903.49141,\n",
       " 40904.1995,\n",
       " 10214.636,\n",
       " 14358.36437,\n",
       " 3693.428,\n",
       " 20709.02034,\n",
       " 19673.33573,\n",
       " 11085.5868,\n",
       " 3704.3545,\n",
       " 36898.73308,\n",
       " 9048.0273,\n",
       " 52590.82939,\n",
       " 2261.5688,\n",
       " 5979.731,\n",
       " 2203.73595,\n",
       " 12235.8392,\n",
       " 40941.2854,\n",
       " 11015.1747,\n",
       " 39722.7462,\n",
       " 2459.7201,\n",
       " 3989.841,\n",
       " 7727.2532,\n",
       " 2200.83085,\n",
       " 5227.98875,\n",
       " 10982.5013,\n",
       " 6112.35295,\n",
       " 17178.6824,\n",
       " 11093.6229,\n",
       " 2154.361,\n",
       " 23887.6627,\n",
       " 2899.48935,\n",
       " 19350.3689,\n",
       " 7650.77375,\n",
       " 2850.68375,\n",
       " 2632.992,\n",
       " 18328.2381,\n",
       " 37465.34375,\n",
       " 13844.7972,\n",
       " 21771.3423,\n",
       " 13126.67745,\n",
       " 13019.16105,\n",
       " 8671.19125,\n",
       " 33307.5508,\n",
       " 5699.8375,\n",
       " 2055.3249,\n",
       " 9964.06,\n",
       " 38415.474,\n",
       " 20296.86345,\n",
       " 12347.172,\n",
       " 3956.07145,\n",
       " 12890.05765,\n",
       " 41661.602,\n",
       " 26125.67477,\n",
       " 6640.54485,\n",
       " 7162.0122,\n",
       " 10594.2257,\n",
       " 11938.25595,\n",
       " 60021.39897,\n",
       " 20167.33603,\n",
       " 8515.7587,\n",
       " 2699.56835,\n",
       " 12224.35085,\n",
       " 3238.4357,\n",
       " 47269.854,\n",
       " 49577.6624,\n",
       " 3171.6149,\n",
       " 1135.9407,\n",
       " 9101.798,\n",
       " 1633.9618,\n",
       " 37607.5277,\n",
       " 18648.4217,\n",
       " 16232.847,\n",
       " 4415.1588,\n",
       " 6474.013,\n",
       " 26926.5144,\n",
       " 10704.47,\n",
       " 34254.05335,\n",
       " 1880.487,\n",
       " 8615.3,\n",
       " 3292.52985,\n",
       " 3021.80915,\n",
       " 14478.33015,\n",
       " 17043.3414,\n",
       " 2741.948,\n",
       " 4357.04365,\n",
       " 22462.04375,\n",
       " 8283.6807,\n",
       " 24535.69855,\n",
       " 14283.4594,\n",
       " 47403.88,\n",
       " 3732.6251,\n",
       " 38344.566,\n",
       " 7147.4728,\n",
       " 34828.654,\n",
       " 9301.89355,\n",
       " 1708.92575,\n",
       " 62592.87309,\n",
       " 46718.16325,\n",
       " 37829.7242,\n",
       " 21259.37795,\n",
       " 2464.6188,\n",
       " 16115.3045,\n",
       " 33900.653,\n",
       " 4571.41305,\n",
       " 4536.259,\n",
       " 36397.576,\n",
       " 1163.4627,\n",
       " 28101.33305,\n",
       " 12981.3457,\n",
       " 43896.3763,\n",
       " 13143.33665,\n",
       " 7050.0213,\n",
       " 9377.9047,\n",
       " 10325.206,\n",
       " 12629.1656,\n",
       " 10795.93733,\n",
       " 2205.9808,\n",
       " 1629.8335,\n",
       " 29141.3603]"
      ]
     },
     "execution_count": 114,
     "metadata": {},
     "output_type": "execute_result"
    }
   ],
   "source": [
    "p_val = 2 * t.cdf(-abs(t_stat))"
   ]
  },
  {
   "cell_type": "code",
   "execution_count": 115,
   "metadata": {},
   "outputs": [
    {
     "ename": "TypeError",
     "evalue": "_parse_args() got an unexpected keyword argument 'x'",
     "output_type": "error",
     "traceback": [
      "\u001b[0;31m---------------------------------------------------------------------------\u001b[0m",
      "\u001b[0;31mTypeError\u001b[0m                                 Traceback (most recent call last)",
      "Cell \u001b[0;32mIn[115], line 1\u001b[0m\n\u001b[0;32m----> 1\u001b[0m t_stat2, p_val2 \u001b[38;5;241m=\u001b[39m \u001b[43mt\u001b[49m\u001b[43m(\u001b[49m\n\u001b[1;32m      2\u001b[0m \u001b[43m    \u001b[49m\u001b[43mx\u001b[49m\u001b[38;5;241;43m=\u001b[39;49m\u001b[43mmedicalwithinsurance\u001b[49m\u001b[43m[\u001b[49m\u001b[38;5;124;43m'\u001b[39;49m\u001b[38;5;124;43mcharges\u001b[39;49m\u001b[38;5;124;43m'\u001b[39;49m\u001b[43m]\u001b[49m\u001b[43m,\u001b[49m\u001b[43m \u001b[49m\n\u001b[1;32m      3\u001b[0m \u001b[43m    \u001b[49m\u001b[43mq\u001b[49m\u001b[38;5;241;43m=\u001b[39;49m\u001b[43mmedicalnoinsurance\u001b[49m\u001b[43m[\u001b[49m\u001b[38;5;124;43m'\u001b[39;49m\u001b[38;5;124;43mcharges\u001b[39;49m\u001b[38;5;124;43m'\u001b[39;49m\u001b[43m]\u001b[49m\u001b[43m,\u001b[49m\u001b[43m \u001b[49m\n\u001b[1;32m      4\u001b[0m \u001b[43m    \u001b[49m\u001b[43mloc\u001b[49m\u001b[38;5;241;43m=\u001b[39;49m\u001b[43mcharges_mean\u001b[49m\u001b[43m,\u001b[49m\u001b[43m \u001b[49m\n\u001b[1;32m      5\u001b[0m \u001b[43m    \u001b[49m\u001b[43mscale\u001b[49m\u001b[38;5;241;43m=\u001b[39;49m\u001b[43mcharges_std\u001b[49m\n\u001b[1;32m      6\u001b[0m \u001b[43m    \u001b[49m\u001b[43m)\u001b[49m\n\u001b[1;32m      8\u001b[0m \u001b[38;5;28mprint\u001b[39m(\u001b[38;5;124mf\u001b[39m\u001b[38;5;124m\"\u001b[39m\u001b[38;5;124mt-statistic: \u001b[39m\u001b[38;5;132;01m{\u001b[39;00mt_stat2\u001b[38;5;132;01m}\u001b[39;00m\u001b[38;5;124m\"\u001b[39m)\n\u001b[1;32m      9\u001b[0m \u001b[38;5;28mprint\u001b[39m(\u001b[38;5;124mf\u001b[39m\u001b[38;5;124m\"\u001b[39m\u001b[38;5;124mp-value: \u001b[39m\u001b[38;5;132;01m{\u001b[39;00mp_val2\u001b[38;5;132;01m}\u001b[39;00m\u001b[38;5;124m\"\u001b[39m)\n",
      "File \u001b[0;32m~/mambaforge/lib/python3.10/site-packages/scipy/stats/_distn_infrastructure.py:851\u001b[0m, in \u001b[0;36mrv_generic.__call__\u001b[0;34m(self, *args, **kwds)\u001b[0m\n\u001b[1;32m    850\u001b[0m \u001b[38;5;28;01mdef\u001b[39;00m \u001b[38;5;21m__call__\u001b[39m(\u001b[38;5;28mself\u001b[39m, \u001b[38;5;241m*\u001b[39margs, \u001b[38;5;241m*\u001b[39m\u001b[38;5;241m*\u001b[39mkwds):\n\u001b[0;32m--> 851\u001b[0m     \u001b[38;5;28;01mreturn\u001b[39;00m \u001b[38;5;28;43mself\u001b[39;49m\u001b[38;5;241;43m.\u001b[39;49m\u001b[43mfreeze\u001b[49m\u001b[43m(\u001b[49m\u001b[38;5;241;43m*\u001b[39;49m\u001b[43margs\u001b[49m\u001b[43m,\u001b[49m\u001b[43m \u001b[49m\u001b[38;5;241;43m*\u001b[39;49m\u001b[38;5;241;43m*\u001b[39;49m\u001b[43mkwds\u001b[49m\u001b[43m)\u001b[49m\n",
      "File \u001b[0;32m~/mambaforge/lib/python3.10/site-packages/scipy/stats/_distn_infrastructure.py:846\u001b[0m, in \u001b[0;36mrv_generic.freeze\u001b[0;34m(self, *args, **kwds)\u001b[0m\n\u001b[1;32m    831\u001b[0m \u001b[38;5;250m\u001b[39m\u001b[38;5;124;03m\"\"\"Freeze the distribution for the given arguments.\u001b[39;00m\n\u001b[1;32m    832\u001b[0m \n\u001b[1;32m    833\u001b[0m \u001b[38;5;124;03mParameters\u001b[39;00m\n\u001b[0;32m   (...)\u001b[0m\n\u001b[1;32m    843\u001b[0m \n\u001b[1;32m    844\u001b[0m \u001b[38;5;124;03m\"\"\"\u001b[39;00m\n\u001b[1;32m    845\u001b[0m \u001b[38;5;28;01mif\u001b[39;00m \u001b[38;5;28misinstance\u001b[39m(\u001b[38;5;28mself\u001b[39m, rv_continuous):\n\u001b[0;32m--> 846\u001b[0m     \u001b[38;5;28;01mreturn\u001b[39;00m \u001b[43mrv_continuous_frozen\u001b[49m\u001b[43m(\u001b[49m\u001b[38;5;28;43mself\u001b[39;49m\u001b[43m,\u001b[49m\u001b[43m \u001b[49m\u001b[38;5;241;43m*\u001b[39;49m\u001b[43margs\u001b[49m\u001b[43m,\u001b[49m\u001b[43m \u001b[49m\u001b[38;5;241;43m*\u001b[39;49m\u001b[38;5;241;43m*\u001b[39;49m\u001b[43mkwds\u001b[49m\u001b[43m)\u001b[49m\n\u001b[1;32m    847\u001b[0m \u001b[38;5;28;01melse\u001b[39;00m:\n\u001b[1;32m    848\u001b[0m     \u001b[38;5;28;01mreturn\u001b[39;00m rv_discrete_frozen(\u001b[38;5;28mself\u001b[39m, \u001b[38;5;241m*\u001b[39margs, \u001b[38;5;241m*\u001b[39m\u001b[38;5;241m*\u001b[39mkwds)\n",
      "File \u001b[0;32m~/mambaforge/lib/python3.10/site-packages/scipy/stats/_distn_infrastructure.py:467\u001b[0m, in \u001b[0;36mrv_frozen.__init__\u001b[0;34m(self, dist, *args, **kwds)\u001b[0m\n\u001b[1;32m    464\u001b[0m \u001b[38;5;66;03m# create a new instance\u001b[39;00m\n\u001b[1;32m    465\u001b[0m \u001b[38;5;28mself\u001b[39m\u001b[38;5;241m.\u001b[39mdist \u001b[38;5;241m=\u001b[39m dist\u001b[38;5;241m.\u001b[39m\u001b[38;5;18m__class__\u001b[39m(\u001b[38;5;241m*\u001b[39m\u001b[38;5;241m*\u001b[39mdist\u001b[38;5;241m.\u001b[39m_updated_ctor_param())\n\u001b[0;32m--> 467\u001b[0m shapes, _, _ \u001b[38;5;241m=\u001b[39m \u001b[38;5;28;43mself\u001b[39;49m\u001b[38;5;241;43m.\u001b[39;49m\u001b[43mdist\u001b[49m\u001b[38;5;241;43m.\u001b[39;49m\u001b[43m_parse_args\u001b[49m\u001b[43m(\u001b[49m\u001b[38;5;241;43m*\u001b[39;49m\u001b[43margs\u001b[49m\u001b[43m,\u001b[49m\u001b[43m \u001b[49m\u001b[38;5;241;43m*\u001b[39;49m\u001b[38;5;241;43m*\u001b[39;49m\u001b[43mkwds\u001b[49m\u001b[43m)\u001b[49m\n\u001b[1;32m    468\u001b[0m \u001b[38;5;28mself\u001b[39m\u001b[38;5;241m.\u001b[39ma, \u001b[38;5;28mself\u001b[39m\u001b[38;5;241m.\u001b[39mb \u001b[38;5;241m=\u001b[39m \u001b[38;5;28mself\u001b[39m\u001b[38;5;241m.\u001b[39mdist\u001b[38;5;241m.\u001b[39m_get_support(\u001b[38;5;241m*\u001b[39mshapes)\n",
      "\u001b[0;31mTypeError\u001b[0m: _parse_args() got an unexpected keyword argument 'x'"
     ]
    }
   ],
   "source": [
    "t_stat2, p_val2 = t(\n",
    "    x=medicalwithinsurance['charges'], \n",
    "    q=medicalnoinsurance['charges'], \n",
    "    loc=charges_mean, \n",
    "    scale=charges_std\n",
    "    )\n",
    "\n",
    "print(f\"t-statistic: {t_stat2}\")\n",
    "print(f\"p-value: {p_val2}\")"
   ]
  },
  {
   "cell_type": "markdown",
   "metadata": {},
   "source": [
    "Congratulations! Hopefully you got the exact same numerical results. This shows that you correctly calculated the numbers by hand. Secondly, you used the correct function and saw that it's much easier to use. All you need to do is pass your data to it."
   ]
  },
  {
   "cell_type": "markdown",
   "metadata": {},
   "source": [
    "__Q6:__ Conceptual question: look through the documentation for statistical test functions in scipy.stats. You'll see the above _t_-test for a sample, but can you see an equivalent one for performing a *z*-test from a sample? Comment on your answer."
   ]
  },
  {
   "cell_type": "markdown",
   "metadata": {},
   "source": [
    "__A:__"
   ]
  },
  {
   "cell_type": "markdown",
   "metadata": {},
   "source": [
    "## Learning outcomes"
   ]
  },
  {
   "cell_type": "markdown",
   "metadata": {},
   "source": [
    "Having completed this project notebook, you now have good hands-on experience:\n",
    "* using the central limit theorem to help you apply frequentist techniques to answer questions that pertain to very non-normally distributed data from the real world\n",
    "* performing inference using such data to answer business questions\n",
    "* forming a hypothesis and framing the null and alternative hypotheses\n",
    "* testing this using a _t_-test"
   ]
  }
 ],
 "metadata": {
  "kernelspec": {
   "display_name": "Python 3",
   "language": "python",
   "name": "python3"
  },
  "language_info": {
   "codemirror_mode": {
    "name": "ipython",
    "version": 3
   },
   "file_extension": ".py",
   "mimetype": "text/x-python",
   "name": "python",
   "nbconvert_exporter": "python",
   "pygments_lexer": "ipython3",
   "version": "3.10.13"
  }
 },
 "nbformat": 4,
 "nbformat_minor": 2
}
